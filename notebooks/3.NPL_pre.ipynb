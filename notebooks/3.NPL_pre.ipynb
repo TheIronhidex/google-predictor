{
 "cells": [
  {
   "cell_type": "code",
   "execution_count": 81,
   "id": "1800ff1f",
   "metadata": {},
   "outputs": [],
   "source": [
    "import pandas as pd\n",
    "import datetime\n",
    "import os\n",
    "from tqdm import tqdm\n",
    "import codecs\n",
    "import re\n",
    "import string\n",
    "import spacy\n",
    "import es_core_news_sm\n",
    "from datetime import datetime, timedelta\n",
    "import tldextract"
   ]
  },
  {
   "cell_type": "code",
   "execution_count": 79,
   "id": "971d03e1",
   "metadata": {},
   "outputs": [],
   "source": [
    "#%pip install google.cloud"
   ]
  },
  {
   "cell_type": "code",
   "execution_count": 519,
   "id": "de081a45",
   "metadata": {},
   "outputs": [],
   "source": [
    "#%pip install tldextract"
   ]
  },
  {
   "cell_type": "code",
   "execution_count": 2,
   "id": "3c49d583",
   "metadata": {},
   "outputs": [],
   "source": [
    "# Dataset 1 --> representación de entrada única, tipo tabla\n",
    "personal_info = pd.read_csv('/mnt/c/Ironhack/Material/Repositorio/Final/data/output/personal_info.csv')"
   ]
  },
  {
   "cell_type": "code",
   "execution_count": 3,
   "id": "5225dcdf",
   "metadata": {},
   "outputs": [],
   "source": [
    "personal_info['Created on'] = personal_info['Created on'].apply(pd.to_datetime)"
   ]
  },
  {
   "cell_type": "code",
   "execution_count": 4,
   "id": "9e950aff",
   "metadata": {},
   "outputs": [
    {
     "name": "stderr",
     "output_type": "stream",
     "text": [
      "<ipython-input-4-2740362463fa>:2: SettingWithCopyWarning: \n",
      "A value is trying to be set on a copy of a slice from a DataFrame\n",
      "\n",
      "See the caveats in the documentation: https://pandas.pydata.org/pandas-docs/stable/user_guide/indexing.html#returning-a-view-versus-a-copy\n",
      "  personal_info['phone'][i] = personal_info['phone'][i].replace('+', '00')\n"
     ]
    }
   ],
   "source": [
    "for i in range(len(personal_info['phone'])):\n",
    "    personal_info['phone'][i] = personal_info['phone'][i].replace('+', '00')"
   ]
  },
  {
   "cell_type": "code",
   "execution_count": 5,
   "id": "8324809b",
   "metadata": {},
   "outputs": [],
   "source": [
    "personal_info[['phone_', 'country']] = personal_info['phone'].str.split('[', 1, expand=True)"
   ]
  },
  {
   "cell_type": "code",
   "execution_count": 6,
   "id": "9148b3bf",
   "metadata": {},
   "outputs": [],
   "source": [
    "personal_info.drop(columns=['phone'], inplace=True)"
   ]
  },
  {
   "cell_type": "code",
   "execution_count": 7,
   "id": "cfa295c3",
   "metadata": {},
   "outputs": [
    {
     "name": "stderr",
     "output_type": "stream",
     "text": [
      "<ipython-input-7-820afdb3e02d>:2: SettingWithCopyWarning: \n",
      "A value is trying to be set on a copy of a slice from a DataFrame\n",
      "\n",
      "See the caveats in the documentation: https://pandas.pydata.org/pandas-docs/stable/user_guide/indexing.html#returning-a-view-versus-a-copy\n",
      "  personal_info['country'][i] = personal_info['country'][i].replace(']', '')\n"
     ]
    }
   ],
   "source": [
    "for i in range(len(personal_info['country'])):\n",
    "    personal_info['country'][i] = personal_info['country'][i].replace(']', '')"
   ]
  },
  {
   "cell_type": "code",
   "execution_count": 8,
   "id": "665611a3",
   "metadata": {},
   "outputs": [
    {
     "data": {
      "text/html": [
       "<div>\n",
       "<style scoped>\n",
       "    .dataframe tbody tr th:only-of-type {\n",
       "        vertical-align: middle;\n",
       "    }\n",
       "\n",
       "    .dataframe tbody tr th {\n",
       "        vertical-align: top;\n",
       "    }\n",
       "\n",
       "    .dataframe thead th {\n",
       "        text-align: right;\n",
       "    }\n",
       "</style>\n",
       "<table border=\"1\" class=\"dataframe\">\n",
       "  <thead>\n",
       "    <tr style=\"text-align: right;\">\n",
       "      <th></th>\n",
       "      <th>Google Account ID</th>\n",
       "      <th>Created on</th>\n",
       "      <th>IP</th>\n",
       "      <th>Language</th>\n",
       "      <th>e-mail</th>\n",
       "      <th>recovery mail</th>\n",
       "      <th>name</th>\n",
       "      <th>gender</th>\n",
       "      <th>phone_</th>\n",
       "      <th>country</th>\n",
       "    </tr>\n",
       "  </thead>\n",
       "  <tbody>\n",
       "    <tr>\n",
       "      <th>0</th>\n",
       "      <td>907204290308</td>\n",
       "      <td>2017-07-20 08:00:00</td>\n",
       "      <td>213.4.207.110</td>\n",
       "      <td>es</td>\n",
       "      <td>jrdiazordaz03@gmail.com</td>\n",
       "      <td>IronhideX1@gmail.com</td>\n",
       "      <td>Jose Diaz</td>\n",
       "      <td>male</td>\n",
       "      <td>0034615686348</td>\n",
       "      <td>ES</td>\n",
       "    </tr>\n",
       "  </tbody>\n",
       "</table>\n",
       "</div>"
      ],
      "text/plain": [
       "   Google Account ID          Created on              IP Language  \\\n",
       "0       907204290308 2017-07-20 08:00:00   213.4.207.110       es   \n",
       "\n",
       "                    e-mail          recovery mail       name gender  \\\n",
       "0  jrdiazordaz03@gmail.com   IronhideX1@gmail.com  Jose Diaz   male   \n",
       "\n",
       "            phone_ country  \n",
       "0   0034615686348       ES  "
      ]
     },
     "execution_count": 8,
     "metadata": {},
     "output_type": "execute_result"
    }
   ],
   "source": [
    "personal_info.head(1)"
   ]
  },
  {
   "cell_type": "code",
   "execution_count": 63,
   "id": "7d2a43a1",
   "metadata": {},
   "outputs": [],
   "source": [
    "personal_info.to_csv('/mnt/c/Ironhack/Material/Repositorio/Final/data/output/npl/input/dataset_1a.csv', index=False)"
   ]
  },
  {
   "cell_type": "code",
   "execution_count": null,
   "id": "4205015c",
   "metadata": {},
   "outputs": [],
   "source": [
    "////////////////////////////////////////////////////////////////////////////////////////////////////////////////////////////////"
   ]
  },
  {
   "cell_type": "code",
   "execution_count": 9,
   "id": "18c64a1b",
   "metadata": {},
   "outputs": [],
   "source": [
    "# Dataset 2 --> representación de gráficos, tradicionales\n",
    "activity = pd.read_csv('/mnt/c/Ironhack/Material/Repositorio/Final/data/output/activity.csv')"
   ]
  },
  {
   "cell_type": "code",
   "execution_count": 10,
   "id": "e171137c",
   "metadata": {},
   "outputs": [],
   "source": [
    "for i in range(len(activity['date'])):\n",
    "    activity['date'][i] = activity['date'][i].replace('UTC', '')\n",
    "    activity['date'][i].strip()"
   ]
  },
  {
   "cell_type": "code",
   "execution_count": 11,
   "id": "cb89f9bf",
   "metadata": {},
   "outputs": [],
   "source": [
    "activity['date'] = activity['date'].apply(pd.to_datetime)"
   ]
  },
  {
   "cell_type": "code",
   "execution_count": 12,
   "id": "19c53c05",
   "metadata": {},
   "outputs": [
    {
     "data": {
      "text/html": [
       "<div>\n",
       "<style scoped>\n",
       "    .dataframe tbody tr th:only-of-type {\n",
       "        vertical-align: middle;\n",
       "    }\n",
       "\n",
       "    .dataframe tbody tr th {\n",
       "        vertical-align: top;\n",
       "    }\n",
       "\n",
       "    .dataframe thead th {\n",
       "        text-align: right;\n",
       "    }\n",
       "</style>\n",
       "<table border=\"1\" class=\"dataframe\">\n",
       "  <thead>\n",
       "    <tr style=\"text-align: right;\">\n",
       "      <th></th>\n",
       "      <th>ip</th>\n",
       "      <th>activity</th>\n",
       "      <th>date</th>\n",
       "    </tr>\n",
       "  </thead>\n",
       "  <tbody>\n",
       "    <tr>\n",
       "      <th>0</th>\n",
       "      <td>2.136.118.161</td>\n",
       "      <td>Login</td>\n",
       "      <td>2021-12-06 10:27:15</td>\n",
       "    </tr>\n",
       "  </tbody>\n",
       "</table>\n",
       "</div>"
      ],
      "text/plain": [
       "              ip activity                date\n",
       "0  2.136.118.161    Login 2021-12-06 10:27:15"
      ]
     },
     "execution_count": 12,
     "metadata": {},
     "output_type": "execute_result"
    }
   ],
   "source": [
    "activity.head(1)"
   ]
  },
  {
   "cell_type": "code",
   "execution_count": 84,
   "id": "e8500c9e",
   "metadata": {},
   "outputs": [],
   "source": [
    "activity.to_csv('/mnt/c/Ironhack/Material/Repositorio/Final/data/output/npl/input/dataset_2a.csv', index=False)"
   ]
  },
  {
   "cell_type": "code",
   "execution_count": null,
   "id": "bdb515ef",
   "metadata": {},
   "outputs": [],
   "source": [
    "////////////////////////////////////////////////////////////////////////////////////////////////////////////////////////////////"
   ]
  },
  {
   "cell_type": "code",
   "execution_count": 127,
   "id": "44fe5b75",
   "metadata": {},
   "outputs": [],
   "source": [
    "# Dataset 3 --> modelo predictivo sobre las canciones\n",
    "music = pd.read_csv('/mnt/c/Ironhack/Material/Repositorio/Final/data/output/df_music_comb_final.csv')"
   ]
  },
  {
   "cell_type": "code",
   "execution_count": 128,
   "id": "df442557",
   "metadata": {},
   "outputs": [
    {
     "data": {
      "text/plain": [
       "url                                 music.youtube.com/watch?v=6xzN8Nt0Pok\n",
       "title                          I Wanna Dance with Somebody (Who Loves Me)\n",
       "album_x                                                           Whitney\n",
       "artist                                                    Whitney Houston\n",
       "publishedAt                                          2017-02-18T18:29:59Z\n",
       "channelId                                        UCcoxwwIh_afLwJHVBEQw62Q\n",
       "description             Provided to YouTube by Arista/Legacy\\n\\nI Wann...\n",
       "categoryId                                                             10\n",
       "channelTitle                                     UCcoxwwIh_afLwJHVBEQw62Q\n",
       "liveBroadcastContent                                                 none\n",
       "ids                                                           6xzN8Nt0Pok\n",
       "album_y                 {'album_type': 'album', 'artists': [{'external...\n",
       "artists                 [{'external_urls': {'spotify': 'https://open.s...\n",
       "available_markets       ['AD', 'AE', 'AG', 'AL', 'AM', 'AO', 'AR', 'AT...\n",
       "disc_number                                                             1\n",
       "duration_ms                                                        291293\n",
       "explicit                                                            False\n",
       "external_ids                                     {'isrc': 'USAR18700121'}\n",
       "external_urls           {'spotify': 'https://open.spotify.com/track/2t...\n",
       "href                    https://api.spotify.com/v1/tracks/2tUBqZG2AbRi...\n",
       "id                                                 2tUBqZG2AbRi7Q0BIrVrEj\n",
       "is_local                                                            False\n",
       "popularity                                                             83\n",
       "preview_url             https://p.scdn.co/mp3-preview/74416b6f12f77926...\n",
       "track_number                                                            1\n",
       "type                                                                track\n",
       "uri                                  spotify:track:2tUBqZG2AbRi7Q0BIrVrEj\n",
       "reference               https://genius.com/Whitney-houston-i-wanna-dan...\n",
       "lyrics                  huh yeah woo  hey yeah huh ooh yeah uh huh yea...\n",
       "Name: 0, dtype: object"
      ]
     },
     "execution_count": 128,
     "metadata": {},
     "output_type": "execute_result"
    }
   ],
   "source": [
    "music.loc[0]"
   ]
  },
  {
   "cell_type": "code",
   "execution_count": 130,
   "id": "0ec93ee1",
   "metadata": {},
   "outputs": [],
   "source": [
    "music.drop(columns=['description', 'album_y', 'artists', 'is_local', 'publishedAt', 'channelTitle', 'url',\n",
    "                   'external_urls', 'href', 'preview_url', 'id', 'reference', 'uri', 'type', 'external_ids',\n",
    "                   'ids'], inplace=True)"
   ]
  },
  {
   "cell_type": "code",
   "execution_count": 131,
   "id": "856810c7",
   "metadata": {},
   "outputs": [],
   "source": [
    "music.rename(columns={'album_x':'album', 'channelId':'channel', 'liveBroadcastContent':'islive',\n",
    "                     'available_markets':'countries'}, inplace=True)"
   ]
  },
  {
   "cell_type": "code",
   "execution_count": 132,
   "id": "1921d666",
   "metadata": {},
   "outputs": [
    {
     "data": {
      "text/html": [
       "<div>\n",
       "<style scoped>\n",
       "    .dataframe tbody tr th:only-of-type {\n",
       "        vertical-align: middle;\n",
       "    }\n",
       "\n",
       "    .dataframe tbody tr th {\n",
       "        vertical-align: top;\n",
       "    }\n",
       "\n",
       "    .dataframe thead th {\n",
       "        text-align: right;\n",
       "    }\n",
       "</style>\n",
       "<table border=\"1\" class=\"dataframe\">\n",
       "  <thead>\n",
       "    <tr style=\"text-align: right;\">\n",
       "      <th></th>\n",
       "      <th>title</th>\n",
       "      <th>album</th>\n",
       "      <th>artist</th>\n",
       "      <th>channel</th>\n",
       "      <th>categoryId</th>\n",
       "      <th>islive</th>\n",
       "      <th>countries</th>\n",
       "      <th>disc_number</th>\n",
       "      <th>duration_ms</th>\n",
       "      <th>explicit</th>\n",
       "      <th>popularity</th>\n",
       "      <th>track_number</th>\n",
       "      <th>lyrics</th>\n",
       "    </tr>\n",
       "  </thead>\n",
       "  <tbody>\n",
       "    <tr>\n",
       "      <th>0</th>\n",
       "      <td>I Wanna Dance with Somebody (Who Loves Me)</td>\n",
       "      <td>Whitney</td>\n",
       "      <td>Whitney Houston</td>\n",
       "      <td>UCcoxwwIh_afLwJHVBEQw62Q</td>\n",
       "      <td>10</td>\n",
       "      <td>none</td>\n",
       "      <td>['AD', 'AE', 'AG', 'AL', 'AM', 'AO', 'AR', 'AT...</td>\n",
       "      <td>1</td>\n",
       "      <td>291293</td>\n",
       "      <td>False</td>\n",
       "      <td>83</td>\n",
       "      <td>1</td>\n",
       "      <td>huh yeah woo  hey yeah huh ooh yeah uh huh yea...</td>\n",
       "    </tr>\n",
       "  </tbody>\n",
       "</table>\n",
       "</div>"
      ],
      "text/plain": [
       "                                        title    album           artist  \\\n",
       "0  I Wanna Dance with Somebody (Who Loves Me)  Whitney  Whitney Houston   \n",
       "\n",
       "                    channel  categoryId islive  \\\n",
       "0  UCcoxwwIh_afLwJHVBEQw62Q          10   none   \n",
       "\n",
       "                                           countries  disc_number  \\\n",
       "0  ['AD', 'AE', 'AG', 'AL', 'AM', 'AO', 'AR', 'AT...            1   \n",
       "\n",
       "   duration_ms  explicit  popularity  track_number  \\\n",
       "0       291293     False          83             1   \n",
       "\n",
       "                                              lyrics  \n",
       "0  huh yeah woo  hey yeah huh ooh yeah uh huh yea...  "
      ]
     },
     "execution_count": 132,
     "metadata": {},
     "output_type": "execute_result"
    }
   ],
   "source": [
    "music.head(1)"
   ]
  },
  {
   "cell_type": "code",
   "execution_count": 133,
   "id": "f9f96362",
   "metadata": {},
   "outputs": [],
   "source": [
    "music.to_csv('/mnt/c/Ironhack/Material/Repositorio/Final/data/output/npl/input/dataset_3a.csv', index=False)"
   ]
  },
  {
   "cell_type": "code",
   "execution_count": null,
   "id": "9cf25788",
   "metadata": {},
   "outputs": [],
   "source": [
    "////////////////////////////////////////////////////////////////////////////////////////////////////////////////////////////////"
   ]
  },
  {
   "cell_type": "code",
   "execution_count": 15,
   "id": "1ff9641d",
   "metadata": {},
   "outputs": [],
   "source": [
    "# Dataset 2 --> representación de gráficos, tradicionales\n",
    "history = pd.read_csv('/mnt/c/Ironhack/Material/Repositorio/Final/data/output/history.csv')"
   ]
  },
  {
   "cell_type": "code",
   "execution_count": 16,
   "id": "c1b364d9",
   "metadata": {},
   "outputs": [
    {
     "data": {
      "text/html": [
       "<div>\n",
       "<style scoped>\n",
       "    .dataframe tbody tr th:only-of-type {\n",
       "        vertical-align: middle;\n",
       "    }\n",
       "\n",
       "    .dataframe tbody tr th {\n",
       "        vertical-align: top;\n",
       "    }\n",
       "\n",
       "    .dataframe thead th {\n",
       "        text-align: right;\n",
       "    }\n",
       "</style>\n",
       "<table border=\"1\" class=\"dataframe\">\n",
       "  <thead>\n",
       "    <tr style=\"text-align: right;\">\n",
       "      <th></th>\n",
       "      <th>page_transition</th>\n",
       "      <th>title</th>\n",
       "      <th>url</th>\n",
       "      <th>client_id</th>\n",
       "      <th>time_usec</th>\n",
       "    </tr>\n",
       "  </thead>\n",
       "  <tbody>\n",
       "    <tr>\n",
       "      <th>0</th>\n",
       "      <td>LINK</td>\n",
       "      <td>Horarios de autobús 151: Madrid (Plaza Castill...</td>\n",
       "      <td>https://www.redtransporte.com/madrid/autobuses...</td>\n",
       "      <td>x6cQo08w9vTcM7buu4Mugg==</td>\n",
       "      <td>1638781091719312</td>\n",
       "    </tr>\n",
       "  </tbody>\n",
       "</table>\n",
       "</div>"
      ],
      "text/plain": [
       "  page_transition                                              title  \\\n",
       "0            LINK  Horarios de autobús 151: Madrid (Plaza Castill...   \n",
       "\n",
       "                                                 url  \\\n",
       "0  https://www.redtransporte.com/madrid/autobuses...   \n",
       "\n",
       "                  client_id         time_usec  \n",
       "0  x6cQo08w9vTcM7buu4Mugg==  1638781091719312  "
      ]
     },
     "execution_count": 16,
     "metadata": {},
     "output_type": "execute_result"
    }
   ],
   "source": [
    "history.head(1)"
   ]
  },
  {
   "cell_type": "code",
   "execution_count": 17,
   "id": "5e61c66e",
   "metadata": {},
   "outputs": [],
   "source": [
    "history.drop(columns=['client_id'],inplace=True)"
   ]
  },
  {
   "cell_type": "code",
   "execution_count": 18,
   "id": "05af3b04",
   "metadata": {},
   "outputs": [],
   "source": [
    "history['time_usec2']= pd.to_datetime(history['time_usec'],unit='us',utc=True)\n",
    "history['PST_time'] = history['time_usec2'].dt.tz_convert('America/Vancouver')\n",
    "history['month'] = history['PST_time'].dt.month\n",
    "history['hour'] = history['PST_time'].dt.hour\n",
    "history['day_of_week'] = history['PST_time'].dt.day_name()\n",
    "history['weekday'] = history['PST_time'] \\\n",
    "                    .apply(lambda x: \"Y\" if x.weekday()<5 else \"N\")"
   ]
  },
  {
   "cell_type": "code",
   "execution_count": 19,
   "id": "a1231caa",
   "metadata": {},
   "outputs": [],
   "source": [
    "# Parse URL to get domain information\n",
    "def get_domain(x):\n",
    "    if x.startswith('chrome-extension://'):\n",
    "        return \"chrome_extension\"\n",
    "    domain = tldextract.extract(x)[1]\n",
    "    sub_domain = tldextract.extract(x)[0]\n",
    "    if domain == \"google\":\n",
    "        if sub_domain==\"www\":\n",
    "            return \"google_search\"\n",
    "        else:\n",
    "            return sub_domain + \".\" + domain\n",
    "    return domain\n",
    "history['domain'] = history['url'].apply(get_domain)"
   ]
  },
  {
   "cell_type": "code",
   "execution_count": 20,
   "id": "c9b02dc3",
   "metadata": {},
   "outputs": [],
   "source": [
    "history.drop(columns=['time_usec','PST_time'],inplace=True)"
   ]
  },
  {
   "cell_type": "code",
   "execution_count": 27,
   "id": "07b8ba67",
   "metadata": {},
   "outputs": [],
   "source": [
    "history_date = []\n",
    "history_time = []\n",
    "for x in history['time_usec2']:\n",
    "    history_date.append(str(x).split(' ')[0])\n",
    "    history_time.append(str(x).split(' ')[1])"
   ]
  },
  {
   "cell_type": "code",
   "execution_count": 56,
   "id": "7be9039b",
   "metadata": {},
   "outputs": [],
   "source": [
    "history['date'] = history_date\n",
    "history['time'] = history_time"
   ]
  },
  {
   "cell_type": "code",
   "execution_count": 57,
   "id": "2c1b5a1e",
   "metadata": {},
   "outputs": [],
   "source": [
    "temp_ = []\n",
    "for x in history['time']:\n",
    "    temp_.append(str(x).split('+')[0])"
   ]
  },
  {
   "cell_type": "code",
   "execution_count": 58,
   "id": "7f702ebb",
   "metadata": {},
   "outputs": [],
   "source": [
    "history['time'] = temp_"
   ]
  },
  {
   "cell_type": "code",
   "execution_count": 74,
   "id": "81eda684",
   "metadata": {},
   "outputs": [],
   "source": [
    "history.drop(columns=['time_usec2','url'],inplace=True)"
   ]
  },
  {
   "cell_type": "code",
   "execution_count": 75,
   "id": "c928246b",
   "metadata": {},
   "outputs": [
    {
     "data": {
      "text/html": [
       "<div>\n",
       "<style scoped>\n",
       "    .dataframe tbody tr th:only-of-type {\n",
       "        vertical-align: middle;\n",
       "    }\n",
       "\n",
       "    .dataframe tbody tr th {\n",
       "        vertical-align: top;\n",
       "    }\n",
       "\n",
       "    .dataframe thead th {\n",
       "        text-align: right;\n",
       "    }\n",
       "</style>\n",
       "<table border=\"1\" class=\"dataframe\">\n",
       "  <thead>\n",
       "    <tr style=\"text-align: right;\">\n",
       "      <th></th>\n",
       "      <th>page_transition</th>\n",
       "      <th>title</th>\n",
       "      <th>month</th>\n",
       "      <th>hour</th>\n",
       "      <th>day_of_week</th>\n",
       "      <th>weekday</th>\n",
       "      <th>domain</th>\n",
       "      <th>date</th>\n",
       "      <th>time</th>\n",
       "    </tr>\n",
       "  </thead>\n",
       "  <tbody>\n",
       "    <tr>\n",
       "      <th>0</th>\n",
       "      <td>LINK</td>\n",
       "      <td>Horarios de autobús 151: Madrid (Plaza Castill...</td>\n",
       "      <td>12</td>\n",
       "      <td>0</td>\n",
       "      <td>Monday</td>\n",
       "      <td>Y</td>\n",
       "      <td>redtransporte</td>\n",
       "      <td>2021-12-06</td>\n",
       "      <td>08:58:11.719312</td>\n",
       "    </tr>\n",
       "  </tbody>\n",
       "</table>\n",
       "</div>"
      ],
      "text/plain": [
       "  page_transition                                              title  month  \\\n",
       "0            LINK  Horarios de autobús 151: Madrid (Plaza Castill...     12   \n",
       "\n",
       "   hour day_of_week weekday         domain        date             time  \n",
       "0     0      Monday       Y  redtransporte  2021-12-06  08:58:11.719312  "
      ]
     },
     "execution_count": 75,
     "metadata": {},
     "output_type": "execute_result"
    }
   ],
   "source": [
    "history.head(1)"
   ]
  },
  {
   "cell_type": "code",
   "execution_count": 76,
   "id": "2bb9f522",
   "metadata": {},
   "outputs": [],
   "source": [
    "history.to_csv('/mnt/c/Ironhack/Material/Repositorio/Final/data/output/npl/input/dataset_2b.csv', index=False)"
   ]
  },
  {
   "cell_type": "code",
   "execution_count": null,
   "id": "b3043a49",
   "metadata": {},
   "outputs": [],
   "source": [
    "////////////////////////////////////////////////////////////////////////////////////////////////////////////////////////////////"
   ]
  },
  {
   "cell_type": "code",
   "execution_count": 225,
   "id": "67d74914",
   "metadata": {},
   "outputs": [],
   "source": [
    "# Dataset 2 --> representación de gráficos, tradicionales\n",
    "favorites = pd.read_csv('/mnt/c/Ironhack/Material/Repositorio/Final/data/output/favs.csv')"
   ]
  },
  {
   "cell_type": "code",
   "execution_count": 226,
   "id": "d844d2e9",
   "metadata": {},
   "outputs": [
    {
     "data": {
      "text/html": [
       "<div>\n",
       "<style scoped>\n",
       "    .dataframe tbody tr th:only-of-type {\n",
       "        vertical-align: middle;\n",
       "    }\n",
       "\n",
       "    .dataframe tbody tr th {\n",
       "        vertical-align: top;\n",
       "    }\n",
       "\n",
       "    .dataframe thead th {\n",
       "        text-align: right;\n",
       "    }\n",
       "</style>\n",
       "<table border=\"1\" class=\"dataframe\">\n",
       "  <thead>\n",
       "    <tr style=\"text-align: right;\">\n",
       "      <th></th>\n",
       "      <th>description</th>\n",
       "    </tr>\n",
       "  </thead>\n",
       "  <tbody>\n",
       "    <tr>\n",
       "      <th>0</th>\n",
       "      <td>Canciones Simpson 07x04 Jardín del Eden</td>\n",
       "    </tr>\n",
       "  </tbody>\n",
       "</table>\n",
       "</div>"
      ],
      "text/plain": [
       "                                description\n",
       "0  Canciones Simpson 07x04 Jardín del Eden "
      ]
     },
     "execution_count": 226,
     "metadata": {},
     "output_type": "execute_result"
    }
   ],
   "source": [
    "favorites.head(1)"
   ]
  },
  {
   "cell_type": "code",
   "execution_count": null,
   "id": "14a09c07",
   "metadata": {},
   "outputs": [],
   "source": [
    "////////////////////////////////////////////////////////////////////////////////////////////////////////////////////////////////"
   ]
  },
  {
   "cell_type": "code",
   "execution_count": 270,
   "id": "9ed6c079",
   "metadata": {},
   "outputs": [],
   "source": [
    "# Dataset 3 --> modelo predictivo agrupado sobre contenido de emails\n",
    "mail = pd.read_csv('/mnt/c/Ironhack/Material/Repositorio/Final/data/output/mail_2.csv')"
   ]
  },
  {
   "cell_type": "code",
   "execution_count": 271,
   "id": "965fb4a8",
   "metadata": {},
   "outputs": [],
   "source": [
    "mail.drop(columns=(['labels','Subject','thread']), inplace=True)"
   ]
  },
  {
   "cell_type": "code",
   "execution_count": 274,
   "id": "6b8332c5",
   "metadata": {},
   "outputs": [
    {
     "data": {
      "text/html": [
       "<div>\n",
       "<style scoped>\n",
       "    .dataframe tbody tr th:only-of-type {\n",
       "        vertical-align: middle;\n",
       "    }\n",
       "\n",
       "    .dataframe tbody tr th {\n",
       "        vertical-align: top;\n",
       "    }\n",
       "\n",
       "    .dataframe thead th {\n",
       "        text-align: right;\n",
       "    }\n",
       "</style>\n",
       "<table border=\"1\" class=\"dataframe\">\n",
       "  <thead>\n",
       "    <tr style=\"text-align: right;\">\n",
       "      <th></th>\n",
       "      <th>from</th>\n",
       "      <th>to</th>\n",
       "      <th>Time</th>\n",
       "      <th>date</th>\n",
       "      <th>body</th>\n",
       "      <th>quarter</th>\n",
       "    </tr>\n",
       "  </thead>\n",
       "  <tbody>\n",
       "    <tr>\n",
       "      <th>0</th>\n",
       "      <td>provomad@cruzroja.es</td>\n",
       "      <td>jrdiazordaz03@gmail.com</td>\n",
       "      <td>00:57:23</td>\n",
       "      <td>2021-12-03</td>\n",
       "      <td>estimado jose ramon:    los próximos días 14...</td>\n",
       "      <td>FA</td>\n",
       "    </tr>\n",
       "  </tbody>\n",
       "</table>\n",
       "</div>"
      ],
      "text/plain": [
       "                   from                       to       Time        date  \\\n",
       "0  provomad@cruzroja.es  jrdiazordaz03@gmail.com  00:57:23   2021-12-03   \n",
       "\n",
       "                                                body quarter  \n",
       "0  estimado jose ramon:    los próximos días 14...      FA  "
      ]
     },
     "execution_count": 274,
     "metadata": {},
     "output_type": "execute_result"
    }
   ],
   "source": [
    "mail.head(1)"
   ]
  },
  {
   "cell_type": "code",
   "execution_count": 235,
   "id": "edc14fec",
   "metadata": {},
   "outputs": [],
   "source": [
    "mail.to_csv('/mnt/c/Ironhack/Material/Repositorio/Final/data/output/npl/input/dataset_3b.csv', index=False)"
   ]
  },
  {
   "cell_type": "code",
   "execution_count": null,
   "id": "cfb226e0",
   "metadata": {},
   "outputs": [],
   "source": [
    "////////////////////////////////////////////////////////////////////////////////////////////////////////////////////////////////"
   ]
  },
  {
   "cell_type": "markdown",
   "id": "60e2cc5f",
   "metadata": {},
   "source": [
    "## NPL"
   ]
  },
  {
   "cell_type": "code",
   "execution_count": 16,
   "id": "42267f9d",
   "metadata": {},
   "outputs": [
    {
     "name": "stderr",
     "output_type": "stream",
     "text": [
      "[nltk_data] Downloading package punkt to /home/krujo/nltk_data...\n",
      "[nltk_data]   Package punkt is already up-to-date!\n",
      "[nltk_data] Downloading package stopwords to /home/krujo/nltk_data...\n",
      "[nltk_data]   Package stopwords is already up-to-date!\n",
      "[nltk_data] Downloading package wordnet to /home/krujo/nltk_data...\n",
      "[nltk_data]   Package wordnet is already up-to-date!\n"
     ]
    }
   ],
   "source": [
    "import pandas as pd\n",
    "import nltk\n",
    "nltk.download('punkt')\n",
    "from nltk.tokenize import word_tokenize\n",
    "from nltk import pos_tag\n",
    "nltk.download('stopwords')\n",
    "from nltk.corpus import stopwords\n",
    "nltk.download('wordnet')\n",
    "from nltk.corpus import wordnet\n",
    "import re\n",
    "from nltk.stem import WordNetLemmatizer\n",
    "wordnet_lemmatizer = WordNetLemmatizer()\n",
    "\n",
    "from textblob import TextBlob"
   ]
  },
  {
   "cell_type": "code",
   "execution_count": 109,
   "id": "a5fc14c6",
   "metadata": {},
   "outputs": [],
   "source": [
    "lyrics_npl = pd.read_csv('/mnt/c/Ironhack/Material/Repositorio/Final/data/output/npl_favorites.csv')"
   ]
  },
  {
   "cell_type": "code",
   "execution_count": 110,
   "id": "c050bc6e",
   "metadata": {},
   "outputs": [],
   "source": [
    "lyrics_npl.drop(columns=(['description', 'url']), inplace=True)"
   ]
  },
  {
   "cell_type": "code",
   "execution_count": 111,
   "id": "41c4405d",
   "metadata": {},
   "outputs": [],
   "source": [
    "lyrics_npl.rename(columns={'date2':'date', 'desc':'lyrics'}, inplace=True)"
   ]
  },
  {
   "cell_type": "code",
   "execution_count": 112,
   "id": "2ac35057",
   "metadata": {},
   "outputs": [
    {
     "data": {
      "text/html": [
       "<div>\n",
       "<style scoped>\n",
       "    .dataframe tbody tr th:only-of-type {\n",
       "        vertical-align: middle;\n",
       "    }\n",
       "\n",
       "    .dataframe tbody tr th {\n",
       "        vertical-align: top;\n",
       "    }\n",
       "\n",
       "    .dataframe thead th {\n",
       "        text-align: right;\n",
       "    }\n",
       "</style>\n",
       "<table border=\"1\" class=\"dataframe\">\n",
       "  <thead>\n",
       "    <tr style=\"text-align: right;\">\n",
       "      <th></th>\n",
       "      <th>date</th>\n",
       "      <th>lyrics</th>\n",
       "    </tr>\n",
       "  </thead>\n",
       "  <tbody>\n",
       "    <tr>\n",
       "      <th>0</th>\n",
       "      <td>2020-01-13 21:55:10</td>\n",
       "      <td>¿Sabes lo que te digo? - YouTube</td>\n",
       "    </tr>\n",
       "  </tbody>\n",
       "</table>\n",
       "</div>"
      ],
      "text/plain": [
       "                  date                            lyrics\n",
       "0  2020-01-13 21:55:10  ¿Sabes lo que te digo? - YouTube"
      ]
     },
     "execution_count": 112,
     "metadata": {},
     "output_type": "execute_result"
    }
   ],
   "source": [
    "lyrics_npl.head(1)"
   ]
  },
  {
   "cell_type": "code",
   "execution_count": 113,
   "id": "a294b484",
   "metadata": {},
   "outputs": [
    {
     "data": {
      "text/html": [
       "<div>\n",
       "<style scoped>\n",
       "    .dataframe tbody tr th:only-of-type {\n",
       "        vertical-align: middle;\n",
       "    }\n",
       "\n",
       "    .dataframe tbody tr th {\n",
       "        vertical-align: top;\n",
       "    }\n",
       "\n",
       "    .dataframe thead th {\n",
       "        text-align: right;\n",
       "    }\n",
       "</style>\n",
       "<table border=\"1\" class=\"dataframe\">\n",
       "  <thead>\n",
       "    <tr style=\"text-align: right;\">\n",
       "      <th></th>\n",
       "      <th>date</th>\n",
       "      <th>lyrics</th>\n",
       "    </tr>\n",
       "  </thead>\n",
       "  <tbody>\n",
       "    <tr>\n",
       "      <th>0</th>\n",
       "      <td>2020-01-13 21:55:10</td>\n",
       "      <td>Sabes lo que te digo YouTube</td>\n",
       "    </tr>\n",
       "    <tr>\n",
       "      <th>1</th>\n",
       "      <td>2019-07-05 08:57:19</td>\n",
       "      <td>Bruce Springsteen Secret Garden HD Jerry Magui...</td>\n",
       "    </tr>\n",
       "    <tr>\n",
       "      <th>2</th>\n",
       "      <td>2020-02-15 19:19:28</td>\n",
       "      <td>Average White Band Pick up the pieces YouTube</td>\n",
       "    </tr>\n",
       "    <tr>\n",
       "      <th>3</th>\n",
       "      <td>2019-11-21 14:40:31</td>\n",
       "      <td>Def Leppard Love Bites YouTube</td>\n",
       "    </tr>\n",
       "    <tr>\n",
       "      <th>4</th>\n",
       "      <td>2019-09-18 11:58:47</td>\n",
       "      <td>The Matrix Clubbed to Death hours YouTube</td>\n",
       "    </tr>\n",
       "  </tbody>\n",
       "</table>\n",
       "</div>"
      ],
      "text/plain": [
       "                  date                                             lyrics\n",
       "0  2020-01-13 21:55:10                       Sabes lo que te digo YouTube\n",
       "1  2019-07-05 08:57:19  Bruce Springsteen Secret Garden HD Jerry Magui...\n",
       "2  2020-02-15 19:19:28      Average White Band Pick up the pieces YouTube\n",
       "3  2019-11-21 14:40:31                     Def Leppard Love Bites YouTube\n",
       "4  2019-09-18 11:58:47          The Matrix Clubbed to Death hours YouTube"
      ]
     },
     "execution_count": 113,
     "metadata": {},
     "output_type": "execute_result"
    }
   ],
   "source": [
    "def clean(text):\n",
    "# Removes all special characters and numericals leaving the alphabets\n",
    "    text = re.sub('[^A-Za-z]+', ' ', text)\n",
    "    return text\n",
    "\n",
    "# Cleaning the text in the review column\n",
    "lyrics_npl['lyrics'] = lyrics_npl['lyrics'].apply(clean)\n",
    "lyrics_npl.head()"
   ]
  },
  {
   "cell_type": "code",
   "execution_count": 114,
   "id": "f8f4e95b",
   "metadata": {},
   "outputs": [
    {
     "data": {
      "text/html": [
       "<div>\n",
       "<style scoped>\n",
       "    .dataframe tbody tr th:only-of-type {\n",
       "        vertical-align: middle;\n",
       "    }\n",
       "\n",
       "    .dataframe tbody tr th {\n",
       "        vertical-align: top;\n",
       "    }\n",
       "\n",
       "    .dataframe thead th {\n",
       "        text-align: right;\n",
       "    }\n",
       "</style>\n",
       "<table border=\"1\" class=\"dataframe\">\n",
       "  <thead>\n",
       "    <tr style=\"text-align: right;\">\n",
       "      <th></th>\n",
       "      <th>date</th>\n",
       "      <th>lyrics</th>\n",
       "      <th>lyrics_tagged</th>\n",
       "    </tr>\n",
       "  </thead>\n",
       "  <tbody>\n",
       "    <tr>\n",
       "      <th>0</th>\n",
       "      <td>2020-01-13 21:55:10</td>\n",
       "      <td>Sabes lo que te digo YouTube</td>\n",
       "      <td>[(Sabes, n), (lo, n), (que, n), (te, n), (digo...</td>\n",
       "    </tr>\n",
       "    <tr>\n",
       "      <th>1</th>\n",
       "      <td>2019-07-05 08:57:19</td>\n",
       "      <td>Bruce Springsteen Secret Garden HD Jerry Magui...</td>\n",
       "      <td>[(Bruce, n), (Springsteen, n), (Secret, n), (G...</td>\n",
       "    </tr>\n",
       "  </tbody>\n",
       "</table>\n",
       "</div>"
      ],
      "text/plain": [
       "                  date                                             lyrics  \\\n",
       "0  2020-01-13 21:55:10                       Sabes lo que te digo YouTube   \n",
       "1  2019-07-05 08:57:19  Bruce Springsteen Secret Garden HD Jerry Magui...   \n",
       "\n",
       "                                       lyrics_tagged  \n",
       "0  [(Sabes, n), (lo, n), (que, n), (te, n), (digo...  \n",
       "1  [(Bruce, n), (Springsteen, n), (Secret, n), (G...  "
      ]
     },
     "execution_count": 114,
     "metadata": {},
     "output_type": "execute_result"
    }
   ],
   "source": [
    "# POS tagger dictionary\n",
    "pos_dict = {'J':wordnet.ADJ, 'V':wordnet.VERB, 'N':wordnet.NOUN, 'R':wordnet.ADV}\n",
    "def token_stop_pos(text):\n",
    "    tags = pos_tag(word_tokenize(text))\n",
    "    newlist = []\n",
    "    for word, tag in tags:\n",
    "        if word.lower() not in set(stopwords.words('english')):\n",
    "            newlist.append(tuple([word, pos_dict.get(tag[0])]))\n",
    "    return newlist\n",
    "\n",
    "lyrics_npl['lyrics_tagged'] = lyrics_npl['lyrics'].apply(token_stop_pos)\n",
    "lyrics_npl.head(2)"
   ]
  },
  {
   "cell_type": "code",
   "execution_count": 115,
   "id": "338d7950",
   "metadata": {},
   "outputs": [
    {
     "data": {
      "text/html": [
       "<div>\n",
       "<style scoped>\n",
       "    .dataframe tbody tr th:only-of-type {\n",
       "        vertical-align: middle;\n",
       "    }\n",
       "\n",
       "    .dataframe tbody tr th {\n",
       "        vertical-align: top;\n",
       "    }\n",
       "\n",
       "    .dataframe thead th {\n",
       "        text-align: right;\n",
       "    }\n",
       "</style>\n",
       "<table border=\"1\" class=\"dataframe\">\n",
       "  <thead>\n",
       "    <tr style=\"text-align: right;\">\n",
       "      <th></th>\n",
       "      <th>date</th>\n",
       "      <th>lyrics</th>\n",
       "      <th>lyrics_tagged</th>\n",
       "      <th>lyrics_lemma</th>\n",
       "    </tr>\n",
       "  </thead>\n",
       "  <tbody>\n",
       "    <tr>\n",
       "      <th>0</th>\n",
       "      <td>2020-01-13 21:55:10</td>\n",
       "      <td>Sabes lo que te digo YouTube</td>\n",
       "      <td>[(Sabes, n), (lo, n), (que, n), (te, n), (digo...</td>\n",
       "      <td>Sabes lo que te digo YouTube</td>\n",
       "    </tr>\n",
       "  </tbody>\n",
       "</table>\n",
       "</div>"
      ],
      "text/plain": [
       "                  date                         lyrics  \\\n",
       "0  2020-01-13 21:55:10   Sabes lo que te digo YouTube   \n",
       "\n",
       "                                       lyrics_tagged  \\\n",
       "0  [(Sabes, n), (lo, n), (que, n), (te, n), (digo...   \n",
       "\n",
       "                     lyrics_lemma  \n",
       "0    Sabes lo que te digo YouTube  "
      ]
     },
     "execution_count": 115,
     "metadata": {},
     "output_type": "execute_result"
    }
   ],
   "source": [
    "def lemmatize(pos_data):\n",
    "    lemma_rew = \" \"\n",
    "    for word, pos in pos_data:\n",
    "        if not pos:\n",
    "            lemma = word\n",
    "            lemma_rew = lemma_rew + \" \" + lemma\n",
    "        else:\n",
    "            lemma = wordnet_lemmatizer.lemmatize(word, pos=pos)\n",
    "            lemma_rew = lemma_rew + \" \" + lemma\n",
    "    return lemma_rew\n",
    "\n",
    "lyrics_npl['lyrics_lemma'] = lyrics_npl['lyrics_tagged'].apply(lemmatize)\n",
    "lyrics_npl.head(1)"
   ]
  },
  {
   "cell_type": "code",
   "execution_count": 116,
   "id": "6a365d20",
   "metadata": {},
   "outputs": [],
   "source": [
    "# function to calculate subjectivity\n",
    "def getSubjectivity(review):\n",
    "    return TextBlob(review).sentiment.subjectivity\n",
    "    # function to calculate polarity\n",
    "    def getPolarity(review):\n",
    "        return TextBlob(review).sentiment.polarity\n",
    "\n",
    "# function to analyze the reviews\n",
    "def analysis(score):\n",
    "    if score < 0:\n",
    "        return 'Negative'\n",
    "    elif score == 0:\n",
    "        return 'Neutral'\n",
    "    else:\n",
    "        return 'Positive'"
   ]
  },
  {
   "cell_type": "code",
   "execution_count": 117,
   "id": "48cd1511",
   "metadata": {},
   "outputs": [],
   "source": [
    "fin_data = pd.DataFrame(lyrics_npl[['date','lyrics', 'lyrics_lemma']])"
   ]
  },
  {
   "cell_type": "code",
   "execution_count": 118,
   "id": "ab3f48a8",
   "metadata": {},
   "outputs": [
    {
     "data": {
      "text/html": [
       "<div>\n",
       "<style scoped>\n",
       "    .dataframe tbody tr th:only-of-type {\n",
       "        vertical-align: middle;\n",
       "    }\n",
       "\n",
       "    .dataframe tbody tr th {\n",
       "        vertical-align: top;\n",
       "    }\n",
       "\n",
       "    .dataframe thead th {\n",
       "        text-align: right;\n",
       "    }\n",
       "</style>\n",
       "<table border=\"1\" class=\"dataframe\">\n",
       "  <thead>\n",
       "    <tr style=\"text-align: right;\">\n",
       "      <th></th>\n",
       "      <th>date</th>\n",
       "      <th>lyrics</th>\n",
       "      <th>lyrics_lemma</th>\n",
       "      <th>Polarity</th>\n",
       "      <th>Analysis</th>\n",
       "    </tr>\n",
       "  </thead>\n",
       "  <tbody>\n",
       "    <tr>\n",
       "      <th>0</th>\n",
       "      <td>2020-01-13 21:55:10</td>\n",
       "      <td>Sabes lo que te digo YouTube</td>\n",
       "      <td>Sabes lo que te digo YouTube</td>\n",
       "      <td>0.0</td>\n",
       "      <td>Neutral</td>\n",
       "    </tr>\n",
       "    <tr>\n",
       "      <th>1</th>\n",
       "      <td>2019-07-05 08:57:19</td>\n",
       "      <td>Bruce Springsteen Secret Garden HD Jerry Magui...</td>\n",
       "      <td>Bruce Springsteen Secret Garden HD Jerry Mag...</td>\n",
       "      <td>0.7</td>\n",
       "      <td>Positive</td>\n",
       "    </tr>\n",
       "    <tr>\n",
       "      <th>2</th>\n",
       "      <td>2020-02-15 19:19:28</td>\n",
       "      <td>Average White Band Pick up the pieces YouTube</td>\n",
       "      <td>Average White Band Pick piece YouTube</td>\n",
       "      <td>0.2</td>\n",
       "      <td>Positive</td>\n",
       "    </tr>\n",
       "    <tr>\n",
       "      <th>3</th>\n",
       "      <td>2019-11-21 14:40:31</td>\n",
       "      <td>Def Leppard Love Bites YouTube</td>\n",
       "      <td>Def Leppard Love Bites YouTube</td>\n",
       "      <td>0.6</td>\n",
       "      <td>Positive</td>\n",
       "    </tr>\n",
       "    <tr>\n",
       "      <th>4</th>\n",
       "      <td>2019-09-18 11:58:47</td>\n",
       "      <td>The Matrix Clubbed to Death hours YouTube</td>\n",
       "      <td>Matrix Clubbed Death hour YouTube</td>\n",
       "      <td>0.0</td>\n",
       "      <td>Neutral</td>\n",
       "    </tr>\n",
       "  </tbody>\n",
       "</table>\n",
       "</div>"
      ],
      "text/plain": [
       "                  date                                             lyrics  \\\n",
       "0  2020-01-13 21:55:10                       Sabes lo que te digo YouTube   \n",
       "1  2019-07-05 08:57:19  Bruce Springsteen Secret Garden HD Jerry Magui...   \n",
       "2  2020-02-15 19:19:28      Average White Band Pick up the pieces YouTube   \n",
       "3  2019-11-21 14:40:31                     Def Leppard Love Bites YouTube   \n",
       "4  2019-09-18 11:58:47          The Matrix Clubbed to Death hours YouTube   \n",
       "\n",
       "                                        lyrics_lemma  Polarity  Analysis  \n",
       "0                       Sabes lo que te digo YouTube       0.0   Neutral  \n",
       "1    Bruce Springsteen Secret Garden HD Jerry Mag...       0.7  Positive  \n",
       "2              Average White Band Pick piece YouTube       0.2  Positive  \n",
       "3                     Def Leppard Love Bites YouTube       0.6  Positive  \n",
       "4                  Matrix Clubbed Death hour YouTube       0.0   Neutral  "
      ]
     },
     "execution_count": 118,
     "metadata": {},
     "output_type": "execute_result"
    }
   ],
   "source": [
    "# fin_data['Subjectivity'] = fin_data['Lemma'].apply(getSubjectivity) \n",
    "fin_data['Polarity'] = fin_data['lyrics_lemma'].apply(getSubjectivity) \n",
    "fin_data['Analysis'] = fin_data['Polarity'].apply(analysis)\n",
    "fin_data.head()"
   ]
  },
  {
   "cell_type": "code",
   "execution_count": 119,
   "id": "d1154788",
   "metadata": {},
   "outputs": [],
   "source": [
    "fin_data.to_csv('/mnt/c/Ironhack/Material/Repositorio/Final/data/test/tableau/2.favorites.csv', index=False)"
   ]
  },
  {
   "cell_type": "code",
   "execution_count": 120,
   "id": "3f3c3a73",
   "metadata": {},
   "outputs": [
    {
     "data": {
      "text/plain": [
       "Neutral     67\n",
       "Positive    33\n",
       "Name: Analysis, dtype: int64"
      ]
     },
     "execution_count": 120,
     "metadata": {},
     "output_type": "execute_result"
    }
   ],
   "source": [
    "tb_counts = fin_data.Analysis.value_counts()\n",
    "\n",
    "tb_counts"
   ]
  },
  {
   "cell_type": "code",
   "execution_count": null,
   "id": "4b7daa0e",
   "metadata": {},
   "outputs": [],
   "source": []
  }
 ],
 "metadata": {
  "kernelspec": {
   "display_name": "ironhack",
   "language": "python",
   "name": "ironhack"
  },
  "language_info": {
   "codemirror_mode": {
    "name": "ipython",
    "version": 3
   },
   "file_extension": ".py",
   "mimetype": "text/x-python",
   "name": "python",
   "nbconvert_exporter": "python",
   "pygments_lexer": "ipython3",
   "version": "3.8.8"
  }
 },
 "nbformat": 4,
 "nbformat_minor": 5
}
