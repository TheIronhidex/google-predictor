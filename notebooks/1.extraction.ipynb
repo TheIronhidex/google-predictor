{
 "cells": [
  {
   "cell_type": "code",
   "execution_count": 4,
   "id": "77286a48",
   "metadata": {},
   "outputs": [],
   "source": [
    "import glob #For locating files with a specific extension\n",
    "import os #For moving between directories\n",
    "import zipfile #For unzipping the input folder\n",
    "from time import sleep #For timing the process of unziping\n",
    "from tqdm import tqdm #For monitoring the process of unziping\n",
    "import json #For loading json files\n",
    "import codecs #For transforming date format\n",
    "import html #For loading html files\n",
    "import re #Regex\n",
    "from bs4 import BeautifulSoup #For parsing the html files\n",
    "import pandas as pd #Working with dataframes\n",
    "import csv #For working with csv files\n",
    "from pandas import json_normalize #For displaying json files better\n",
    "import numpy as np\n",
    "import sys \n",
    "import collections\n",
    "import mailbox\n",
    "import bs4\n",
    "import email as e\n",
    "import imaplib\n",
    "import email\n",
    "import getpass\n",
    "import logging\n",
    "import string\n",
    "import datetime\n",
    "from dateutil.parser import parse\n",
    "import random\n",
    "import email.utils\n",
    "import re\n",
    "from collections import Counter\n",
    "import nltk\n",
    "from nltk.corpus import stopwords\n",
    "import lxml.html\n",
    "from nltk.stem import WordNetLemmatizer, PorterStemmer\n",
    "import unicodedata"
   ]
  },
  {
   "cell_type": "markdown",
   "id": "f90d1f7f",
   "metadata": {},
   "source": [
    "# Extraction"
   ]
  },
  {
   "cell_type": "markdown",
   "id": "b888d2b2",
   "metadata": {},
   "source": [
    "### Zip extraction"
   ]
  },
  {
   "cell_type": "code",
   "execution_count": 19,
   "id": "160b0996",
   "metadata": {},
   "outputs": [],
   "source": [
    "init = '/mnt/c/Ironhack/Material/Repositorio/Final/data/input'\n",
    "\n",
    "def zip_format():\n",
    "    #Let's change the working directory\n",
    "    os.chdir(init)\n",
    "    #Let's move to the working directory.\n",
    "    os.getcwd()\n",
    "    #Let's check everything here with a .zip extension\n",
    "    zip_list = glob.glob(\"*.zip\")\n",
    "    if len(zip_list) == 1:\n",
    "        #Let's use list comprehension to extract the name of the file as a string\n",
    "        zip_name = ''.join([str(item) for item in zip_list])\n",
    "        zip_location = f'{init}/{zip_name}'\n",
    "        return zip_location\n",
    "    else:\n",
    "        print('Too many .zip files detected OR there is no .zip at all')"
   ]
  },
  {
   "cell_type": "code",
   "execution_count": 20,
   "id": "26b003b9",
   "metadata": {},
   "outputs": [],
   "source": [
    "def zip_extractor(*args, **kwargs):\n",
    "    with zipfile.ZipFile(zip_format()) as zf:\n",
    "        for member in tqdm(zf.infolist(), desc='Extracting '):\n",
    "            try:\n",
    "                zf.extract(member)\n",
    "            except zipfile.error as e:\n",
    "                pass\n",
    "        zf.close()\n",
    "        #os.system(f\"rm -rf {zip_format()}\")"
   ]
  },
  {
   "cell_type": "code",
   "execution_count": 21,
   "id": "fee2c215",
   "metadata": {},
   "outputs": [],
   "source": [
    "def executor(*args, **kwarg):\n",
    "    try:\n",
    "        zip_extractor()\n",
    "        print('Success!')\n",
    "    except zipfile.error:\n",
    "        raise (\"It seems that there was an error during the extraction.\")"
   ]
  },
  {
   "cell_type": "code",
   "execution_count": 8,
   "id": "7884fedc",
   "metadata": {},
   "outputs": [
    {
     "name": "stderr",
     "output_type": "stream",
     "text": [
      "Extracting : 100%|██████████| 2473/2473 [04:22<00:00,  9.41it/s] "
     ]
    },
    {
     "name": "stdout",
     "output_type": "stream",
     "text": [
      "Success!\n"
     ]
    },
    {
     "name": "stderr",
     "output_type": "stream",
     "text": [
      "\n"
     ]
    }
   ],
   "source": [
    "executor()"
   ]
  },
  {
   "cell_type": "code",
   "execution_count": 22,
   "id": "9a43ce3b",
   "metadata": {},
   "outputs": [],
   "source": [
    "os.chdir(init)\n",
    "temp = os.listdir()\n",
    "temp1 = ''.join([str(item) for item in temp if zipfile.is_zipfile(item) == False])\n",
    "path_string = f\"{init}/{temp1}\"\n",
    "os.chdir(path_string)"
   ]
  },
  {
   "cell_type": "code",
   "execution_count": 23,
   "id": "91fc605b",
   "metadata": {},
   "outputs": [
    {
     "data": {
      "text/plain": [
       "'/mnt/c/Ironhack/Material/Repositorio/Final/data/input/Takeout'"
      ]
     },
     "execution_count": 23,
     "metadata": {},
     "output_type": "execute_result"
    }
   ],
   "source": [
    "path_string"
   ]
  },
  {
   "cell_type": "code",
   "execution_count": 24,
   "id": "bbd699e4",
   "metadata": {},
   "outputs": [
    {
     "data": {
      "text/plain": [
       "['Actividad de registro de accesos',\n",
       " 'Aplicación Home',\n",
       " 'archive_browser.html',\n",
       " 'Calendar',\n",
       " 'Chrome',\n",
       " 'Contactos',\n",
       " 'Correo',\n",
       " 'Cuenta de Google',\n",
       " 'Developer Platform',\n",
       " 'Drive',\n",
       " 'Google Fotos',\n",
       " 'Google Play Películas',\n",
       " 'Google Play Store',\n",
       " 'Google Shopping',\n",
       " 'Google Workspace Marketplace',\n",
       " 'Google\\xa0My\\xa0Business',\n",
       " 'Google\\xa0Pay',\n",
       " 'Hangouts',\n",
       " 'Historial de ubicaciones',\n",
       " 'Listas de la compra',\n",
       " 'Maps',\n",
       " 'Maps (Tus sitios)',\n",
       " 'Mi actividad',\n",
       " 'My\\xa0Maps',\n",
       " 'Notas y listas del Asistente',\n",
       " 'Noticias',\n",
       " 'Perfil',\n",
       " 'Search Contributions',\n",
       " 'Servicio de configuración de dispositivo Android',\n",
       " 'Tareas',\n",
       " 'YouTube y YouTube Music']"
      ]
     },
     "execution_count": 24,
     "metadata": {},
     "output_type": "execute_result"
    }
   ],
   "source": [
    "os.listdir()"
   ]
  },
  {
   "cell_type": "code",
   "execution_count": 25,
   "id": "427ec9e7",
   "metadata": {},
   "outputs": [],
   "source": [
    "files_list = os.listdir()"
   ]
  },
  {
   "cell_type": "code",
   "execution_count": null,
   "id": "704a0af1",
   "metadata": {},
   "outputs": [],
   "source": [
    "///////////////////////////////////////////////////////////////////////////////////////////////////////////////////////////////"
   ]
  },
  {
   "cell_type": "markdown",
   "id": "669377e6",
   "metadata": {},
   "source": [
    "### Cuenta de Google / (html) [***COMPLETED***]"
   ]
  },
  {
   "cell_type": "code",
   "execution_count": 13,
   "id": "46207630",
   "metadata": {},
   "outputs": [],
   "source": [
    "def account_html():\n",
    "    li = []\n",
    "    tr = []\n",
    "    url = f\"{path_string}/Cuenta de Google\"\n",
    "    os.chdir(url)\n",
    "    directory = os.getcwd()\n",
    "    for filename in os.listdir(directory):\n",
    "        if filename.endswith('.html'):\n",
    "            fname = os.path.join(directory, filename)\n",
    "            with open(fname, 'r') as file:\n",
    "                beautifulSoupText = BeautifulSoup(file.read(), 'html.parser')\n",
    "                for tag in beautifulSoupText.findAll('li'):\n",
    "                    li.append(tag)\n",
    "                \n",
    "                for tag in beautifulSoupText.findAll('tr'):\n",
    "                    tr.append(tag)\n",
    "    return li, tr\n",
    "\n",
    "def account_pd(*args, **kwargs):\n",
    "    li = pd.DataFrame(data=(account_html()[0]), columns=['category'])\n",
    "    return li\n",
    "\n",
    "def log_activity_pd(*args, **kwargs):\n",
    "    tr = pd.DataFrame(data=(account_html()[1]), columns = ['timestamp', 'ip', 'activity', 'agent'])\n",
    "    tr.drop(['agent'], axis=1, inplace=True)\n",
    "    return tr.iloc[1: , :]\n",
    "    "
   ]
  },
  {
   "cell_type": "code",
   "execution_count": 14,
   "id": "8b33a6d2",
   "metadata": {},
   "outputs": [
    {
     "name": "stderr",
     "output_type": "stream",
     "text": [
      "/home/krujo/Anaconda3/lib/python3.8/site-packages/pandas/core/internals/construction.py:309: VisibleDeprecationWarning: Creating an ndarray from ragged nested sequences (which is a list-or-tuple of lists-or-tuples-or ndarrays with different lengths or shapes) is deprecated. If you meant to do this, you must specify 'dtype=object' when creating the ndarray.\n",
      "  values = np.array([convert(v) for v in values])\n"
     ]
    }
   ],
   "source": [
    "li = account_pd()\n",
    "tr = log_activity_pd()"
   ]
  },
  {
   "cell_type": "code",
   "execution_count": 15,
   "id": "dca96899",
   "metadata": {},
   "outputs": [],
   "source": [
    "li.category = li.category.str.split(':')\n",
    "li_final = li.category.apply(pd.Series).T\n",
    "li_final.rename(columns={0:'Google Account ID',2:'Created on',3:'IP',4:'Language',5:'e-mail',6:'recovery mail',7:'phone'}, inplace=True)\n",
    "li_final.drop([0, 2, 3], axis=0, inplace=True)\n",
    "li_final.drop([1], axis=1, inplace=True)\n",
    "li_final.reset_index(drop=True, inplace=True)"
   ]
  },
  {
   "cell_type": "code",
   "execution_count": 16,
   "id": "915ca0de",
   "metadata": {},
   "outputs": [],
   "source": [
    "def ip_(x):\n",
    "    return x.text"
   ]
  },
  {
   "cell_type": "code",
   "execution_count": 17,
   "id": "c5069fe3",
   "metadata": {},
   "outputs": [],
   "source": [
    "tr['date'] = tr.timestamp.apply(ip_)\n",
    "tr['ip'] = tr.ip.apply(ip_)\n",
    "tr['activity'] = tr.activity.apply(ip_)\n",
    "tr.drop(columns=['timestamp'], inplace=True)"
   ]
  },
  {
   "cell_type": "code",
   "execution_count": 18,
   "id": "56b70742",
   "metadata": {},
   "outputs": [],
   "source": [
    "def get_numbers_only(x):\n",
    "    return re.sub('[^0-9]', '', x)\n",
    "    \n",
    "li_final['phone'] = li_final['phone'].apply(lambda x: get_numbers_only(x))\n",
    "li_final['n_phone'] = li_final['phone'][-9:]"
   ]
  },
  {
   "cell_type": "code",
   "execution_count": 19,
   "id": "e0c0e7e1",
   "metadata": {},
   "outputs": [
    {
     "data": {
      "text/html": [
       "<div>\n",
       "<style scoped>\n",
       "    .dataframe tbody tr th:only-of-type {\n",
       "        vertical-align: middle;\n",
       "    }\n",
       "\n",
       "    .dataframe tbody tr th {\n",
       "        vertical-align: top;\n",
       "    }\n",
       "\n",
       "    .dataframe thead th {\n",
       "        text-align: right;\n",
       "    }\n",
       "</style>\n",
       "<table border=\"1\" class=\"dataframe\">\n",
       "  <thead>\n",
       "    <tr style=\"text-align: right;\">\n",
       "      <th></th>\n",
       "      <th>Google Account ID</th>\n",
       "      <th>Created on</th>\n",
       "      <th>IP</th>\n",
       "      <th>Language</th>\n",
       "      <th>e-mail</th>\n",
       "      <th>recovery mail</th>\n",
       "      <th>phone</th>\n",
       "      <th>n_phone</th>\n",
       "    </tr>\n",
       "  </thead>\n",
       "  <tbody>\n",
       "    <tr>\n",
       "      <th>0</th>\n",
       "      <td>907204290308</td>\n",
       "      <td>2017-07-20 08</td>\n",
       "      <td>213.4.207.110</td>\n",
       "      <td>es</td>\n",
       "      <td>JRDiazOrdaz03@gmail.com</td>\n",
       "      <td>IronhideX1@gmail.com</td>\n",
       "      <td>34615686348</td>\n",
       "      <td>34615686348</td>\n",
       "    </tr>\n",
       "  </tbody>\n",
       "</table>\n",
       "</div>"
      ],
      "text/plain": [
       "  Google Account ID      Created on              IP Language  \\\n",
       "0      907204290308   2017-07-20 08   213.4.207.110       es   \n",
       "\n",
       "                     e-mail          recovery mail        phone      n_phone  \n",
       "0   JRDiazOrdaz03@gmail.com   IronhideX1@gmail.com  34615686348  34615686348  "
      ]
     },
     "execution_count": 19,
     "metadata": {},
     "output_type": "execute_result"
    }
   ],
   "source": [
    "li_final.head(2)"
   ]
  },
  {
   "cell_type": "code",
   "execution_count": 20,
   "id": "8c983c34",
   "metadata": {},
   "outputs": [
    {
     "data": {
      "text/html": [
       "<div>\n",
       "<style scoped>\n",
       "    .dataframe tbody tr th:only-of-type {\n",
       "        vertical-align: middle;\n",
       "    }\n",
       "\n",
       "    .dataframe tbody tr th {\n",
       "        vertical-align: top;\n",
       "    }\n",
       "\n",
       "    .dataframe thead th {\n",
       "        text-align: right;\n",
       "    }\n",
       "</style>\n",
       "<table border=\"1\" class=\"dataframe\">\n",
       "  <thead>\n",
       "    <tr style=\"text-align: right;\">\n",
       "      <th></th>\n",
       "      <th>ip</th>\n",
       "      <th>activity</th>\n",
       "      <th>date</th>\n",
       "    </tr>\n",
       "  </thead>\n",
       "  <tbody>\n",
       "    <tr>\n",
       "      <th>1</th>\n",
       "      <td>2.136.118.161</td>\n",
       "      <td>Login</td>\n",
       "      <td>2021-12-06 10:27:15 UTC</td>\n",
       "    </tr>\n",
       "    <tr>\n",
       "      <th>2</th>\n",
       "      <td>85.48.184.103</td>\n",
       "      <td>Login</td>\n",
       "      <td>2021-12-06 10:27:11 UTC</td>\n",
       "    </tr>\n",
       "  </tbody>\n",
       "</table>\n",
       "</div>"
      ],
      "text/plain": [
       "              ip activity                     date\n",
       "1  2.136.118.161    Login  2021-12-06 10:27:15 UTC\n",
       "2  85.48.184.103    Login  2021-12-06 10:27:11 UTC"
      ]
     },
     "execution_count": 20,
     "metadata": {},
     "output_type": "execute_result"
    }
   ],
   "source": [
    "tr.head(2)"
   ]
  },
  {
   "cell_type": "code",
   "execution_count": null,
   "id": "e1b5663b",
   "metadata": {},
   "outputs": [],
   "source": [
    "///////////////////////////////////////////////////////////////////////////////////////////////////////////////////////////////"
   ]
  },
  {
   "cell_type": "markdown",
   "id": "dabe3c07",
   "metadata": {},
   "source": [
    "### Perfil / Profile (json) [***COMPLETED***]"
   ]
  },
  {
   "cell_type": "code",
   "execution_count": 21,
   "id": "85e6a410",
   "metadata": {},
   "outputs": [],
   "source": [
    "def profile_extr():\n",
    "    for i in files_list:\n",
    "        if i == 'Perfil':\n",
    "            local = f\"{path_string}/{i}/Perfil.json\"\n",
    "    try:\n",
    "        f = open(local)\n",
    "        data = json.load(f)\n",
    "        name = data['name']['formattedName']\n",
    "        email = (data['emails'][0]['value']).lower()\n",
    "        gender = data['gender']['type']\n",
    "        profile_dict = {'name': name, 'email': email, 'gender': gender}\n",
    "        return profile_dict\n",
    "    \n",
    "    except: NameError\n"
   ]
  },
  {
   "cell_type": "code",
   "execution_count": 22,
   "id": "45ed291e",
   "metadata": {},
   "outputs": [],
   "source": [
    "profile_extr = profile_extr()"
   ]
  },
  {
   "cell_type": "code",
   "execution_count": 23,
   "id": "6b3f5255",
   "metadata": {},
   "outputs": [],
   "source": [
    "df_profile_extr = pd.DataFrame(profile_extr, index=(0,))"
   ]
  },
  {
   "cell_type": "code",
   "execution_count": 24,
   "id": "8f8323ac",
   "metadata": {},
   "outputs": [
    {
     "data": {
      "text/html": [
       "<div>\n",
       "<style scoped>\n",
       "    .dataframe tbody tr th:only-of-type {\n",
       "        vertical-align: middle;\n",
       "    }\n",
       "\n",
       "    .dataframe tbody tr th {\n",
       "        vertical-align: top;\n",
       "    }\n",
       "\n",
       "    .dataframe thead th {\n",
       "        text-align: right;\n",
       "    }\n",
       "</style>\n",
       "<table border=\"1\" class=\"dataframe\">\n",
       "  <thead>\n",
       "    <tr style=\"text-align: right;\">\n",
       "      <th></th>\n",
       "      <th>name</th>\n",
       "      <th>email</th>\n",
       "      <th>gender</th>\n",
       "    </tr>\n",
       "  </thead>\n",
       "  <tbody>\n",
       "    <tr>\n",
       "      <th>0</th>\n",
       "      <td>Jose Diaz</td>\n",
       "      <td>jrdiazordaz03@gmail.com</td>\n",
       "      <td>male</td>\n",
       "    </tr>\n",
       "  </tbody>\n",
       "</table>\n",
       "</div>"
      ],
      "text/plain": [
       "        name                    email gender\n",
       "0  Jose Diaz  jrdiazordaz03@gmail.com   male"
      ]
     },
     "execution_count": 24,
     "metadata": {},
     "output_type": "execute_result"
    }
   ],
   "source": [
    "df_profile_extr.head()"
   ]
  },
  {
   "cell_type": "code",
   "execution_count": null,
   "id": "f1e1624c",
   "metadata": {},
   "outputs": [],
   "source": [
    "///////////////////////////////////////////////////////////////////////////////////////////////////////////////////////////////"
   ]
  },
  {
   "cell_type": "markdown",
   "id": "56e8870a",
   "metadata": {},
   "source": [
    "### Actividad de registro de accesos / (csv) [***COMPLETED***]"
   ]
  },
  {
   "cell_type": "code",
   "execution_count": 92,
   "id": "f9cfbe44",
   "metadata": {},
   "outputs": [],
   "source": [
    "def activ_services():\n",
    "    for i in files_list:\n",
    "        if i == 'Actividad de registro de accesos':\n",
    "            local = f\"{path_string}/{i}/Actividades_ una lista con los servicios de Google.csv\"\n",
    "    df = pd.read_csv(local)\n",
    "    return df"
   ]
  },
  {
   "cell_type": "code",
   "execution_count": 93,
   "id": "cddaa3b0",
   "metadata": {},
   "outputs": [],
   "source": [
    "activ_services = activ_services()"
   ]
  },
  {
   "cell_type": "code",
   "execution_count": 94,
   "id": "62bf9637",
   "metadata": {},
   "outputs": [],
   "source": [
    "activ_services.drop(columns=['Proxiedhost IP Address','Is Non-routable IP Address','Referer Product Name','Referer Sub-Product Name','Activity Type','Gmail Access Channel','Android Webview Package Name', 'User Agent String'], inplace=True)"
   ]
  },
  {
   "cell_type": "code",
   "execution_count": 28,
   "id": "b5a3a71f",
   "metadata": {},
   "outputs": [
    {
     "data": {
      "text/html": [
       "<div>\n",
       "<style scoped>\n",
       "    .dataframe tbody tr th:only-of-type {\n",
       "        vertical-align: middle;\n",
       "    }\n",
       "\n",
       "    .dataframe tbody tr th {\n",
       "        vertical-align: top;\n",
       "    }\n",
       "\n",
       "    .dataframe thead th {\n",
       "        text-align: right;\n",
       "    }\n",
       "</style>\n",
       "<table border=\"1\" class=\"dataframe\">\n",
       "  <thead>\n",
       "    <tr style=\"text-align: right;\">\n",
       "      <th></th>\n",
       "      <th>Gaia ID</th>\n",
       "      <th>Activity Timestamp</th>\n",
       "      <th>IP Address</th>\n",
       "      <th>Activity Country</th>\n",
       "      <th>Activity Region</th>\n",
       "      <th>Activity City</th>\n",
       "      <th>User Agent String</th>\n",
       "      <th>Product Name</th>\n",
       "      <th>Sub-Product Name</th>\n",
       "    </tr>\n",
       "  </thead>\n",
       "  <tbody>\n",
       "    <tr>\n",
       "      <th>0</th>\n",
       "      <td>907204290308</td>\n",
       "      <td>2021-12-05 07:57:48 UTC</td>\n",
       "      <td>89.130.89.27</td>\n",
       "      <td>es</td>\n",
       "      <td>community of madrid</td>\n",
       "      <td>alcobendas</td>\n",
       "      <td>Android-Gmail/62948716 (sw360dp; 320dpi) (H331...</td>\n",
       "      <td>Gmail</td>\n",
       "      <td>Other</td>\n",
       "    </tr>\n",
       "    <tr>\n",
       "      <th>1</th>\n",
       "      <td>907204290308</td>\n",
       "      <td>2021-12-05 07:57:47 UTC</td>\n",
       "      <td>89.130.89.27</td>\n",
       "      <td>es</td>\n",
       "      <td>community of madrid</td>\n",
       "      <td>alcobendas</td>\n",
       "      <td>Android-Gmail/62948716 (sw360dp; 320dpi) (H331...</td>\n",
       "      <td>Gmail</td>\n",
       "      <td>Other</td>\n",
       "    </tr>\n",
       "    <tr>\n",
       "      <th>2</th>\n",
       "      <td>907204290308</td>\n",
       "      <td>2021-12-05 07:57:17 UTC</td>\n",
       "      <td>89.130.89.27</td>\n",
       "      <td>es</td>\n",
       "      <td>community of madrid</td>\n",
       "      <td>alcobendas</td>\n",
       "      <td>Android-Gmail/62948716 (sw360dp; 320dpi) (H331...</td>\n",
       "      <td>Gmail</td>\n",
       "      <td>Other</td>\n",
       "    </tr>\n",
       "    <tr>\n",
       "      <th>3</th>\n",
       "      <td>907204290308</td>\n",
       "      <td>2021-12-05 07:57:04 UTC</td>\n",
       "      <td>89.130.89.27</td>\n",
       "      <td>es</td>\n",
       "      <td>community of madrid</td>\n",
       "      <td>alcobendas</td>\n",
       "      <td>Dalvik/2.1.0 (Linux; U; Android 7.1.1; H3311 B...</td>\n",
       "      <td>Other</td>\n",
       "      <td>Other</td>\n",
       "    </tr>\n",
       "    <tr>\n",
       "      <th>4</th>\n",
       "      <td>907204290308</td>\n",
       "      <td>2021-12-05 07:57:01 UTC</td>\n",
       "      <td>89.130.89.27</td>\n",
       "      <td>es</td>\n",
       "      <td>community of madrid</td>\n",
       "      <td>alcobendas</td>\n",
       "      <td>com.google.android.gms/214218020 (Linux; U; An...</td>\n",
       "      <td>Other</td>\n",
       "      <td>Other</td>\n",
       "    </tr>\n",
       "  </tbody>\n",
       "</table>\n",
       "</div>"
      ],
      "text/plain": [
       "        Gaia ID       Activity Timestamp    IP Address Activity Country  \\\n",
       "0  907204290308  2021-12-05 07:57:48 UTC  89.130.89.27               es   \n",
       "1  907204290308  2021-12-05 07:57:47 UTC  89.130.89.27               es   \n",
       "2  907204290308  2021-12-05 07:57:17 UTC  89.130.89.27               es   \n",
       "3  907204290308  2021-12-05 07:57:04 UTC  89.130.89.27               es   \n",
       "4  907204290308  2021-12-05 07:57:01 UTC  89.130.89.27               es   \n",
       "\n",
       "       Activity Region Activity City  \\\n",
       "0  community of madrid    alcobendas   \n",
       "1  community of madrid    alcobendas   \n",
       "2  community of madrid    alcobendas   \n",
       "3  community of madrid    alcobendas   \n",
       "4  community of madrid    alcobendas   \n",
       "\n",
       "                                   User Agent String Product Name  \\\n",
       "0  Android-Gmail/62948716 (sw360dp; 320dpi) (H331...        Gmail   \n",
       "1  Android-Gmail/62948716 (sw360dp; 320dpi) (H331...        Gmail   \n",
       "2  Android-Gmail/62948716 (sw360dp; 320dpi) (H331...        Gmail   \n",
       "3  Dalvik/2.1.0 (Linux; U; Android 7.1.1; H3311 B...        Other   \n",
       "4  com.google.android.gms/214218020 (Linux; U; An...        Other   \n",
       "\n",
       "  Sub-Product Name  \n",
       "0            Other  \n",
       "1            Other  \n",
       "2            Other  \n",
       "3            Other  \n",
       "4            Other  "
      ]
     },
     "execution_count": 28,
     "metadata": {},
     "output_type": "execute_result"
    }
   ],
   "source": [
    "activ_services.head()"
   ]
  },
  {
   "cell_type": "code",
   "execution_count": 29,
   "id": "d02a81d3",
   "metadata": {},
   "outputs": [],
   "source": [
    "def activ_dispositives():\n",
    "    for i in files_list:\n",
    "        if i == 'Actividad de registro de accesos':\n",
    "            local = f\"{path_string}/{i}/Dispositivos_ una lista con los dispositivos (por_.csv\"\n",
    "    df = pd.read_csv(local)\n",
    "    return df"
   ]
  },
  {
   "cell_type": "code",
   "execution_count": 30,
   "id": "6ab20f1f",
   "metadata": {},
   "outputs": [],
   "source": [
    "activ_dispositives = activ_dispositives()"
   ]
  },
  {
   "cell_type": "code",
   "execution_count": 31,
   "id": "303016ae",
   "metadata": {},
   "outputs": [],
   "source": [
    "activ_dispositives.drop(columns=['User Given Name'], inplace=True)"
   ]
  },
  {
   "cell_type": "code",
   "execution_count": 32,
   "id": "585ebd8e",
   "metadata": {},
   "outputs": [
    {
     "data": {
      "text/html": [
       "<div>\n",
       "<style scoped>\n",
       "    .dataframe tbody tr th:only-of-type {\n",
       "        vertical-align: middle;\n",
       "    }\n",
       "\n",
       "    .dataframe tbody tr th {\n",
       "        vertical-align: top;\n",
       "    }\n",
       "\n",
       "    .dataframe thead th {\n",
       "        text-align: right;\n",
       "    }\n",
       "</style>\n",
       "<table border=\"1\" class=\"dataframe\">\n",
       "  <thead>\n",
       "    <tr style=\"text-align: right;\">\n",
       "      <th></th>\n",
       "      <th>Device Type</th>\n",
       "      <th>Brand Name</th>\n",
       "      <th>Marketing Name</th>\n",
       "      <th>OS</th>\n",
       "      <th>OS Version</th>\n",
       "      <th>Device Model</th>\n",
       "      <th>Device Last Location</th>\n",
       "      <th>Gaia ID</th>\n",
       "    </tr>\n",
       "  </thead>\n",
       "  <tbody>\n",
       "    <tr>\n",
       "      <th>0</th>\n",
       "      <td>MOBILE</td>\n",
       "      <td>Sony</td>\n",
       "      <td>Xperia L2</td>\n",
       "      <td>Android</td>\n",
       "      <td>7.1.1</td>\n",
       "      <td>H3311</td>\n",
       "      <td>Country ISO: ES\\nLast Activity Time: 2021-12-0...</td>\n",
       "      <td>907204290308</td>\n",
       "    </tr>\n",
       "    <tr>\n",
       "      <th>1</th>\n",
       "      <td>PC</td>\n",
       "      <td>NaN</td>\n",
       "      <td>NaN</td>\n",
       "      <td>Windows</td>\n",
       "      <td>10.0</td>\n",
       "      <td>NaN</td>\n",
       "      <td>Country ISO: ES\\nLast Activity Time: 2021-12-0...</td>\n",
       "      <td>907204290308</td>\n",
       "    </tr>\n",
       "  </tbody>\n",
       "</table>\n",
       "</div>"
      ],
      "text/plain": [
       "  Device Type Brand Name Marketing Name       OS OS Version Device Model  \\\n",
       "0      MOBILE       Sony      Xperia L2  Android      7.1.1        H3311   \n",
       "1          PC        NaN            NaN  Windows       10.0          NaN   \n",
       "\n",
       "                                Device Last Location       Gaia ID  \n",
       "0  Country ISO: ES\\nLast Activity Time: 2021-12-0...  907204290308  \n",
       "1  Country ISO: ES\\nLast Activity Time: 2021-12-0...  907204290308  "
      ]
     },
     "execution_count": 32,
     "metadata": {},
     "output_type": "execute_result"
    }
   ],
   "source": [
    "activ_dispositives.head()"
   ]
  },
  {
   "cell_type": "code",
   "execution_count": null,
   "id": "b5c3cedb",
   "metadata": {},
   "outputs": [],
   "source": [
    "///////////////////////////////////////////////////////////////////////////////////////////////////////////////////////////////"
   ]
  },
  {
   "cell_type": "markdown",
   "id": "551d812c",
   "metadata": {},
   "source": [
    "### YouTube y YouTube Music / (csv) [***COMPLETED***]"
   ]
  },
  {
   "cell_type": "code",
   "execution_count": 33,
   "id": "bfda1ba4",
   "metadata": {},
   "outputs": [],
   "source": [
    "def youtube_music():\n",
    "    for i in files_list:\n",
    "        if i == 'YouTube y YouTube Music':\n",
    "            local = f\"{path_string}/{i}/canciones-biblioteca-musica/canciones-biblioteca-musica.csv\"\n",
    "    df = pd.read_csv(local)\n",
    "    return df"
   ]
  },
  {
   "cell_type": "code",
   "execution_count": 34,
   "id": "67385234",
   "metadata": {},
   "outputs": [],
   "source": [
    "youtube_music = youtube_music()"
   ]
  },
  {
   "cell_type": "code",
   "execution_count": 35,
   "id": "8f5d616e",
   "metadata": {},
   "outputs": [],
   "source": [
    "for i in range(len(youtube_music['URL de la canción'])):\n",
    "    if '//' in youtube_music['URL de la canción'][i]:\n",
    "        youtube_music['URL de la canción'][i] = youtube_music['URL de la canción'][i].split('//')[1]\n",
    "\n",
    "for i in range(len(youtube_music['URL de la canción'])):\n",
    "    if '/' in youtube_music['URL de la canción']:\n",
    "        youtube_music['URL de la canción'][i] = youtube_music['URL de la canción'][i].split('/')[0]"
   ]
  },
  {
   "cell_type": "code",
   "execution_count": 36,
   "id": "a35de785",
   "metadata": {},
   "outputs": [
    {
     "data": {
      "text/html": [
       "<div>\n",
       "<style scoped>\n",
       "    .dataframe tbody tr th:only-of-type {\n",
       "        vertical-align: middle;\n",
       "    }\n",
       "\n",
       "    .dataframe tbody tr th {\n",
       "        vertical-align: top;\n",
       "    }\n",
       "\n",
       "    .dataframe thead th {\n",
       "        text-align: right;\n",
       "    }\n",
       "</style>\n",
       "<table border=\"1\" class=\"dataframe\">\n",
       "  <thead>\n",
       "    <tr style=\"text-align: right;\">\n",
       "      <th></th>\n",
       "      <th>URL de la canción</th>\n",
       "      <th>Título de la canción</th>\n",
       "      <th>Título del álbum</th>\n",
       "      <th>Nombre de los artistas</th>\n",
       "    </tr>\n",
       "  </thead>\n",
       "  <tbody>\n",
       "    <tr>\n",
       "      <th>0</th>\n",
       "      <td>music.youtube.com/watch?v=6xzN8Nt0Pok</td>\n",
       "      <td>I Wanna Dance with Somebody (Who Loves Me)</td>\n",
       "      <td>Whitney</td>\n",
       "      <td>Whitney Houston</td>\n",
       "    </tr>\n",
       "    <tr>\n",
       "      <th>1</th>\n",
       "      <td>music.youtube.com/watch?v=ojx78Bawl1M</td>\n",
       "      <td>Tuxedo Junction</td>\n",
       "      <td>The Age Of Swing</td>\n",
       "      <td>The BBC Big Band Orchestra</td>\n",
       "    </tr>\n",
       "    <tr>\n",
       "      <th>2</th>\n",
       "      <td>music.youtube.com/watch?v=cnRB2CgUpSw</td>\n",
       "      <td>Whatever It Takes</td>\n",
       "      <td>Evolve</td>\n",
       "      <td>Imagine Dragons</td>\n",
       "    </tr>\n",
       "  </tbody>\n",
       "</table>\n",
       "</div>"
      ],
      "text/plain": [
       "                       URL de la canción  \\\n",
       "0  music.youtube.com/watch?v=6xzN8Nt0Pok   \n",
       "1  music.youtube.com/watch?v=ojx78Bawl1M   \n",
       "2  music.youtube.com/watch?v=cnRB2CgUpSw   \n",
       "\n",
       "                         Título de la canción  Título del álbum  \\\n",
       "0  I Wanna Dance with Somebody (Who Loves Me)           Whitney   \n",
       "1                             Tuxedo Junction  The Age Of Swing   \n",
       "2                           Whatever It Takes            Evolve   \n",
       "\n",
       "       Nombre de los artistas  \n",
       "0             Whitney Houston  \n",
       "1  The BBC Big Band Orchestra  \n",
       "2             Imagine Dragons  "
      ]
     },
     "execution_count": 36,
     "metadata": {},
     "output_type": "execute_result"
    }
   ],
   "source": [
    "youtube_music.head()"
   ]
  },
  {
   "cell_type": "code",
   "execution_count": null,
   "id": "46483d46",
   "metadata": {},
   "outputs": [],
   "source": [
    "///////////////////////////////////////////////////////////////////////////////////////////////////////////////////////////////"
   ]
  },
  {
   "cell_type": "markdown",
   "id": "1f0ec65f",
   "metadata": {},
   "source": [
    "### Chrome / (html, json) [***COMPLETED***]"
   ]
  },
  {
   "cell_type": "code",
   "execution_count": 32,
   "id": "4b9bdcb0",
   "metadata": {},
   "outputs": [],
   "source": [
    "#json\n",
    "def chrome_browser_history():\n",
    "    for i in files_list:\n",
    "        if i == 'Chrome':\n",
    "            local = f\"{path_string}/{i}/BrowserHistory.json\"\n",
    "    try:\n",
    "        f = open(local)\n",
    "        data = json.load(f)\n",
    "        json_normalize(data)\n",
    "        df = pd.DataFrame(data['Browser History'])\n",
    "        return df\n",
    "    except NameError:\n",
    "        return "
   ]
  },
  {
   "cell_type": "code",
   "execution_count": 33,
   "id": "b915b438",
   "metadata": {},
   "outputs": [],
   "source": [
    "chrome_browser_history = chrome_browser_history()"
   ]
  },
  {
   "cell_type": "code",
   "execution_count": 34,
   "id": "250768e8",
   "metadata": {},
   "outputs": [
    {
     "data": {
      "text/plain": [
       "\"for i in range(len(chrome_browser_history.url)):\\n    if '//' in chrome_browser_history.url[i]:\\n        chrome_browser_history.url[i] = chrome_browser_history.url[i].split('//')[1]\\n\\nfor i in range(len(chrome_browser_history.url)):\\n    if '/' in chrome_browser_history.url[i]:\\n        chrome_browser_history.url[i] = chrome_browser_history.url[i].split('/')[0]\""
      ]
     },
     "execution_count": 34,
     "metadata": {},
     "output_type": "execute_result"
    }
   ],
   "source": [
    "'''for i in range(len(chrome_browser_history.url)):\n",
    "    if '//' in chrome_browser_history.url[i]:\n",
    "        chrome_browser_history.url[i] = chrome_browser_history.url[i].split('//')[1]\n",
    "\n",
    "for i in range(len(chrome_browser_history.url)):\n",
    "    if '/' in chrome_browser_history.url[i]:\n",
    "        chrome_browser_history.url[i] = chrome_browser_history.url[i].split('/')[0]'''"
   ]
  },
  {
   "cell_type": "code",
   "execution_count": 35,
   "id": "f3f8136e",
   "metadata": {},
   "outputs": [
    {
     "data": {
      "text/html": [
       "<div>\n",
       "<style scoped>\n",
       "    .dataframe tbody tr th:only-of-type {\n",
       "        vertical-align: middle;\n",
       "    }\n",
       "\n",
       "    .dataframe tbody tr th {\n",
       "        vertical-align: top;\n",
       "    }\n",
       "\n",
       "    .dataframe thead th {\n",
       "        text-align: right;\n",
       "    }\n",
       "</style>\n",
       "<table border=\"1\" class=\"dataframe\">\n",
       "  <thead>\n",
       "    <tr style=\"text-align: right;\">\n",
       "      <th></th>\n",
       "      <th>page_transition</th>\n",
       "      <th>title</th>\n",
       "      <th>url</th>\n",
       "      <th>client_id</th>\n",
       "      <th>time_usec</th>\n",
       "    </tr>\n",
       "  </thead>\n",
       "  <tbody>\n",
       "    <tr>\n",
       "      <th>0</th>\n",
       "      <td>LINK</td>\n",
       "      <td>Horarios de autobús 151: Madrid (Plaza Castill...</td>\n",
       "      <td>https://www.redtransporte.com/madrid/autobuses...</td>\n",
       "      <td>x6cQo08w9vTcM7buu4Mugg==</td>\n",
       "      <td>1638781091719312</td>\n",
       "    </tr>\n",
       "    <tr>\n",
       "      <th>1</th>\n",
       "      <td>LINK</td>\n",
       "      <td>Noticias sobre transporte público de Madrid</td>\n",
       "      <td>https://www.redtransporte.com/madrid/noticias....</td>\n",
       "      <td>x6cQo08w9vTcM7buu4Mugg==</td>\n",
       "      <td>1638781063045635</td>\n",
       "    </tr>\n",
       "  </tbody>\n",
       "</table>\n",
       "</div>"
      ],
      "text/plain": [
       "  page_transition                                              title  \\\n",
       "0            LINK  Horarios de autobús 151: Madrid (Plaza Castill...   \n",
       "1            LINK        Noticias sobre transporte público de Madrid   \n",
       "\n",
       "                                                 url  \\\n",
       "0  https://www.redtransporte.com/madrid/autobuses...   \n",
       "1  https://www.redtransporte.com/madrid/noticias....   \n",
       "\n",
       "                  client_id         time_usec  \n",
       "0  x6cQo08w9vTcM7buu4Mugg==  1638781091719312  \n",
       "1  x6cQo08w9vTcM7buu4Mugg==  1638781063045635  "
      ]
     },
     "execution_count": 35,
     "metadata": {},
     "output_type": "execute_result"
    }
   ],
   "source": [
    "chrome_browser_history.head(2)"
   ]
  },
  {
   "cell_type": "code",
   "execution_count": 36,
   "id": "d5da7b2e",
   "metadata": {},
   "outputs": [],
   "source": [
    "#html\n",
    "def chrome_bookmarks():\n",
    "    urls = []\n",
    "    for i in files_list:\n",
    "        if i == 'Chrome':\n",
    "            local = f\"{path_string}/{i}/Bookmarks.html\"\n",
    "            with open(local, 'r') as file:\n",
    "                beautifulSoupText = BeautifulSoup(file.read(), 'html.parser')\n",
    "                for tag in beautifulSoupText.findAll('a'):\n",
    "                    urls.append(tag)\n",
    "    return urls"
   ]
  },
  {
   "cell_type": "code",
   "execution_count": 37,
   "id": "a090cbd3",
   "metadata": {},
   "outputs": [],
   "source": [
    "chrome_bookmarks = chrome_bookmarks()"
   ]
  },
  {
   "cell_type": "code",
   "execution_count": 38,
   "id": "7bd56f88",
   "metadata": {},
   "outputs": [],
   "source": [
    "dicc = {'url' : [],\n",
    "       'date': []\n",
    "       }"
   ]
  },
  {
   "cell_type": "code",
   "execution_count": 39,
   "id": "baea7053",
   "metadata": {},
   "outputs": [],
   "source": [
    "for i in chrome_bookmarks:\n",
    "    dicc[\"url\"].append(i.get('href'))\n",
    "    dicc[\"date\"].append(i.get('add_date'))"
   ]
  },
  {
   "cell_type": "code",
   "execution_count": 40,
   "id": "399deeb9",
   "metadata": {},
   "outputs": [],
   "source": [
    "df_chrome_bookmarks = pd.DataFrame(dicc)"
   ]
  },
  {
   "cell_type": "code",
   "execution_count": 41,
   "id": "5a1324f5",
   "metadata": {},
   "outputs": [
    {
     "data": {
      "text/plain": [
       "\"for i in range(len(df_chrome_bookmarks.url)):\\n    if '//' in df_chrome_bookmarks.url[i]:\\n        df_chrome_bookmarks.url[i] = df_chrome_bookmarks.url[i].split('//')[1]\\n\\nfor i in range(len(df_chrome_bookmarks.url)):\\n    if '/' in df_chrome_bookmarks.url[i]:\\n        df_chrome_bookmarks.url[i] = df_chrome_bookmarks.url[i].split('/')[0]\""
      ]
     },
     "execution_count": 41,
     "metadata": {},
     "output_type": "execute_result"
    }
   ],
   "source": [
    "'''for i in range(len(df_chrome_bookmarks.url)):\n",
    "    if '//' in df_chrome_bookmarks.url[i]:\n",
    "        df_chrome_bookmarks.url[i] = df_chrome_bookmarks.url[i].split('//')[1]\n",
    "\n",
    "for i in range(len(df_chrome_bookmarks.url)):\n",
    "    if '/' in df_chrome_bookmarks.url[i]:\n",
    "        df_chrome_bookmarks.url[i] = df_chrome_bookmarks.url[i].split('/')[0]'''"
   ]
  },
  {
   "cell_type": "code",
   "execution_count": 42,
   "id": "88110fe2",
   "metadata": {},
   "outputs": [
    {
     "data": {
      "text/html": [
       "<div>\n",
       "<style scoped>\n",
       "    .dataframe tbody tr th:only-of-type {\n",
       "        vertical-align: middle;\n",
       "    }\n",
       "\n",
       "    .dataframe tbody tr th {\n",
       "        vertical-align: top;\n",
       "    }\n",
       "\n",
       "    .dataframe thead th {\n",
       "        text-align: right;\n",
       "    }\n",
       "</style>\n",
       "<table border=\"1\" class=\"dataframe\">\n",
       "  <thead>\n",
       "    <tr style=\"text-align: right;\">\n",
       "      <th></th>\n",
       "      <th>url</th>\n",
       "      <th>date</th>\n",
       "    </tr>\n",
       "  </thead>\n",
       "  <tbody>\n",
       "    <tr>\n",
       "      <th>0</th>\n",
       "      <td>https://www.institutoeuropeo.net/home/</td>\n",
       "      <td>13212144642644231</td>\n",
       "    </tr>\n",
       "    <tr>\n",
       "      <th>1</th>\n",
       "      <td>https://learndigital.withgoogle.com/activate/p...</td>\n",
       "      <td>13213188272419415</td>\n",
       "    </tr>\n",
       "  </tbody>\n",
       "</table>\n",
       "</div>"
      ],
      "text/plain": [
       "                                                 url               date\n",
       "0             https://www.institutoeuropeo.net/home/  13212144642644231\n",
       "1  https://learndigital.withgoogle.com/activate/p...  13213188272419415"
      ]
     },
     "execution_count": 42,
     "metadata": {},
     "output_type": "execute_result"
    }
   ],
   "source": [
    "df_chrome_bookmarks.head(2)"
   ]
  },
  {
   "cell_type": "code",
   "execution_count": null,
   "id": "c5e5298a",
   "metadata": {},
   "outputs": [],
   "source": [
    "///////////////////////////////////////////////////////////////////////////////////////////////////////////////////////////////"
   ]
  },
  {
   "cell_type": "markdown",
   "id": "fe186f0c",
   "metadata": {},
   "source": [
    "### Google Play Store / (json) [***COMPLETED***]"
   ]
  },
  {
   "cell_type": "code",
   "execution_count": 48,
   "id": "42e6c31e",
   "metadata": {},
   "outputs": [],
   "source": [
    "def google_pl_sto_dev():\n",
    "    for i in files_list:\n",
    "        if i == 'Google Play Store':\n",
    "            local = f\"{path_string}/{i}/Devices.json\"\n",
    "    try:\n",
    "        f = open(local)\n",
    "        data = json.load(f)\n",
    "        temp = json_normalize(data)\n",
    "        return temp\n",
    "    except NameError:\n",
    "        return "
   ]
  },
  {
   "cell_type": "code",
   "execution_count": 49,
   "id": "6b2e14ec",
   "metadata": {},
   "outputs": [],
   "source": [
    "google_pl_sto_dev = google_pl_sto_dev()"
   ]
  },
  {
   "cell_type": "code",
   "execution_count": 50,
   "id": "d57e7dda",
   "metadata": {},
   "outputs": [],
   "source": [
    "google_pl_sto_dev.rename(columns={'device.mostRecentData.carrierName':'CarrierName',\n",
    "                                  'device.mostRecentData.playStoreClientVersion':'ClientVersion',\n",
    "                                  'device.mostRecentData.manufacturer':'Manufacturer',\n",
    "                                  'device.mostRecentData.modelName':'Model',\n",
    "                                  'device.mostRecentData.deviceName':'DeviceName',\n",
    "                                  'device.mostRecentData.productName':'ProductName',\n",
    "                                  'device.mostRecentData.retailBrand':'RetailBrand',\n",
    "                                 'device.mostRecentData.totalMemoryBytes':'Memory',\n",
    "                                 'device.mostRecentData.deviceIpCountry':'Country',\n",
    "                                 'device.mostRecentData.userLocale':'LocalUser',\n",
    "                                  'device.mostRecentData.nativePlatform':'Platform',\n",
    "                                 'device.mostRecentData.buildFingerprint':'Fingerprint',\n",
    "                                 'device.mostRecentData.androidSdkVersion':'AndroidVersion',\n",
    "                                 'device.deviceRegistrationTime':'ActiveSince',\n",
    "                                 'device.userAddedOnDeviceTime':'TimeLapse',\n",
    "                                 'device.lastTimeDeviceActive':'LastTimeActive'}, inplace=True)"
   ]
  },
  {
   "cell_type": "code",
   "execution_count": 51,
   "id": "60deade8",
   "metadata": {},
   "outputs": [],
   "source": [
    "google_pl_sto_dev.drop(columns=['Platform'], inplace=True)"
   ]
  },
  {
   "cell_type": "code",
   "execution_count": 52,
   "id": "082da133",
   "metadata": {},
   "outputs": [
    {
     "data": {
      "text/html": [
       "<div>\n",
       "<style scoped>\n",
       "    .dataframe tbody tr th:only-of-type {\n",
       "        vertical-align: middle;\n",
       "    }\n",
       "\n",
       "    .dataframe tbody tr th {\n",
       "        vertical-align: top;\n",
       "    }\n",
       "\n",
       "    .dataframe thead th {\n",
       "        text-align: right;\n",
       "    }\n",
       "</style>\n",
       "<table border=\"1\" class=\"dataframe\">\n",
       "  <thead>\n",
       "    <tr style=\"text-align: right;\">\n",
       "      <th></th>\n",
       "      <th>CarrierName</th>\n",
       "      <th>ClientVersion</th>\n",
       "      <th>Manufacturer</th>\n",
       "      <th>Model</th>\n",
       "      <th>DeviceName</th>\n",
       "      <th>ProductName</th>\n",
       "      <th>RetailBrand</th>\n",
       "      <th>Memory</th>\n",
       "      <th>Country</th>\n",
       "      <th>LocalUser</th>\n",
       "      <th>Fingerprint</th>\n",
       "      <th>AndroidVersion</th>\n",
       "      <th>ActiveSince</th>\n",
       "      <th>TimeLapse</th>\n",
       "      <th>LastTimeActive</th>\n",
       "    </tr>\n",
       "  </thead>\n",
       "  <tbody>\n",
       "    <tr>\n",
       "      <th>0</th>\n",
       "      <td>Orange</td>\n",
       "      <td>82821010</td>\n",
       "      <td>Sony</td>\n",
       "      <td>H3311</td>\n",
       "      <td>H3311</td>\n",
       "      <td>H3311</td>\n",
       "      <td>Sony</td>\n",
       "      <td>3042852864</td>\n",
       "      <td>ES</td>\n",
       "      <td>es_ES</td>\n",
       "      <td>Sony/H3311/H3311:7.1.1/49.0.A.6.107/1689623269...</td>\n",
       "      <td>25</td>\n",
       "      <td>2021-03-20T15:49:29.415Z</td>\n",
       "      <td>2021-03-20T15:52:30.583Z</td>\n",
       "      <td>2021-12-04T22:30:38.817567Z</td>\n",
       "    </tr>\n",
       "    <tr>\n",
       "      <th>1</th>\n",
       "      <td>Orange</td>\n",
       "      <td>82442310</td>\n",
       "      <td>HMD Global</td>\n",
       "      <td>TA-1032</td>\n",
       "      <td>NE1</td>\n",
       "      <td>TA-1032_00WW</td>\n",
       "      <td>Nokia</td>\n",
       "      <td>1955610624</td>\n",
       "      <td>ES</td>\n",
       "      <td>es_ES</td>\n",
       "      <td>Nokia/TA-1032_00WW/NE1:9/PPR1.180610.011/00WW_...</td>\n",
       "      <td>28</td>\n",
       "      <td>2017-11-10T17:54:07.398Z</td>\n",
       "      <td>2017-12-19T23:49:13.181Z</td>\n",
       "      <td>2021-03-20T15:43:57.299247Z</td>\n",
       "    </tr>\n",
       "  </tbody>\n",
       "</table>\n",
       "</div>"
      ],
      "text/plain": [
       "  CarrierName  ClientVersion Manufacturer    Model DeviceName   ProductName  \\\n",
       "0      Orange       82821010         Sony    H3311      H3311         H3311   \n",
       "1      Orange       82442310   HMD Global  TA-1032        NE1  TA-1032_00WW   \n",
       "\n",
       "  RetailBrand      Memory Country LocalUser  \\\n",
       "0        Sony  3042852864      ES     es_ES   \n",
       "1       Nokia  1955610624      ES     es_ES   \n",
       "\n",
       "                                         Fingerprint AndroidVersion  \\\n",
       "0  Sony/H3311/H3311:7.1.1/49.0.A.6.107/1689623269...             25   \n",
       "1  Nokia/TA-1032_00WW/NE1:9/PPR1.180610.011/00WW_...             28   \n",
       "\n",
       "                ActiveSince                 TimeLapse  \\\n",
       "0  2021-03-20T15:49:29.415Z  2021-03-20T15:52:30.583Z   \n",
       "1  2017-11-10T17:54:07.398Z  2017-12-19T23:49:13.181Z   \n",
       "\n",
       "                LastTimeActive  \n",
       "0  2021-12-04T22:30:38.817567Z  \n",
       "1  2021-03-20T15:43:57.299247Z  "
      ]
     },
     "execution_count": 52,
     "metadata": {},
     "output_type": "execute_result"
    }
   ],
   "source": [
    "google_pl_sto_dev.head()"
   ]
  },
  {
   "cell_type": "code",
   "execution_count": 53,
   "id": "ddfee94e",
   "metadata": {},
   "outputs": [],
   "source": [
    "def google_pl_sto_installs():\n",
    "    for i in files_list:\n",
    "        if i == 'Google Play Store':\n",
    "            local = f\"{path_string}/{i}/Installs.json\"\n",
    "    try:\n",
    "        f = open(local)\n",
    "        data = json.load(f)\n",
    "        temp = json_normalize(data)\n",
    "        return temp\n",
    "    except NameError:\n",
    "        return "
   ]
  },
  {
   "cell_type": "code",
   "execution_count": 54,
   "id": "18a6cb6c",
   "metadata": {},
   "outputs": [],
   "source": [
    "google_pl_sto_installs = google_pl_sto_installs()"
   ]
  },
  {
   "cell_type": "code",
   "execution_count": 55,
   "id": "478860ab",
   "metadata": {},
   "outputs": [],
   "source": [
    "google_pl_sto_installs.rename(columns={'install.doc.documentType':'From',\n",
    "                                  'install.doc.title':'Title',\n",
    "                                  'install.firstInstallationTime':'InstallationTime',\n",
    "                                  'install.deviceAttribute.model':'Model',\n",
    "                                  'install.deviceAttribute.carrier':'CarrierName',\n",
    "                                  'install.deviceAttribute.manufacturer':'Manufacturer',\n",
    "                                  'install.lastUpdateTime':'UpdateTime'}, inplace=True)"
   ]
  },
  {
   "cell_type": "code",
   "execution_count": 56,
   "id": "f5033be7",
   "metadata": {},
   "outputs": [],
   "source": [
    "google_pl_sto_installs.drop(columns=['install.deviceAttribute.deviceDisplayName'], axis=1, inplace=True)"
   ]
  },
  {
   "cell_type": "code",
   "execution_count": 57,
   "id": "f381c37a",
   "metadata": {},
   "outputs": [
    {
     "data": {
      "text/html": [
       "<div>\n",
       "<style scoped>\n",
       "    .dataframe tbody tr th:only-of-type {\n",
       "        vertical-align: middle;\n",
       "    }\n",
       "\n",
       "    .dataframe tbody tr th {\n",
       "        vertical-align: top;\n",
       "    }\n",
       "\n",
       "    .dataframe thead th {\n",
       "        text-align: right;\n",
       "    }\n",
       "</style>\n",
       "<table border=\"1\" class=\"dataframe\">\n",
       "  <thead>\n",
       "    <tr style=\"text-align: right;\">\n",
       "      <th></th>\n",
       "      <th>From</th>\n",
       "      <th>Title</th>\n",
       "      <th>InstallationTime</th>\n",
       "      <th>Model</th>\n",
       "      <th>CarrierName</th>\n",
       "      <th>Manufacturer</th>\n",
       "      <th>UpdateTime</th>\n",
       "    </tr>\n",
       "  </thead>\n",
       "  <tbody>\n",
       "    <tr>\n",
       "      <th>0</th>\n",
       "      <td>Android Apps</td>\n",
       "      <td>Meep - Rutas personalizadas</td>\n",
       "      <td>2021-05-21T15:37:51.377431Z</td>\n",
       "      <td>H3311</td>\n",
       "      <td>Orange</td>\n",
       "      <td>Sony</td>\n",
       "      <td>2021-11-29T10:23:41.762880Z</td>\n",
       "    </tr>\n",
       "    <tr>\n",
       "      <th>1</th>\n",
       "      <td>Android Apps</td>\n",
       "      <td>Google Chrome: rápido y seguro</td>\n",
       "      <td>2021-03-20T15:49:34.794045Z</td>\n",
       "      <td>H3311</td>\n",
       "      <td>Orange</td>\n",
       "      <td>Sony</td>\n",
       "      <td>2021-11-20T04:35:45.058178Z</td>\n",
       "    </tr>\n",
       "    <tr>\n",
       "      <th>2</th>\n",
       "      <td>Android Apps</td>\n",
       "      <td>Google Chrome: rápido y seguro</td>\n",
       "      <td>2017-11-15T17:32:15.465Z</td>\n",
       "      <td>TA-1032</td>\n",
       "      <td>Orange</td>\n",
       "      <td>HMD Global</td>\n",
       "      <td>2021-03-16T11:59:23.052276Z</td>\n",
       "    </tr>\n",
       "  </tbody>\n",
       "</table>\n",
       "</div>"
      ],
      "text/plain": [
       "           From                           Title             InstallationTime  \\\n",
       "0  Android Apps     Meep - Rutas personalizadas  2021-05-21T15:37:51.377431Z   \n",
       "1  Android Apps  Google Chrome: rápido y seguro  2021-03-20T15:49:34.794045Z   \n",
       "2  Android Apps  Google Chrome: rápido y seguro     2017-11-15T17:32:15.465Z   \n",
       "\n",
       "     Model CarrierName Manufacturer                   UpdateTime  \n",
       "0    H3311      Orange         Sony  2021-11-29T10:23:41.762880Z  \n",
       "1    H3311      Orange         Sony  2021-11-20T04:35:45.058178Z  \n",
       "2  TA-1032      Orange   HMD Global  2021-03-16T11:59:23.052276Z  "
      ]
     },
     "execution_count": 57,
     "metadata": {},
     "output_type": "execute_result"
    }
   ],
   "source": [
    "google_pl_sto_installs.head(3)"
   ]
  },
  {
   "cell_type": "code",
   "execution_count": null,
   "id": "55b9e624",
   "metadata": {},
   "outputs": [],
   "source": [
    "///////////////////////////////////////////////////////////////////////////////////////////////////////////////////////////////"
   ]
  },
  {
   "cell_type": "markdown",
   "id": "d24caf1e",
   "metadata": {},
   "source": [
    "### Google Shopping (txt) [***COMPLETED***]"
   ]
  },
  {
   "cell_type": "code",
   "execution_count": 183,
   "id": "527e3db1",
   "metadata": {},
   "outputs": [],
   "source": [
    "def google_shop_address():\n",
    "    for i in files_list:\n",
    "        if i == 'Google Shopping':\n",
    "            local = f\"{path_string}/{i}/Addresses/Addresses.txt\"\n",
    "    try:\n",
    "        myfile = open(local, \"rt\")\n",
    "        contents = myfile.read()\n",
    "        temp = re.split(',|\\n', contents)\n",
    "        myfile.close()\n",
    "        return temp\n",
    "    except NameError:\n",
    "        return "
   ]
  },
  {
   "cell_type": "code",
   "execution_count": 184,
   "id": "e115d56b",
   "metadata": {},
   "outputs": [],
   "source": [
    "google_shop_address = google_shop_address()[2:]"
   ]
  },
  {
   "cell_type": "code",
   "execution_count": 185,
   "id": "a3167332",
   "metadata": {},
   "outputs": [],
   "source": [
    "addr_dicc = {'name': google_shop_address[0],\n",
    "            'phone': google_shop_address[1],\n",
    "            'address': google_shop_address[2]}"
   ]
  },
  {
   "cell_type": "code",
   "execution_count": 186,
   "id": "1200ab79",
   "metadata": {},
   "outputs": [],
   "source": [
    "df_google_shop_address = pd.DataFrame(addr_dicc, index=(0,))"
   ]
  },
  {
   "cell_type": "code",
   "execution_count": 187,
   "id": "7f261fa1",
   "metadata": {},
   "outputs": [
    {
     "data": {
      "text/html": [
       "<div>\n",
       "<style scoped>\n",
       "    .dataframe tbody tr th:only-of-type {\n",
       "        vertical-align: middle;\n",
       "    }\n",
       "\n",
       "    .dataframe tbody tr th {\n",
       "        vertical-align: top;\n",
       "    }\n",
       "\n",
       "    .dataframe thead th {\n",
       "        text-align: right;\n",
       "    }\n",
       "</style>\n",
       "<table border=\"1\" class=\"dataframe\">\n",
       "  <thead>\n",
       "    <tr style=\"text-align: right;\">\n",
       "      <th></th>\n",
       "      <th>name</th>\n",
       "      <th>phone</th>\n",
       "      <th>address</th>\n",
       "    </tr>\n",
       "  </thead>\n",
       "  <tbody>\n",
       "    <tr>\n",
       "      <th>0</th>\n",
       "      <td>José Ramón Díaz</td>\n",
       "      <td>+34 615 68 63 48</td>\n",
       "      <td>Calle del Pintor Murillo Bajo A Alcobendas Mad...</td>\n",
       "    </tr>\n",
       "  </tbody>\n",
       "</table>\n",
       "</div>"
      ],
      "text/plain": [
       "              name             phone  \\\n",
       "0  José Ramón Díaz  +34 615 68 63 48   \n",
       "\n",
       "                                             address  \n",
       "0  Calle del Pintor Murillo Bajo A Alcobendas Mad...  "
      ]
     },
     "execution_count": 187,
     "metadata": {},
     "output_type": "execute_result"
    }
   ],
   "source": [
    "df_google_shop_address.head()"
   ]
  },
  {
   "cell_type": "code",
   "execution_count": null,
   "id": "262dce6d",
   "metadata": {},
   "outputs": [],
   "source": [
    "///////////////////////////////////////////////////////////////////////////////////////////////////////////////////////////////"
   ]
  },
  {
   "cell_type": "markdown",
   "id": "d8e93895",
   "metadata": {},
   "source": [
    "### Maps (json) [***COMPLETED***]"
   ]
  },
  {
   "cell_type": "code",
   "execution_count": 43,
   "id": "316a667a",
   "metadata": {},
   "outputs": [],
   "source": [
    "def maps_favorites():\n",
    "    for i in files_list:\n",
    "        if i == 'Maps':\n",
    "            local = f\"{path_string}/{i}/Mis sitios etiquetados/Sitios etiquetados.json\"\n",
    "    try:\n",
    "        f = open(local)\n",
    "        data = json.load(f)\n",
    "        return data\n",
    "    except NameError:\n",
    "        return "
   ]
  },
  {
   "cell_type": "code",
   "execution_count": 44,
   "id": "20c01f48",
   "metadata": {},
   "outputs": [],
   "source": [
    "maps_favorites = maps_favorites()"
   ]
  },
  {
   "cell_type": "code",
   "execution_count": 45,
   "id": "86063de1",
   "metadata": {},
   "outputs": [],
   "source": [
    "maps_favorites_dicc = {\"coordinates\": [], \n",
    "                        'name': [], \n",
    "                        'address': []}\n",
    "for i in range(len(maps_favorites)):\n",
    "    maps_favorites_dicc[\"coordinates\"].append(maps_favorites['features'][i]['geometry']['coordinates'])\n",
    "    maps_favorites_dicc[\"name\"].append(maps_favorites[\"features\"][i]['properties']['name'])\n",
    "    maps_favorites_dicc[\"address\"].append(maps_favorites[\"features\"][i]['properties'][\"address\"]) "
   ]
  },
  {
   "cell_type": "code",
   "execution_count": 46,
   "id": "a0d423b1",
   "metadata": {},
   "outputs": [],
   "source": [
    "df_maps_favorites = pd.DataFrame(maps_favorites_dicc)"
   ]
  },
  {
   "cell_type": "code",
   "execution_count": 47,
   "id": "c60aafcb",
   "metadata": {},
   "outputs": [
    {
     "data": {
      "text/plain": [
       "pandas.core.series.Series"
      ]
     },
     "execution_count": 47,
     "metadata": {},
     "output_type": "execute_result"
    }
   ],
   "source": [
    "type(df_maps_favorites['coordinates'])"
   ]
  },
  {
   "cell_type": "code",
   "execution_count": 48,
   "id": "a1215587",
   "metadata": {},
   "outputs": [
    {
     "name": "stderr",
     "output_type": "stream",
     "text": [
      "<ipython-input-48-9439837d9b9d>:3: SettingWithCopyWarning: \n",
      "A value is trying to be set on a copy of a slice from a DataFrame\n",
      "\n",
      "See the caveats in the documentation: https://pandas.pydata.org/pandas-docs/stable/user_guide/indexing.html#returning-a-view-versus-a-copy\n",
      "  chrome_browser_history.url[i] = chrome_browser_history.url[i].split('//')[1]\n"
     ]
    }
   ],
   "source": [
    "for i in range(len(chrome_browser_history.url)):\n",
    "    if '//' in chrome_browser_history.url[i]:\n",
    "        chrome_browser_history.url[i] = chrome_browser_history.url[i].split('//')[1]"
   ]
  },
  {
   "cell_type": "code",
   "execution_count": 49,
   "id": "999970e0",
   "metadata": {},
   "outputs": [
    {
     "data": {
      "text/plain": [
       "\"split_data = df_maps_favorites.coordinates.str.split(', ')\\ndf_maps_favorites['lat'] = split_data.apply(lambda x: x[0])\\ndf_maps_favorites['long'] = split_data.apply(lambda x: x[1])\""
      ]
     },
     "execution_count": 49,
     "metadata": {},
     "output_type": "execute_result"
    }
   ],
   "source": [
    "'''split_data = df_maps_favorites.coordinates.str.split(', ')\n",
    "df_maps_favorites['lat'] = split_data.apply(lambda x: x[0])\n",
    "df_maps_favorites['long'] = split_data.apply(lambda x: x[1])'''"
   ]
  },
  {
   "cell_type": "code",
   "execution_count": 50,
   "id": "fa16a6b9",
   "metadata": {},
   "outputs": [
    {
     "data": {
      "text/html": [
       "<div>\n",
       "<style scoped>\n",
       "    .dataframe tbody tr th:only-of-type {\n",
       "        vertical-align: middle;\n",
       "    }\n",
       "\n",
       "    .dataframe tbody tr th {\n",
       "        vertical-align: top;\n",
       "    }\n",
       "\n",
       "    .dataframe thead th {\n",
       "        text-align: right;\n",
       "    }\n",
       "</style>\n",
       "<table border=\"1\" class=\"dataframe\">\n",
       "  <thead>\n",
       "    <tr style=\"text-align: right;\">\n",
       "      <th></th>\n",
       "      <th>coordinates</th>\n",
       "      <th>name</th>\n",
       "      <th>address</th>\n",
       "    </tr>\n",
       "  </thead>\n",
       "  <tbody>\n",
       "    <tr>\n",
       "      <th>0</th>\n",
       "      <td>[-3.6396805999999997, 40.5392152]</td>\n",
       "      <td>Casa</td>\n",
       "      <td>Calle del Pintor Murillo, 4, 28100 Alcobendas,...</td>\n",
       "    </tr>\n",
       "    <tr>\n",
       "      <th>1</th>\n",
       "      <td>[-3.7046802, 40.4792542]</td>\n",
       "      <td>Trabajo</td>\n",
       "      <td>Av. de Monforte de Lemos, Madrid, España</td>\n",
       "    </tr>\n",
       "  </tbody>\n",
       "</table>\n",
       "</div>"
      ],
      "text/plain": [
       "                         coordinates     name  \\\n",
       "0  [-3.6396805999999997, 40.5392152]     Casa   \n",
       "1           [-3.7046802, 40.4792542]  Trabajo   \n",
       "\n",
       "                                             address  \n",
       "0  Calle del Pintor Murillo, 4, 28100 Alcobendas,...  \n",
       "1           Av. de Monforte de Lemos, Madrid, España  "
      ]
     },
     "execution_count": 50,
     "metadata": {},
     "output_type": "execute_result"
    }
   ],
   "source": [
    "df_maps_favorites"
   ]
  },
  {
   "cell_type": "code",
   "execution_count": 51,
   "id": "1ce4b619",
   "metadata": {},
   "outputs": [],
   "source": [
    "def maps_own_sites():\n",
    "    for i in files_list:\n",
    "        if i == \"Maps (Tus sitios)\":\n",
    "            local = f\"{path_string}/{i}/Sitios guardados.json\"\n",
    "    try:\n",
    "        f = open(local)\n",
    "        data = json.load(f)\n",
    "        return data\n",
    "    except NameError:\n",
    "        return"
   ]
  },
  {
   "cell_type": "code",
   "execution_count": 52,
   "id": "7771495d",
   "metadata": {},
   "outputs": [],
   "source": [
    "maps_own_sites = maps_own_sites()"
   ]
  },
  {
   "cell_type": "code",
   "execution_count": 53,
   "id": "fa78aded",
   "metadata": {},
   "outputs": [],
   "source": [
    "maps_own_sites_dicc = {\"coordinates\": [],\n",
    "                       'address': [],\n",
    "                        'name': [],\n",
    "                       'title': [],\n",
    "                       'date': []\n",
    "                        }\n",
    "for i in range(len(maps_own_sites_dicc)):\n",
    "    maps_own_sites_dicc[\"coordinates\"].append(maps_own_sites['features'][i]['geometry']['coordinates'])\n",
    "    maps_own_sites_dicc[\"address\"].append(maps_own_sites[\"features\"][i]['properties']['Location'][\"Address\"])\n",
    "    maps_own_sites_dicc[\"name\"].append(maps_own_sites[\"features\"][i]['properties']['Location']['Business Name'])\n",
    "    maps_own_sites_dicc[\"title\"].append(maps_own_sites[\"features\"][i]['properties']['Title'])\n",
    "    maps_own_sites_dicc[\"date\"].append(maps_own_sites[\"features\"][i]['properties']['Updated'])"
   ]
  },
  {
   "cell_type": "code",
   "execution_count": 54,
   "id": "77fe5e7a",
   "metadata": {},
   "outputs": [],
   "source": [
    "df_maps_own_sites = pd.DataFrame(maps_own_sites_dicc)"
   ]
  },
  {
   "cell_type": "code",
   "execution_count": 55,
   "id": "b24f48eb",
   "metadata": {},
   "outputs": [],
   "source": [
    "df_maps_own_sites.drop(columns=['title'], axis=1, inplace=True)"
   ]
  },
  {
   "cell_type": "code",
   "execution_count": 56,
   "id": "512f402e",
   "metadata": {},
   "outputs": [
    {
     "data": {
      "text/html": [
       "<div>\n",
       "<style scoped>\n",
       "    .dataframe tbody tr th:only-of-type {\n",
       "        vertical-align: middle;\n",
       "    }\n",
       "\n",
       "    .dataframe tbody tr th {\n",
       "        vertical-align: top;\n",
       "    }\n",
       "\n",
       "    .dataframe thead th {\n",
       "        text-align: right;\n",
       "    }\n",
       "</style>\n",
       "<table border=\"1\" class=\"dataframe\">\n",
       "  <thead>\n",
       "    <tr style=\"text-align: right;\">\n",
       "      <th></th>\n",
       "      <th>coordinates</th>\n",
       "      <th>address</th>\n",
       "      <th>name</th>\n",
       "      <th>date</th>\n",
       "    </tr>\n",
       "  </thead>\n",
       "  <tbody>\n",
       "    <tr>\n",
       "      <th>0</th>\n",
       "      <td>[10.7349734, 59.9179351]</td>\n",
       "      <td>St. Olavs Gate 31, 0166 Oslo, Noruega</td>\n",
       "      <td>Thon Hotel Europa</td>\n",
       "      <td>2019-09-26T10:57:03Z</td>\n",
       "    </tr>\n",
       "    <tr>\n",
       "      <th>1</th>\n",
       "      <td>[10.7339016, 59.9185713]</td>\n",
       "      <td>Holbergs gate 30, 0166 Oslo, Noruega</td>\n",
       "      <td>Radisson Blu Scandinavia Hotel, Oslo</td>\n",
       "      <td>2019-09-26T10:56:31Z</td>\n",
       "    </tr>\n",
       "    <tr>\n",
       "      <th>2</th>\n",
       "      <td>[10.7367862, 59.9177177]</td>\n",
       "      <td>St. Olavs Gate 26, 0166 Oslo, Noruega</td>\n",
       "      <td>Smarthotel Oslo</td>\n",
       "      <td>2019-09-26T10:56:04Z</td>\n",
       "    </tr>\n",
       "    <tr>\n",
       "      <th>3</th>\n",
       "      <td>[10.748712, 59.9106631]</td>\n",
       "      <td>Fred Olsens gate 11, 0152 Oslo, Noruega</td>\n",
       "      <td>Comfort Hotel Xpress Central Station</td>\n",
       "      <td>2019-09-26T10:55:37Z</td>\n",
       "    </tr>\n",
       "    <tr>\n",
       "      <th>4</th>\n",
       "      <td>[10.7165944, 59.9421593]</td>\n",
       "      <td>Forskningsparken Aksjeselskap, Gaustadalléen 2...</td>\n",
       "      <td>Forskningsparken - Oslo Science Park</td>\n",
       "      <td>2019-09-26T10:54:41Z</td>\n",
       "    </tr>\n",
       "  </tbody>\n",
       "</table>\n",
       "</div>"
      ],
      "text/plain": [
       "                coordinates  \\\n",
       "0  [10.7349734, 59.9179351]   \n",
       "1  [10.7339016, 59.9185713]   \n",
       "2  [10.7367862, 59.9177177]   \n",
       "3   [10.748712, 59.9106631]   \n",
       "4  [10.7165944, 59.9421593]   \n",
       "\n",
       "                                             address  \\\n",
       "0              St. Olavs Gate 31, 0166 Oslo, Noruega   \n",
       "1               Holbergs gate 30, 0166 Oslo, Noruega   \n",
       "2              St. Olavs Gate 26, 0166 Oslo, Noruega   \n",
       "3            Fred Olsens gate 11, 0152 Oslo, Noruega   \n",
       "4  Forskningsparken Aksjeselskap, Gaustadalléen 2...   \n",
       "\n",
       "                                   name                  date  \n",
       "0                     Thon Hotel Europa  2019-09-26T10:57:03Z  \n",
       "1  Radisson Blu Scandinavia Hotel, Oslo  2019-09-26T10:56:31Z  \n",
       "2                       Smarthotel Oslo  2019-09-26T10:56:04Z  \n",
       "3  Comfort Hotel Xpress Central Station  2019-09-26T10:55:37Z  \n",
       "4  Forskningsparken - Oslo Science Park  2019-09-26T10:54:41Z  "
      ]
     },
     "execution_count": 56,
     "metadata": {},
     "output_type": "execute_result"
    }
   ],
   "source": [
    "df_maps_own_sites"
   ]
  },
  {
   "cell_type": "code",
   "execution_count": null,
   "id": "61674bb4",
   "metadata": {},
   "outputs": [],
   "source": [
    "///////////////////////////////////////////////////////////////////////////////////////////////////////////////////////////////"
   ]
  },
  {
   "cell_type": "markdown",
   "id": "8f632f40",
   "metadata": {},
   "source": [
    "### Gmail (mbox) [***COMPLETED***]"
   ]
  },
  {
   "cell_type": "code",
   "execution_count": 155,
   "id": "826ece87",
   "metadata": {},
   "outputs": [],
   "source": [
    "for i in files_list:\n",
    "        if i == \"Correo\":\n",
    "            local = f\"{path_string}/{i}/Todo el correo, incluido Spam y Papelera.mbox\""
   ]
  },
  {
   "cell_type": "code",
   "execution_count": 156,
   "id": "901b00ff",
   "metadata": {},
   "outputs": [],
   "source": [
    "email_list = []"
   ]
  },
  {
   "cell_type": "code",
   "execution_count": 157,
   "id": "e7f3f37e",
   "metadata": {},
   "outputs": [],
   "source": [
    "### define all the things ###\n",
    "def quarters(date):\n",
    "# a function to print which quarter an email was in\n",
    "\n",
    "    winter = [1,2,3] #january through march\n",
    "    spring = [4,5,6] #april through june\n",
    "    summer = [7,8] #july through september\n",
    "    fall = [9,10,11,12] #october through december\n",
    "    if date.month in winter:\n",
    "        return \"WN\"\n",
    "    elif date.month in spring:\n",
    "        return \"SPR\"\n",
    "    elif date.month in summer:\n",
    "        return \"SU\"\n",
    "    elif date.month in fall:\n",
    "        return \"FA\"\n",
    "\n",
    "def d_o_w(date):\n",
    "#a function that returns the day on which a call was recorded\n",
    "    \n",
    "    days_of_week = {0:\"Mon\", 1:\"Tues\", 2:\"Wed\", 3:\"Thurs\", 4:\"Fri\", 5:\"Sat\", 6:\"Sun\"}\n",
    "    temp = date.reset_index(drop=True)\n",
    "    \n",
    "    #subtract 12 hours as a buffer for late call logs throughout the night, since calls\n",
    "    #can come in at up to 2 am, but call logs can be submitted at any time in the next day\n",
    "    \n",
    "    temp_day = temp[\"Date\"] - pd.Timedelta(hours=12) \n",
    "    day = []\n",
    "    for i in temp_day:\n",
    "        day.append(days_of_week.get(i.dayofweek))\n",
    "    return day\n",
    "\n",
    "\"\"\" \n",
    "the following two functions are courtesy\n",
    "of stack overflow user R. Fabbiri\n",
    "\n",
    "http://stackoverflow.com/questions/7166922/extracting\n",
    "-the-body-of-an-email-from-mbox-file-decoding-it-to\n",
    "-plain-text-regard\n",
    "\"\"\"\n",
    "def getcharsets(msg):\n",
    "    charsets = set({})\n",
    "    for c in msg.get_charsets():\n",
    "        if c is not None:\n",
    "            charsets.update([c])\n",
    "    return charsets\n",
    "\n",
    "def getBody(msg):\n",
    "    while msg.is_multipart():\n",
    "        msg=msg.get_payload()[0]\n",
    "    t=msg.get_payload(decode=True)\n",
    "    for charset in getcharsets(msg):\n",
    "        t=t.decode(charset)\n",
    "    t = lxml.html.fromstring(t.lower()).text_content()\n",
    "    t = unicodedata.normalize(\"NFKD\", t)\n",
    "    t = re.sub(r'[\\t\\n\\r]', ' ', t)\n",
    "    return t"
   ]
  },
  {
   "cell_type": "code",
   "execution_count": 110,
   "id": "c136ef91",
   "metadata": {},
   "outputs": [
    {
     "name": "stdout",
     "output_type": "stream",
     "text": [
      "<class 'mailbox.mbox'>\n",
      "['X-GM-THRID', 'X-Gmail-Labels', 'Delivered-To', 'Received', 'X-Google-Smtp-Source', 'X-Received', 'ARC-Seal', 'ARC-Message-Signature', 'ARC-Authentication-Results', 'Return-Path', 'Received', 'Received-SPF', 'Authentication-Results', 'Received', 'From', 'To', 'Subject', 'Content-Type', 'X-Mailer', 'MIME-Version', 'Message-ID', 'Return-Path', 'Date']\n",
      "This mailbox has 3408 messages.\n"
     ]
    }
   ],
   "source": [
    "full_mail = mailbox.mbox(local)\n",
    "print(type(full_mail))\n",
    "print(full_mail[0].keys())\n",
    "print(\"This mailbox has \" + str(len(full_mail)) + \" messages.\")"
   ]
  },
  {
   "cell_type": "code",
   "execution_count": 111,
   "id": "256d94a8",
   "metadata": {},
   "outputs": [
    {
     "name": "stdout",
     "output_type": "stream",
     "text": [
      "AN EXAMPLE OF THE SUBJECT: =?UTF-8?Q?Su_candidatura_en_la_oferta_MONITORES_PARA_TALLERES_CIENT=C3=8DFICOS_ha_sido_remitida_a_la_empresa?=\n",
      "\n",
      "AN EXAMPLE OF THE SENDER: BOLSA DE EMPLEO DEL AYUNTAMIENTO DE ALCOBENDAS\r\n",
      "\t<bolsaempleo@aytoalcobendas.org>\n",
      "\n",
      "AN EXAMPLE OF THE RECEPIENTS: <jrdiazordaz03@gmail.com>\n",
      "\n",
      "AN EXAMPLE OF THE BODY: <\n"
     ]
    }
   ],
   "source": [
    "n = random.randrange(0, len(full_mail))\n",
    "print(\"AN EXAMPLE OF THE SUBJECT: \" + full_mail[n][\"Subject\"])\n",
    "print(\"\\nAN EXAMPLE OF THE SENDER: \" + full_mail[n][\"From\"])\n",
    "print(\"\\nAN EXAMPLE OF THE RECEPIENTS: \" + full_mail[n][\"To\"])\n",
    "print(\"\\nAN EXAMPLE OF THE BODY: \" + str(full_mail[n].get_payload()[0]))"
   ]
  },
  {
   "cell_type": "code",
   "execution_count": 124,
   "id": "7f575172",
   "metadata": {},
   "outputs": [
    {
     "name": "stdout",
     "output_type": "stream",
     "text": [
      "AN EXAMPLE OF THE DATE: Mon, 4 Oct 2021 14:07:58 +0200\n"
     ]
    }
   ],
   "source": [
    "print(\"AN EXAMPLE OF THE DATE: \" + full_mail[n][\"Date\"])"
   ]
  },
  {
   "cell_type": "code",
   "execution_count": 158,
   "id": "692f6096",
   "metadata": {},
   "outputs": [
    {
     "name": "stderr",
     "output_type": "stream",
     "text": [
      "Processing: 3408it [01:27, 39.13it/s] \n"
     ]
    }
   ],
   "source": [
    "fields = ['Date', 'From', 'To', 'Subject','X-Gmail-Labels', 'X-GM-THRID']\n",
    "allMessages = []\n",
    "\n",
    "for message in tqdm(full_mail.itervalues(), desc='Processing'):\n",
    "    dmessage = dict(message.items())\n",
    "    allMessages.append({field:dmessage[field] if field in dmessage.keys() else '' for field in fields})\n",
    "\n",
    "mail = pd.DataFrame(allMessages)"
   ]
  },
  {
   "cell_type": "code",
   "execution_count": 159,
   "id": "b3fe39a0",
   "metadata": {},
   "outputs": [],
   "source": [
    "mail['Date'] = mail['Date'].str.replace(\"\\+.*\", '', regex=True)"
   ]
  },
  {
   "cell_type": "code",
   "execution_count": 160,
   "id": "cb3548ed",
   "metadata": {},
   "outputs": [],
   "source": [
    "mail['Date'] = mail['Date'].str.replace(\",\", '')\n",
    "mail['FinalDate'] = mail['Date'].str.findall(r'\\d{1,2}\\s\\w{3}\\s\\d{4}')"
   ]
  },
  {
   "cell_type": "code",
   "execution_count": 161,
   "id": "e4d445c5",
   "metadata": {},
   "outputs": [],
   "source": [
    "def extract_element(x):\n",
    "    return x[0]"
   ]
  },
  {
   "cell_type": "code",
   "execution_count": 162,
   "id": "bab279ac",
   "metadata": {},
   "outputs": [],
   "source": [
    "mail['FinalDate'] = mail['FinalDate'].apply(extract_element)"
   ]
  },
  {
   "cell_type": "code",
   "execution_count": 163,
   "id": "1a77cc0c",
   "metadata": {},
   "outputs": [],
   "source": [
    "mail['Time'] = mail['Date']"
   ]
  },
  {
   "cell_type": "code",
   "execution_count": 164,
   "id": "a504ff53",
   "metadata": {},
   "outputs": [],
   "source": [
    "for i in range(len(mail['Date'])):\n",
    "    mail['Time'][i] = mail['Date'][i][-9:]"
   ]
  },
  {
   "cell_type": "code",
   "execution_count": 165,
   "id": "4f76384a",
   "metadata": {},
   "outputs": [],
   "source": [
    "mail['date'] = pd.to_datetime(mail['FinalDate'], utc=False)"
   ]
  },
  {
   "cell_type": "code",
   "execution_count": 166,
   "id": "16a43a25",
   "metadata": {},
   "outputs": [],
   "source": [
    "mail.drop(columns=['Date', 'FinalDate'], inplace=True)"
   ]
  },
  {
   "cell_type": "code",
   "execution_count": 167,
   "id": "af6455c1",
   "metadata": {},
   "outputs": [
    {
     "name": "stderr",
     "output_type": "stream",
     "text": [
      "<ipython-input-167-7777946a0e48>:3: SettingWithCopyWarning: \n",
      "A value is trying to be set on a copy of a slice from a DataFrame\n",
      "\n",
      "See the caveats in the documentation: https://pandas.pydata.org/pandas-docs/stable/user_guide/indexing.html#returning-a-view-versus-a-copy\n",
      "  mail['From'][i] = mail['From'][i].replace('<', '')\n",
      "<ipython-input-167-7777946a0e48>:4: SettingWithCopyWarning: \n",
      "A value is trying to be set on a copy of a slice from a DataFrame\n",
      "\n",
      "See the caveats in the documentation: https://pandas.pydata.org/pandas-docs/stable/user_guide/indexing.html#returning-a-view-versus-a-copy\n",
      "  mail['From'][i] = mail['From'][i].replace('>', '')\n"
     ]
    },
    {
     "ename": "TypeError",
     "evalue": "argument of type 'Header' is not iterable",
     "output_type": "error",
     "traceback": [
      "\u001b[0;31m---------------------------------------------------------------------------\u001b[0m",
      "\u001b[0;31mTypeError\u001b[0m                                 Traceback (most recent call last)",
      "\u001b[0;32m<ipython-input-167-7777946a0e48>\u001b[0m in \u001b[0;36m<module>\u001b[0;34m\u001b[0m\n\u001b[1;32m      1\u001b[0m \u001b[0;32mfor\u001b[0m \u001b[0mi\u001b[0m \u001b[0;32min\u001b[0m \u001b[0mrange\u001b[0m\u001b[0;34m(\u001b[0m\u001b[0mlen\u001b[0m\u001b[0;34m(\u001b[0m\u001b[0mmail\u001b[0m\u001b[0;34m[\u001b[0m\u001b[0;34m'From'\u001b[0m\u001b[0;34m]\u001b[0m\u001b[0;34m)\u001b[0m\u001b[0;34m)\u001b[0m\u001b[0;34m:\u001b[0m\u001b[0;34m\u001b[0m\u001b[0;34m\u001b[0m\u001b[0m\n\u001b[0;32m----> 2\u001b[0;31m     \u001b[0;32mif\u001b[0m \u001b[0;34m'<'\u001b[0m \u001b[0;32min\u001b[0m \u001b[0mmail\u001b[0m\u001b[0;34m[\u001b[0m\u001b[0;34m'From'\u001b[0m\u001b[0;34m]\u001b[0m\u001b[0;34m[\u001b[0m\u001b[0mi\u001b[0m\u001b[0;34m]\u001b[0m \u001b[0;32mor\u001b[0m \u001b[0;34m'>'\u001b[0m \u001b[0;32min\u001b[0m \u001b[0mmail\u001b[0m\u001b[0;34m[\u001b[0m\u001b[0;34m'From'\u001b[0m\u001b[0;34m]\u001b[0m\u001b[0;34m[\u001b[0m\u001b[0mi\u001b[0m\u001b[0;34m]\u001b[0m\u001b[0;34m:\u001b[0m\u001b[0;34m\u001b[0m\u001b[0;34m\u001b[0m\u001b[0m\n\u001b[0m\u001b[1;32m      3\u001b[0m         \u001b[0mmail\u001b[0m\u001b[0;34m[\u001b[0m\u001b[0;34m'From'\u001b[0m\u001b[0;34m]\u001b[0m\u001b[0;34m[\u001b[0m\u001b[0mi\u001b[0m\u001b[0;34m]\u001b[0m \u001b[0;34m=\u001b[0m \u001b[0mmail\u001b[0m\u001b[0;34m[\u001b[0m\u001b[0;34m'From'\u001b[0m\u001b[0;34m]\u001b[0m\u001b[0;34m[\u001b[0m\u001b[0mi\u001b[0m\u001b[0;34m]\u001b[0m\u001b[0;34m.\u001b[0m\u001b[0mreplace\u001b[0m\u001b[0;34m(\u001b[0m\u001b[0;34m'<'\u001b[0m\u001b[0;34m,\u001b[0m \u001b[0;34m''\u001b[0m\u001b[0;34m)\u001b[0m\u001b[0;34m\u001b[0m\u001b[0;34m\u001b[0m\u001b[0m\n\u001b[1;32m      4\u001b[0m         \u001b[0mmail\u001b[0m\u001b[0;34m[\u001b[0m\u001b[0;34m'From'\u001b[0m\u001b[0;34m]\u001b[0m\u001b[0;34m[\u001b[0m\u001b[0mi\u001b[0m\u001b[0;34m]\u001b[0m \u001b[0;34m=\u001b[0m \u001b[0mmail\u001b[0m\u001b[0;34m[\u001b[0m\u001b[0;34m'From'\u001b[0m\u001b[0;34m]\u001b[0m\u001b[0;34m[\u001b[0m\u001b[0mi\u001b[0m\u001b[0;34m]\u001b[0m\u001b[0;34m.\u001b[0m\u001b[0mreplace\u001b[0m\u001b[0;34m(\u001b[0m\u001b[0;34m'>'\u001b[0m\u001b[0;34m,\u001b[0m \u001b[0;34m''\u001b[0m\u001b[0;34m)\u001b[0m\u001b[0;34m\u001b[0m\u001b[0;34m\u001b[0m\u001b[0m\n",
      "\u001b[0;31mTypeError\u001b[0m: argument of type 'Header' is not iterable"
     ]
    }
   ],
   "source": [
    "for i in range(len(mail['From'])):\n",
    "    if '<' in mail['From'][i] or '>' in mail['From'][i]:\n",
    "        mail['From'][i] = mail['From'][i].replace('<', '')\n",
    "        mail['From'][i] = mail['From'][i].replace('>', '')"
   ]
  },
  {
   "cell_type": "code",
   "execution_count": 168,
   "id": "ed269ceb",
   "metadata": {},
   "outputs": [
    {
     "name": "stderr",
     "output_type": "stream",
     "text": [
      "<ipython-input-168-b3e438c4ea7f>:2: SettingWithCopyWarning: \n",
      "A value is trying to be set on a copy of a slice from a DataFrame\n",
      "\n",
      "See the caveats in the documentation: https://pandas.pydata.org/pandas-docs/stable/user_guide/indexing.html#returning-a-view-versus-a-copy\n",
      "  mail['To'][i] = mail['To'][i].replace('<', '')\n",
      "<ipython-input-168-b3e438c4ea7f>:3: SettingWithCopyWarning: \n",
      "A value is trying to be set on a copy of a slice from a DataFrame\n",
      "\n",
      "See the caveats in the documentation: https://pandas.pydata.org/pandas-docs/stable/user_guide/indexing.html#returning-a-view-versus-a-copy\n",
      "  mail['To'][i] = mail['To'][i].replace('>', '')\n"
     ]
    },
    {
     "ename": "AttributeError",
     "evalue": "'Header' object has no attribute 'replace'",
     "output_type": "error",
     "traceback": [
      "\u001b[0;31m---------------------------------------------------------------------------\u001b[0m",
      "\u001b[0;31mAttributeError\u001b[0m                            Traceback (most recent call last)",
      "\u001b[0;32m<ipython-input-168-b3e438c4ea7f>\u001b[0m in \u001b[0;36m<module>\u001b[0;34m\u001b[0m\n\u001b[1;32m      1\u001b[0m \u001b[0;32mfor\u001b[0m \u001b[0mi\u001b[0m \u001b[0;32min\u001b[0m \u001b[0mrange\u001b[0m\u001b[0;34m(\u001b[0m\u001b[0mlen\u001b[0m\u001b[0;34m(\u001b[0m\u001b[0mmail\u001b[0m\u001b[0;34m[\u001b[0m\u001b[0;34m'To'\u001b[0m\u001b[0;34m]\u001b[0m\u001b[0;34m)\u001b[0m\u001b[0;34m)\u001b[0m\u001b[0;34m:\u001b[0m\u001b[0;34m\u001b[0m\u001b[0;34m\u001b[0m\u001b[0m\n\u001b[0;32m----> 2\u001b[0;31m     \u001b[0mmail\u001b[0m\u001b[0;34m[\u001b[0m\u001b[0;34m'To'\u001b[0m\u001b[0;34m]\u001b[0m\u001b[0;34m[\u001b[0m\u001b[0mi\u001b[0m\u001b[0;34m]\u001b[0m \u001b[0;34m=\u001b[0m \u001b[0mmail\u001b[0m\u001b[0;34m[\u001b[0m\u001b[0;34m'To'\u001b[0m\u001b[0;34m]\u001b[0m\u001b[0;34m[\u001b[0m\u001b[0mi\u001b[0m\u001b[0;34m]\u001b[0m\u001b[0;34m.\u001b[0m\u001b[0mreplace\u001b[0m\u001b[0;34m(\u001b[0m\u001b[0;34m'<'\u001b[0m\u001b[0;34m,\u001b[0m \u001b[0;34m''\u001b[0m\u001b[0;34m)\u001b[0m\u001b[0;34m\u001b[0m\u001b[0;34m\u001b[0m\u001b[0m\n\u001b[0m\u001b[1;32m      3\u001b[0m     \u001b[0mmail\u001b[0m\u001b[0;34m[\u001b[0m\u001b[0;34m'To'\u001b[0m\u001b[0;34m]\u001b[0m\u001b[0;34m[\u001b[0m\u001b[0mi\u001b[0m\u001b[0;34m]\u001b[0m \u001b[0;34m=\u001b[0m \u001b[0mmail\u001b[0m\u001b[0;34m[\u001b[0m\u001b[0;34m'To'\u001b[0m\u001b[0;34m]\u001b[0m\u001b[0;34m[\u001b[0m\u001b[0mi\u001b[0m\u001b[0;34m]\u001b[0m\u001b[0;34m.\u001b[0m\u001b[0mreplace\u001b[0m\u001b[0;34m(\u001b[0m\u001b[0;34m'>'\u001b[0m\u001b[0;34m,\u001b[0m \u001b[0;34m''\u001b[0m\u001b[0;34m)\u001b[0m\u001b[0;34m\u001b[0m\u001b[0;34m\u001b[0m\u001b[0m\n",
      "\u001b[0;31mAttributeError\u001b[0m: 'Header' object has no attribute 'replace'"
     ]
    }
   ],
   "source": [
    "for i in range(len(mail['To'])):\n",
    "    mail['To'][i] = mail['To'][i].replace('<', '')\n",
    "    mail['To'][i] = mail['To'][i].replace('>', '')"
   ]
  },
  {
   "cell_type": "code",
   "execution_count": 169,
   "id": "020815e1",
   "metadata": {},
   "outputs": [
    {
     "name": "stderr",
     "output_type": "stream",
     "text": [
      "Processing: 100%|██████████| 3408/3408 [01:31<00:00, 37.14it/s] \n"
     ]
    },
    {
     "data": {
      "text/html": [
       "<div>\n",
       "<style scoped>\n",
       "    .dataframe tbody tr th:only-of-type {\n",
       "        vertical-align: middle;\n",
       "    }\n",
       "\n",
       "    .dataframe tbody tr th {\n",
       "        vertical-align: top;\n",
       "    }\n",
       "\n",
       "    .dataframe thead th {\n",
       "        text-align: right;\n",
       "    }\n",
       "</style>\n",
       "<table border=\"1\" class=\"dataframe\">\n",
       "  <thead>\n",
       "    <tr style=\"text-align: right;\">\n",
       "      <th></th>\n",
       "      <th>From</th>\n",
       "      <th>To</th>\n",
       "      <th>Subject</th>\n",
       "      <th>labels</th>\n",
       "      <th>thread</th>\n",
       "      <th>Time</th>\n",
       "      <th>date</th>\n",
       "      <th>body</th>\n",
       "      <th>quarter</th>\n",
       "    </tr>\n",
       "  </thead>\n",
       "  <tbody>\n",
       "    <tr>\n",
       "      <th>0</th>\n",
       "      <td>provomad@cruzroja.es</td>\n",
       "      <td>jrdiazordaz03@gmail.com</td>\n",
       "      <td>III Jornadas Creando igualdad: di���logos con ...</td>\n",
       "      <td>Recibidos,Abierto</td>\n",
       "      <td>1718080706845359492</td>\n",
       "      <td>00:57:23</td>\n",
       "      <td>2021-12-03</td>\n",
       "      <td>estimado jose ramon:    los próximos días 14...</td>\n",
       "      <td>FA</td>\n",
       "    </tr>\n",
       "    <tr>\n",
       "      <th>1</th>\n",
       "      <td>supportlearning@ifrc.org</td>\n",
       "      <td>jrdiazordaz03@gmail.com</td>\n",
       "      <td>=?utf-8?B?SGVsbG8gSm9zw6kgUmFtw7NuIC0gTGVhcm5p...</td>\n",
       "      <td>Recibidos,Abierto</td>\n",
       "      <td>1718143568455302745</td>\n",
       "      <td>:52 -0800</td>\n",
       "      <td>2021-12-03</td>\n",
       "      <td>*|mc:subject|*                    p{     margi...</td>\n",
       "      <td>FA</td>\n",
       "    </tr>\n",
       "  </tbody>\n",
       "</table>\n",
       "</div>"
      ],
      "text/plain": [
       "                       From                       To  \\\n",
       "0      provomad@cruzroja.es  jrdiazordaz03@gmail.com   \n",
       "1  supportlearning@ifrc.org  jrdiazordaz03@gmail.com   \n",
       "\n",
       "                                             Subject             labels  \\\n",
       "0  III Jornadas Creando igualdad: di���logos con ...  Recibidos,Abierto   \n",
       "1  =?utf-8?B?SGVsbG8gSm9zw6kgUmFtw7NuIC0gTGVhcm5p...  Recibidos,Abierto   \n",
       "\n",
       "                thread       Time       date  \\\n",
       "0  1718080706845359492  00:57:23  2021-12-03   \n",
       "1  1718143568455302745  :52 -0800 2021-12-03   \n",
       "\n",
       "                                                body quarter  \n",
       "0  estimado jose ramon:    los próximos días 14...      FA  \n",
       "1  *|mc:subject|*                    p{     margi...      FA  "
      ]
     },
     "execution_count": 169,
     "metadata": {},
     "output_type": "execute_result"
    }
   ],
   "source": [
    "bodies = []\n",
    "\n",
    "for i in tqdm(range(len(full_mail)), desc='Processing'):\n",
    "    try:\n",
    "        t = getBody(full_mail[i])\n",
    "        t = lxml.html.fromstring(t.lower()).text_content()\n",
    "        t = unicodedata.normalize(\"NFKD\", t)\n",
    "        bodies.append(t)\n",
    "    except:\n",
    "        bodies.append(\"\")\n",
    "# remove pesky replies and signatures\n",
    "bodies = [re.sub(\"on \\d\\d/\\d\\d/\\d\\d.+\",\"\",bodies[n]) for n in range(len(bodies))]\n",
    "bodies = [re.sub(\"--.+\",\"\",bodies[n]) for n in range(len(bodies))]\n",
    "bodies = [re.sub(\"_+\", \"\",bodies[n]) for n in range(len(bodies))]\n",
    "\n",
    "mail[\"body\"] = bodies\n",
    "mail[\"quarter\"]=[quarters(i) for i in mail[\"date\"]]\n",
    "\n",
    "\n",
    "mail.head(2)"
   ]
  },
  {
   "cell_type": "code",
   "execution_count": 171,
   "id": "b6e22298",
   "metadata": {},
   "outputs": [],
   "source": [
    "mail = mail.rename(columns = {\"X-GM-THRID\" : \"thread\",\"X-Gmail-Labels\" : \"labels\", 'From':'from', 'To':'to'})"
   ]
  },
  {
   "cell_type": "code",
   "execution_count": 172,
   "id": "5fcf5d8d",
   "metadata": {},
   "outputs": [
    {
     "data": {
      "text/html": [
       "<div>\n",
       "<style scoped>\n",
       "    .dataframe tbody tr th:only-of-type {\n",
       "        vertical-align: middle;\n",
       "    }\n",
       "\n",
       "    .dataframe tbody tr th {\n",
       "        vertical-align: top;\n",
       "    }\n",
       "\n",
       "    .dataframe thead th {\n",
       "        text-align: right;\n",
       "    }\n",
       "</style>\n",
       "<table border=\"1\" class=\"dataframe\">\n",
       "  <thead>\n",
       "    <tr style=\"text-align: right;\">\n",
       "      <th></th>\n",
       "      <th>from</th>\n",
       "      <th>to</th>\n",
       "      <th>Subject</th>\n",
       "      <th>labels</th>\n",
       "      <th>thread</th>\n",
       "      <th>Time</th>\n",
       "      <th>date</th>\n",
       "      <th>body</th>\n",
       "      <th>quarter</th>\n",
       "    </tr>\n",
       "  </thead>\n",
       "  <tbody>\n",
       "    <tr>\n",
       "      <th>0</th>\n",
       "      <td>provomad@cruzroja.es</td>\n",
       "      <td>jrdiazordaz03@gmail.com</td>\n",
       "      <td>III Jornadas Creando igualdad: di���logos con ...</td>\n",
       "      <td>Recibidos,Abierto</td>\n",
       "      <td>1718080706845359492</td>\n",
       "      <td>00:57:23</td>\n",
       "      <td>2021-12-03</td>\n",
       "      <td>estimado jose ramon:    los próximos días 14...</td>\n",
       "      <td>FA</td>\n",
       "    </tr>\n",
       "  </tbody>\n",
       "</table>\n",
       "</div>"
      ],
      "text/plain": [
       "                   from                       to  \\\n",
       "0  provomad@cruzroja.es  jrdiazordaz03@gmail.com   \n",
       "\n",
       "                                             Subject             labels  \\\n",
       "0  III Jornadas Creando igualdad: di���logos con ...  Recibidos,Abierto   \n",
       "\n",
       "                thread       Time       date  \\\n",
       "0  1718080706845359492  00:57:23  2021-12-03   \n",
       "\n",
       "                                                body quarter  \n",
       "0  estimado jose ramon:    los próximos días 14...      FA  "
      ]
     },
     "execution_count": 172,
     "metadata": {},
     "output_type": "execute_result"
    }
   ],
   "source": [
    "mail.head(1)"
   ]
  },
  {
   "cell_type": "code",
   "execution_count": null,
   "id": "c191bf8f",
   "metadata": {},
   "outputs": [],
   "source": [
    "///////////////////////////////////////////////////////////////////////////////////////////////////////////////////////////////"
   ]
  },
  {
   "cell_type": "markdown",
   "id": "ca2f9f79",
   "metadata": {},
   "source": [
    "### Location History (json) --> no tengo datos míos, es muy difícil la estructura"
   ]
  },
  {
   "cell_type": "code",
   "execution_count": null,
   "id": "67b4b4b2",
   "metadata": {},
   "outputs": [],
   "source": [
    "///////////////////////////////////////////////////////////////////////////////////////////////////////////////////////////////"
   ]
  },
  {
   "cell_type": "markdown",
   "id": "fe1a24f1",
   "metadata": {},
   "source": [
    "### Google Fotos (json) [***COMPLETED***]"
   ]
  },
  {
   "cell_type": "code",
   "execution_count": 83,
   "id": "a71b523a",
   "metadata": {},
   "outputs": [],
   "source": [
    "def folder_selector():\n",
    "    for i in files_list:\n",
    "        if i == \"Google Fotos\":\n",
    "            local = f\"{path_string}/{i}/\"\n",
    "            \n",
    "    with os.scandir(local) as ficheros:\n",
    "        ficheros = [fichero.name for fichero in ficheros if fichero.is_file() == False]\n",
    "    return ficheros\n",
    "\n",
    "def folder_iterator(*args, **kwargs):\n",
    "    for i in files_list:\n",
    "        if i == \"Google Fotos\":\n",
    "            local = f\"{path_string}/{i}/\"\n",
    "    directory = []\n",
    "    for i in folder_selector():\n",
    "        path = f\"{local}{i}\"\n",
    "        directory.append(path)\n",
    "    return directory\n",
    "\n",
    "def csv_scanner(*args, **kwargs):\n",
    "    csvs = []\n",
    "    for j in folder_iterator():\n",
    "        os.chdir(j)\n",
    "        temp_ = glob.glob(\"*.json\")\n",
    "        csvs.append(temp_)\n",
    "    #g1 = [i.replace(\"'\", '') for i in csvs]\n",
    "    return csvs\n",
    "\n",
    "def merge_JsonFiles(*args, **kwargs):\n",
    "    result = []\n",
    "    for f1 in csv_scanner():\n",
    "        for j in f1:\n",
    "            f = open(j)\n",
    "            data = json.load(f)\n",
    "            result.append(data)\n",
    "    return result\n",
    "\n",
    "def pics_info_extractor(*args, **kwargs):\n",
    "    result = merge_JsonFiles()\n",
    "    title_ = [i[\"title\"] for i in result]\n",
    "    description_ = [i[\"description\"] for i in result]\n",
    "    imageViews_ = [i[\"imageViews\"] for i in result]\n",
    "    timestamp_ = [i[\"photoTakenTime\"]['timestamp'] for i in result]\n",
    "    dicct_ = {'title':title_,'description':description_,'imageViews':imageViews_,'timestamp':timestamp_}\n",
    "    df = pd.DataFrame(dicct_, columns=('title','description','imageViews','timestamp'))\n",
    "    return df"
   ]
  },
  {
   "cell_type": "code",
   "execution_count": 84,
   "id": "74f2aeae",
   "metadata": {},
   "outputs": [],
   "source": [
    "pics_info_extractor = pics_info_extractor()"
   ]
  },
  {
   "cell_type": "code",
   "execution_count": 85,
   "id": "b07a4e48",
   "metadata": {},
   "outputs": [
    {
     "data": {
      "text/html": [
       "<div>\n",
       "<style scoped>\n",
       "    .dataframe tbody tr th:only-of-type {\n",
       "        vertical-align: middle;\n",
       "    }\n",
       "\n",
       "    .dataframe tbody tr th {\n",
       "        vertical-align: top;\n",
       "    }\n",
       "\n",
       "    .dataframe thead th {\n",
       "        text-align: right;\n",
       "    }\n",
       "</style>\n",
       "<table border=\"1\" class=\"dataframe\">\n",
       "  <thead>\n",
       "    <tr style=\"text-align: right;\">\n",
       "      <th></th>\n",
       "      <th>title</th>\n",
       "      <th>description</th>\n",
       "      <th>imageViews</th>\n",
       "      <th>timestamp</th>\n",
       "    </tr>\n",
       "  </thead>\n",
       "  <tbody>\n",
       "    <tr>\n",
       "      <th>0</th>\n",
       "      <td>IMG_20200709_121740.jpg</td>\n",
       "      <td></td>\n",
       "      <td>7</td>\n",
       "      <td>1594289860</td>\n",
       "    </tr>\n",
       "  </tbody>\n",
       "</table>\n",
       "</div>"
      ],
      "text/plain": [
       "                     title description imageViews   timestamp\n",
       "0  IMG_20200709_121740.jpg                      7  1594289860"
      ]
     },
     "execution_count": 85,
     "metadata": {},
     "output_type": "execute_result"
    }
   ],
   "source": [
    "pics_info_extractor"
   ]
  },
  {
   "cell_type": "code",
   "execution_count": null,
   "id": "b45e135c",
   "metadata": {},
   "outputs": [],
   "source": [
    "///////////////////////////////////////////////////////////////////////////////////////////////////////////////////////////////"
   ]
  },
  {
   "cell_type": "markdown",
   "id": "0f2c4c1f",
   "metadata": {},
   "source": [
    "### Drive (varios)"
   ]
  },
  {
   "cell_type": "code",
   "execution_count": 86,
   "id": "e803c00c",
   "metadata": {},
   "outputs": [],
   "source": [
    "def drive_scanner():\n",
    "    for i in files_list:\n",
    "        if i == \"Drive\":\n",
    "            local = f\"{path_string}/{i}/\"\n",
    "            \n",
    "    pdf = []\n",
    "    mp4 = []\n",
    "    xls = []\n",
    "    pptx = []\n",
    "    html = []\n",
    "    kmz = []\n",
    "    flv = []\n",
    "    mp3 = []\n",
    "    xlsx = []\n",
    "    jpg = []\n",
    "    docx = []\n",
    "    txt = []\n",
    "\n",
    "    for root, dirs, files in os.walk(local):\n",
    "    # select file name\n",
    "        for file in files:\n",
    "        # check the extension of files\n",
    "            if file.endswith('.pdf'):\n",
    "                pdf.append(os.path.join(file))\n",
    "            if file.endswith('.mp4'):\n",
    "                mp4.append(os.path.join(file))\n",
    "            if file.endswith('.xls'):\n",
    "                xls.append(os.path.join(file))\n",
    "            if file.endswith('.pptx'):\n",
    "                pptx.append(os.path.join(file))\n",
    "            if file.endswith('.html'):\n",
    "                html.append(os.path.join(file))\n",
    "            if file.endswith('.kmz'):\n",
    "                kmz.append(os.path.join(file))\n",
    "            if file.endswith('.flv'):\n",
    "                flv.append(os.path.join(file))\n",
    "            if file.endswith('.mp3'):\n",
    "                mp3.append(os.path.join(file))\n",
    "            if file.endswith('.xlsx'):\n",
    "                mp3.append(os.path.join(file))\n",
    "            if file.endswith('.jpg'):\n",
    "                mp3.append(os.path.join(file))\n",
    "            if file.endswith('.docx'):\n",
    "                mp3.append(os.path.join(file))\n",
    "            if file.endswith('.txt'):\n",
    "                mp3.append(os.path.join(file))\n",
    "    \n",
    "    dictionary = {'pdf':pdf,'mp4':mp4,'xls':xls,'pptx':pptx,'html':html,'kmz':kmz,'flv':flv,\n",
    "                  'mp3':mp3,'xlsx':xlsx,'jpg':jpg,'docx':docx,'txt':txt}\n",
    "    \n",
    "    serie = pd.Series(dictionary)\n",
    "    \n",
    "    df = pd.DataFrame(serie).T\n",
    "    \n",
    "    return df\n"
   ]
  },
  {
   "cell_type": "code",
   "execution_count": 158,
   "id": "27f02527",
   "metadata": {},
   "outputs": [],
   "source": [
    "def drive_counter():\n",
    "    for i in files_list:\n",
    "        if i == \"Drive\":\n",
    "            local = f\"{path_string}/{i}/\"\n",
    "\n",
    "    os.chdir(local)\n",
    "    cnt = collections.Counter()\n",
    "    for filename in glob.glob(\"*\"):\n",
    "        name, ext = os.path.splitext(filename)\n",
    "        cnt[ext] += 1\n",
    "    df = pd.DataFrame(cnt, index=(0,))\n",
    "    return df"
   ]
  },
  {
   "cell_type": "code",
   "execution_count": 159,
   "id": "5d42a166",
   "metadata": {},
   "outputs": [],
   "source": [
    "drive_counter = drive_counter()"
   ]
  },
  {
   "cell_type": "code",
   "execution_count": 152,
   "id": "93966e1d",
   "metadata": {},
   "outputs": [
    {
     "data": {
      "text/html": [
       "<div>\n",
       "<style scoped>\n",
       "    .dataframe tbody tr th:only-of-type {\n",
       "        vertical-align: middle;\n",
       "    }\n",
       "\n",
       "    .dataframe tbody tr th {\n",
       "        vertical-align: top;\n",
       "    }\n",
       "\n",
       "    .dataframe thead th {\n",
       "        text-align: right;\n",
       "    }\n",
       "</style>\n",
       "<table border=\"1\" class=\"dataframe\">\n",
       "  <thead>\n",
       "    <tr style=\"text-align: right;\">\n",
       "      <th></th>\n",
       "      <th>.pdf</th>\n",
       "      <th>.docx</th>\n",
       "      <th></th>\n",
       "      <th>.mp3</th>\n",
       "      <th>.txt</th>\n",
       "      <th>.doc</th>\n",
       "      <th>.zip</th>\n",
       "      <th>.xls</th>\n",
       "      <th>.xlsx</th>\n",
       "      <th>.JPG</th>\n",
       "      <th>.pptx</th>\n",
       "      <th>.mp4</th>\n",
       "      <th>.html</th>\n",
       "      <th>.kmz</th>\n",
       "      <th>.flv</th>\n",
       "    </tr>\n",
       "  </thead>\n",
       "  <tbody>\n",
       "    <tr>\n",
       "      <th>0</th>\n",
       "      <td>6</td>\n",
       "      <td>2</td>\n",
       "      <td>18</td>\n",
       "      <td>9</td>\n",
       "      <td>1</td>\n",
       "      <td>1</td>\n",
       "      <td>1</td>\n",
       "      <td>1</td>\n",
       "      <td>5</td>\n",
       "      <td>1</td>\n",
       "      <td>3</td>\n",
       "      <td>5</td>\n",
       "      <td>1</td>\n",
       "      <td>1</td>\n",
       "      <td>1</td>\n",
       "    </tr>\n",
       "  </tbody>\n",
       "</table>\n",
       "</div>"
      ],
      "text/plain": [
       "   .pdf  .docx      .mp3  .txt  .doc  .zip  .xls  .xlsx  .JPG  .pptx  .mp4  \\\n",
       "0     6      2  18     9     1     1     1     1      5     1      3     5   \n",
       "\n",
       "   .html  .kmz  .flv  \n",
       "0      1     1     1  "
      ]
     },
     "execution_count": 152,
     "metadata": {},
     "output_type": "execute_result"
    }
   ],
   "source": [
    "drive_counter.head()"
   ]
  },
  {
   "cell_type": "code",
   "execution_count": 87,
   "id": "e87e99c4",
   "metadata": {},
   "outputs": [],
   "source": [
    "drive_scanner = drive_scanner()"
   ]
  },
  {
   "cell_type": "code",
   "execution_count": 88,
   "id": "c203abd2",
   "metadata": {},
   "outputs": [
    {
     "data": {
      "text/html": [
       "<div>\n",
       "<style scoped>\n",
       "    .dataframe tbody tr th:only-of-type {\n",
       "        vertical-align: middle;\n",
       "    }\n",
       "\n",
       "    .dataframe tbody tr th {\n",
       "        vertical-align: top;\n",
       "    }\n",
       "\n",
       "    .dataframe thead th {\n",
       "        text-align: right;\n",
       "    }\n",
       "</style>\n",
       "<table border=\"1\" class=\"dataframe\">\n",
       "  <thead>\n",
       "    <tr style=\"text-align: right;\">\n",
       "      <th></th>\n",
       "      <th>pdf</th>\n",
       "      <th>mp4</th>\n",
       "      <th>xls</th>\n",
       "      <th>pptx</th>\n",
       "      <th>html</th>\n",
       "      <th>kmz</th>\n",
       "      <th>flv</th>\n",
       "      <th>mp3</th>\n",
       "      <th>xlsx</th>\n",
       "      <th>jpg</th>\n",
       "      <th>docx</th>\n",
       "      <th>txt</th>\n",
       "    </tr>\n",
       "  </thead>\n",
       "  <tbody>\n",
       "    <tr>\n",
       "      <th>0</th>\n",
       "      <td>[20201013 El Plan Responde en datos.pdf, CV_EN...</td>\n",
       "      <td>[KIZOA-Movie-Maker-29yinzuv.mp4, MOV_0016.mp4,...</td>\n",
       "      <td>[Escape Rooms.xls, H2020-PHC-2014_CNECT_Annexe...</td>\n",
       "      <td>[INCLIVA_conv. 2020 SC1 H2020_HE_03.09.2019_ v...</td>\n",
       "      <td>[Modulo5y6.html, KBDOC-00001.html, KBDOC-00002...</td>\n",
       "      <td>[Participación española en Infraestructuras de...</td>\n",
       "      <td>[The uses of Tai Chi Chuan.flv]</td>\n",
       "      <td>[Abstract.docx, Can_t Hold Us corto.mp3, Can_t...</td>\n",
       "      <td>[]</td>\n",
       "      <td>[]</td>\n",
       "      <td>[]</td>\n",
       "      <td>[]</td>\n",
       "    </tr>\n",
       "  </tbody>\n",
       "</table>\n",
       "</div>"
      ],
      "text/plain": [
       "                                                 pdf  \\\n",
       "0  [20201013 El Plan Responde en datos.pdf, CV_EN...   \n",
       "\n",
       "                                                 mp4  \\\n",
       "0  [KIZOA-Movie-Maker-29yinzuv.mp4, MOV_0016.mp4,...   \n",
       "\n",
       "                                                 xls  \\\n",
       "0  [Escape Rooms.xls, H2020-PHC-2014_CNECT_Annexe...   \n",
       "\n",
       "                                                pptx  \\\n",
       "0  [INCLIVA_conv. 2020 SC1 H2020_HE_03.09.2019_ v...   \n",
       "\n",
       "                                                html  \\\n",
       "0  [Modulo5y6.html, KBDOC-00001.html, KBDOC-00002...   \n",
       "\n",
       "                                                 kmz  \\\n",
       "0  [Participación española en Infraestructuras de...   \n",
       "\n",
       "                               flv  \\\n",
       "0  [The uses of Tai Chi Chuan.flv]   \n",
       "\n",
       "                                                 mp3 xlsx jpg docx txt  \n",
       "0  [Abstract.docx, Can_t Hold Us corto.mp3, Can_t...   []  []   []  []  "
      ]
     },
     "execution_count": 88,
     "metadata": {},
     "output_type": "execute_result"
    }
   ],
   "source": [
    "drive_scanner"
   ]
  },
  {
   "cell_type": "code",
   "execution_count": 89,
   "id": "eb7e1de1",
   "metadata": {},
   "outputs": [
    {
     "data": {
      "text/plain": [
       "0    [20201013 El Plan Responde en datos.pdf, CV_EN...\n",
       "Name: pdf, dtype: object"
      ]
     },
     "execution_count": 89,
     "metadata": {},
     "output_type": "execute_result"
    }
   ],
   "source": [
    "drive_scanner['pdf']"
   ]
  },
  {
   "cell_type": "code",
   "execution_count": null,
   "id": "781bb80f",
   "metadata": {},
   "outputs": [],
   "source": [
    "///////////////////////////////////////////////////////////////////////////////////////////////////////////////////////////////"
   ]
  },
  {
   "cell_type": "markdown",
   "id": "b02fbfd6",
   "metadata": {},
   "source": [
    "# Merge"
   ]
  },
  {
   "cell_type": "markdown",
   "id": "17ba1224",
   "metadata": {},
   "source": [
    "Tables:\n",
    " - personal_info\n",
    " - activity\n",
    " - dispositives\n",
    " - music\n",
    " - history\n",
    " - favorites\n",
    " - locations\n",
    " - photos\n",
    " - drive\n",
    " - gmail"
   ]
  },
  {
   "cell_type": "markdown",
   "id": "0f971ba4",
   "metadata": {},
   "source": [
    "### 1 - personal_info"
   ]
  },
  {
   "cell_type": "code",
   "execution_count": 91,
   "id": "11ec2235",
   "metadata": {},
   "outputs": [
    {
     "data": {
      "text/html": [
       "<div>\n",
       "<style scoped>\n",
       "    .dataframe tbody tr th:only-of-type {\n",
       "        vertical-align: middle;\n",
       "    }\n",
       "\n",
       "    .dataframe tbody tr th {\n",
       "        vertical-align: top;\n",
       "    }\n",
       "\n",
       "    .dataframe thead th {\n",
       "        text-align: right;\n",
       "    }\n",
       "</style>\n",
       "<table border=\"1\" class=\"dataframe\">\n",
       "  <thead>\n",
       "    <tr style=\"text-align: right;\">\n",
       "      <th></th>\n",
       "      <th>Google Account ID</th>\n",
       "      <th>Created on</th>\n",
       "      <th>IP</th>\n",
       "      <th>Language</th>\n",
       "      <th>e-mail</th>\n",
       "      <th>recovery mail</th>\n",
       "      <th>phone</th>\n",
       "    </tr>\n",
       "  </thead>\n",
       "  <tbody>\n",
       "    <tr>\n",
       "      <th>0</th>\n",
       "      <td>907204290308</td>\n",
       "      <td>2017-07-20 08</td>\n",
       "      <td>213.4.207.110</td>\n",
       "      <td>es</td>\n",
       "      <td>JRDiazOrdaz03@gmail.com</td>\n",
       "      <td>IronhideX1@gmail.com</td>\n",
       "      <td>+34615686348 [ES]</td>\n",
       "    </tr>\n",
       "  </tbody>\n",
       "</table>\n",
       "</div>"
      ],
      "text/plain": [
       "  Google Account ID      Created on              IP Language  \\\n",
       "0      907204290308   2017-07-20 08   213.4.207.110       es   \n",
       "\n",
       "                     e-mail          recovery mail               phone  \n",
       "0   JRDiazOrdaz03@gmail.com   IronhideX1@gmail.com   +34615686348 [ES]  "
      ]
     },
     "execution_count": 91,
     "metadata": {},
     "output_type": "execute_result"
    }
   ],
   "source": [
    "li_final.head()"
   ]
  },
  {
   "cell_type": "code",
   "execution_count": 93,
   "id": "289a4c05",
   "metadata": {},
   "outputs": [
    {
     "data": {
      "text/html": [
       "<div>\n",
       "<style scoped>\n",
       "    .dataframe tbody tr th:only-of-type {\n",
       "        vertical-align: middle;\n",
       "    }\n",
       "\n",
       "    .dataframe tbody tr th {\n",
       "        vertical-align: top;\n",
       "    }\n",
       "\n",
       "    .dataframe thead th {\n",
       "        text-align: right;\n",
       "    }\n",
       "</style>\n",
       "<table border=\"1\" class=\"dataframe\">\n",
       "  <thead>\n",
       "    <tr style=\"text-align: right;\">\n",
       "      <th></th>\n",
       "      <th>name</th>\n",
       "      <th>email</th>\n",
       "      <th>gender</th>\n",
       "    </tr>\n",
       "  </thead>\n",
       "  <tbody>\n",
       "    <tr>\n",
       "      <th>0</th>\n",
       "      <td>Jose Diaz</td>\n",
       "      <td>jrdiazordaz03@gmail.com</td>\n",
       "      <td>male</td>\n",
       "    </tr>\n",
       "  </tbody>\n",
       "</table>\n",
       "</div>"
      ],
      "text/plain": [
       "        name                    email gender\n",
       "0  Jose Diaz  jrdiazordaz03@gmail.com   male"
      ]
     },
     "execution_count": 93,
     "metadata": {},
     "output_type": "execute_result"
    }
   ],
   "source": [
    "df_profile_extr.head()"
   ]
  },
  {
   "cell_type": "code",
   "execution_count": 94,
   "id": "2e6ffb56",
   "metadata": {},
   "outputs": [],
   "source": [
    "li_final.rename(columns={'email':'e-mail'}, inplace=True)"
   ]
  },
  {
   "cell_type": "code",
   "execution_count": 104,
   "id": "4038c6b0",
   "metadata": {},
   "outputs": [],
   "source": [
    "li_final['e-mail'] = li_final['e-mail'].str.strip().str.lower()"
   ]
  },
  {
   "cell_type": "code",
   "execution_count": 108,
   "id": "15065043",
   "metadata": {},
   "outputs": [],
   "source": [
    "personal_info = li_final.merge(df_profile_extr, how='outer', on='e-mail')"
   ]
  },
  {
   "cell_type": "code",
   "execution_count": 208,
   "id": "78c90c9f",
   "metadata": {},
   "outputs": [
    {
     "data": {
      "text/html": [
       "<div>\n",
       "<style scoped>\n",
       "    .dataframe tbody tr th:only-of-type {\n",
       "        vertical-align: middle;\n",
       "    }\n",
       "\n",
       "    .dataframe tbody tr th {\n",
       "        vertical-align: top;\n",
       "    }\n",
       "\n",
       "    .dataframe thead th {\n",
       "        text-align: right;\n",
       "    }\n",
       "</style>\n",
       "<table border=\"1\" class=\"dataframe\">\n",
       "  <thead>\n",
       "    <tr style=\"text-align: right;\">\n",
       "      <th></th>\n",
       "      <th>Google Account ID</th>\n",
       "      <th>Created on</th>\n",
       "      <th>IP</th>\n",
       "      <th>Language</th>\n",
       "      <th>e-mail</th>\n",
       "      <th>recovery mail</th>\n",
       "      <th>phone</th>\n",
       "      <th>name</th>\n",
       "      <th>gender</th>\n",
       "    </tr>\n",
       "  </thead>\n",
       "  <tbody>\n",
       "    <tr>\n",
       "      <th>0</th>\n",
       "      <td>907204290308</td>\n",
       "      <td>2017-07-20 08</td>\n",
       "      <td>213.4.207.110</td>\n",
       "      <td>es</td>\n",
       "      <td>jrdiazordaz03@gmail.com</td>\n",
       "      <td>IronhideX1@gmail.com</td>\n",
       "      <td>+34615686348 [ES]</td>\n",
       "      <td>Jose Diaz</td>\n",
       "      <td>male</td>\n",
       "    </tr>\n",
       "  </tbody>\n",
       "</table>\n",
       "</div>"
      ],
      "text/plain": [
       "  Google Account ID      Created on              IP Language  \\\n",
       "0      907204290308   2017-07-20 08   213.4.207.110       es   \n",
       "\n",
       "                    e-mail          recovery mail               phone  \\\n",
       "0  jrdiazordaz03@gmail.com   IronhideX1@gmail.com   +34615686348 [ES]   \n",
       "\n",
       "        name gender  \n",
       "0  Jose Diaz   male  "
      ]
     },
     "execution_count": 208,
     "metadata": {},
     "output_type": "execute_result"
    }
   ],
   "source": [
    "personal_info.head()"
   ]
  },
  {
   "cell_type": "code",
   "execution_count": 112,
   "id": "5985d1c9",
   "metadata": {},
   "outputs": [],
   "source": [
    "personal_info.to_csv('/mnt/c/Ironhack/Material/Repositorio/Final/data/output/personal_info.csv', index=False)"
   ]
  },
  {
   "cell_type": "markdown",
   "id": "7b814e2e",
   "metadata": {},
   "source": [
    "### 2 - activity"
   ]
  },
  {
   "cell_type": "code",
   "execution_count": 209,
   "id": "89925281",
   "metadata": {},
   "outputs": [
    {
     "data": {
      "text/html": [
       "<div>\n",
       "<style scoped>\n",
       "    .dataframe tbody tr th:only-of-type {\n",
       "        vertical-align: middle;\n",
       "    }\n",
       "\n",
       "    .dataframe tbody tr th {\n",
       "        vertical-align: top;\n",
       "    }\n",
       "\n",
       "    .dataframe thead th {\n",
       "        text-align: right;\n",
       "    }\n",
       "</style>\n",
       "<table border=\"1\" class=\"dataframe\">\n",
       "  <thead>\n",
       "    <tr style=\"text-align: right;\">\n",
       "      <th></th>\n",
       "      <th>ip</th>\n",
       "      <th>activity</th>\n",
       "      <th>date</th>\n",
       "    </tr>\n",
       "  </thead>\n",
       "  <tbody>\n",
       "    <tr>\n",
       "      <th>1</th>\n",
       "      <td>2.136.118.161</td>\n",
       "      <td>Login</td>\n",
       "      <td>2021-12-06 10:27:15 UTC</td>\n",
       "    </tr>\n",
       "    <tr>\n",
       "      <th>2</th>\n",
       "      <td>85.48.184.103</td>\n",
       "      <td>Login</td>\n",
       "      <td>2021-12-06 10:27:11 UTC</td>\n",
       "    </tr>\n",
       "    <tr>\n",
       "      <th>3</th>\n",
       "      <td>89.130.89.27</td>\n",
       "      <td>Login</td>\n",
       "      <td>2021-12-05 14:39:14 UTC</td>\n",
       "    </tr>\n",
       "    <tr>\n",
       "      <th>4</th>\n",
       "      <td>85.48.184.103</td>\n",
       "      <td>Login</td>\n",
       "      <td>2021-12-05 14:39:07 UTC</td>\n",
       "    </tr>\n",
       "    <tr>\n",
       "      <th>5</th>\n",
       "      <td>85.48.184.103</td>\n",
       "      <td>Login</td>\n",
       "      <td>2021-12-05 14:39:06 UTC</td>\n",
       "    </tr>\n",
       "  </tbody>\n",
       "</table>\n",
       "</div>"
      ],
      "text/plain": [
       "              ip activity                     date\n",
       "1  2.136.118.161    Login  2021-12-06 10:27:15 UTC\n",
       "2  85.48.184.103    Login  2021-12-06 10:27:11 UTC\n",
       "3   89.130.89.27    Login  2021-12-05 14:39:14 UTC\n",
       "4  85.48.184.103    Login  2021-12-05 14:39:07 UTC\n",
       "5  85.48.184.103    Login  2021-12-05 14:39:06 UTC"
      ]
     },
     "execution_count": 209,
     "metadata": {},
     "output_type": "execute_result"
    }
   ],
   "source": [
    "tr.head()"
   ]
  },
  {
   "cell_type": "code",
   "execution_count": 114,
   "id": "faa742b8",
   "metadata": {},
   "outputs": [],
   "source": [
    "tr.to_csv('/mnt/c/Ironhack/Material/Repositorio/Final/data/output/activity.csv', index=False)"
   ]
  },
  {
   "cell_type": "markdown",
   "id": "6f739179",
   "metadata": {},
   "source": [
    "### 3 - dispositives"
   ]
  },
  {
   "cell_type": "code",
   "execution_count": 162,
   "id": "ab93232b",
   "metadata": {},
   "outputs": [
    {
     "data": {
      "text/html": [
       "<div>\n",
       "<style scoped>\n",
       "    .dataframe tbody tr th:only-of-type {\n",
       "        vertical-align: middle;\n",
       "    }\n",
       "\n",
       "    .dataframe tbody tr th {\n",
       "        vertical-align: top;\n",
       "    }\n",
       "\n",
       "    .dataframe thead th {\n",
       "        text-align: right;\n",
       "    }\n",
       "</style>\n",
       "<table border=\"1\" class=\"dataframe\">\n",
       "  <thead>\n",
       "    <tr style=\"text-align: right;\">\n",
       "      <th></th>\n",
       "      <th>Gaia ID</th>\n",
       "      <th>Activity Timestamp</th>\n",
       "      <th>IP Address</th>\n",
       "      <th>Activity Country</th>\n",
       "      <th>Activity Region</th>\n",
       "      <th>Activity City</th>\n",
       "      <th>User Agent String</th>\n",
       "      <th>Product Name</th>\n",
       "      <th>Sub-Product Name</th>\n",
       "    </tr>\n",
       "  </thead>\n",
       "  <tbody>\n",
       "    <tr>\n",
       "      <th>0</th>\n",
       "      <td>907204290308</td>\n",
       "      <td>2021-12-05 07:57:48 UTC</td>\n",
       "      <td>89.130.89.27</td>\n",
       "      <td>es</td>\n",
       "      <td>community of madrid</td>\n",
       "      <td>alcobendas</td>\n",
       "      <td>Android-Gmail/62948716 (sw360dp; 320dpi) (H331...</td>\n",
       "      <td>Gmail</td>\n",
       "      <td>Other</td>\n",
       "    </tr>\n",
       "    <tr>\n",
       "      <th>1</th>\n",
       "      <td>907204290308</td>\n",
       "      <td>2021-12-05 07:57:47 UTC</td>\n",
       "      <td>89.130.89.27</td>\n",
       "      <td>es</td>\n",
       "      <td>community of madrid</td>\n",
       "      <td>alcobendas</td>\n",
       "      <td>Android-Gmail/62948716 (sw360dp; 320dpi) (H331...</td>\n",
       "      <td>Gmail</td>\n",
       "      <td>Other</td>\n",
       "    </tr>\n",
       "    <tr>\n",
       "      <th>2</th>\n",
       "      <td>907204290308</td>\n",
       "      <td>2021-12-05 07:57:17 UTC</td>\n",
       "      <td>89.130.89.27</td>\n",
       "      <td>es</td>\n",
       "      <td>community of madrid</td>\n",
       "      <td>alcobendas</td>\n",
       "      <td>Android-Gmail/62948716 (sw360dp; 320dpi) (H331...</td>\n",
       "      <td>Gmail</td>\n",
       "      <td>Other</td>\n",
       "    </tr>\n",
       "  </tbody>\n",
       "</table>\n",
       "</div>"
      ],
      "text/plain": [
       "        Gaia ID       Activity Timestamp    IP Address Activity Country  \\\n",
       "0  907204290308  2021-12-05 07:57:48 UTC  89.130.89.27               es   \n",
       "1  907204290308  2021-12-05 07:57:47 UTC  89.130.89.27               es   \n",
       "2  907204290308  2021-12-05 07:57:17 UTC  89.130.89.27               es   \n",
       "\n",
       "       Activity Region Activity City  \\\n",
       "0  community of madrid    alcobendas   \n",
       "1  community of madrid    alcobendas   \n",
       "2  community of madrid    alcobendas   \n",
       "\n",
       "                                   User Agent String Product Name  \\\n",
       "0  Android-Gmail/62948716 (sw360dp; 320dpi) (H331...        Gmail   \n",
       "1  Android-Gmail/62948716 (sw360dp; 320dpi) (H331...        Gmail   \n",
       "2  Android-Gmail/62948716 (sw360dp; 320dpi) (H331...        Gmail   \n",
       "\n",
       "  Sub-Product Name  \n",
       "0            Other  \n",
       "1            Other  \n",
       "2            Other  "
      ]
     },
     "execution_count": 162,
     "metadata": {},
     "output_type": "execute_result"
    }
   ],
   "source": [
    "activ_services.head(3)"
   ]
  },
  {
   "cell_type": "code",
   "execution_count": 223,
   "id": "d8f15471",
   "metadata": {},
   "outputs": [
    {
     "data": {
      "text/plain": [
       "(60301, 9)"
      ]
     },
     "execution_count": 223,
     "metadata": {},
     "output_type": "execute_result"
    }
   ],
   "source": [
    "activ_services.shape"
   ]
  },
  {
   "cell_type": "code",
   "execution_count": 163,
   "id": "fcdbbea1",
   "metadata": {},
   "outputs": [
    {
     "data": {
      "text/html": [
       "<div>\n",
       "<style scoped>\n",
       "    .dataframe tbody tr th:only-of-type {\n",
       "        vertical-align: middle;\n",
       "    }\n",
       "\n",
       "    .dataframe tbody tr th {\n",
       "        vertical-align: top;\n",
       "    }\n",
       "\n",
       "    .dataframe thead th {\n",
       "        text-align: right;\n",
       "    }\n",
       "</style>\n",
       "<table border=\"1\" class=\"dataframe\">\n",
       "  <thead>\n",
       "    <tr style=\"text-align: right;\">\n",
       "      <th></th>\n",
       "      <th>Device Type</th>\n",
       "      <th>Brand Name</th>\n",
       "      <th>Marketing Name</th>\n",
       "      <th>OS</th>\n",
       "      <th>OS Version</th>\n",
       "      <th>Device Model</th>\n",
       "      <th>Device Last Location</th>\n",
       "      <th>Gaia ID</th>\n",
       "    </tr>\n",
       "  </thead>\n",
       "  <tbody>\n",
       "    <tr>\n",
       "      <th>0</th>\n",
       "      <td>MOBILE</td>\n",
       "      <td>Sony</td>\n",
       "      <td>Xperia L2</td>\n",
       "      <td>Android</td>\n",
       "      <td>7.1.1</td>\n",
       "      <td>H3311</td>\n",
       "      <td>Country ISO: ES\\nLast Activity Time: 2021-12-0...</td>\n",
       "      <td>907204290308</td>\n",
       "    </tr>\n",
       "    <tr>\n",
       "      <th>1</th>\n",
       "      <td>PC</td>\n",
       "      <td>NaN</td>\n",
       "      <td>NaN</td>\n",
       "      <td>Windows</td>\n",
       "      <td>10.0</td>\n",
       "      <td>NaN</td>\n",
       "      <td>Country ISO: ES\\nLast Activity Time: 2021-12-0...</td>\n",
       "      <td>907204290308</td>\n",
       "    </tr>\n",
       "  </tbody>\n",
       "</table>\n",
       "</div>"
      ],
      "text/plain": [
       "  Device Type Brand Name Marketing Name       OS OS Version Device Model  \\\n",
       "0      MOBILE       Sony      Xperia L2  Android      7.1.1        H3311   \n",
       "1          PC        NaN            NaN  Windows       10.0          NaN   \n",
       "\n",
       "                                Device Last Location       Gaia ID  \n",
       "0  Country ISO: ES\\nLast Activity Time: 2021-12-0...  907204290308  \n",
       "1  Country ISO: ES\\nLast Activity Time: 2021-12-0...  907204290308  "
      ]
     },
     "execution_count": 163,
     "metadata": {},
     "output_type": "execute_result"
    }
   ],
   "source": [
    "activ_dispositives.head(3)"
   ]
  },
  {
   "cell_type": "code",
   "execution_count": 215,
   "id": "952e5376",
   "metadata": {},
   "outputs": [],
   "source": [
    "dispositives = activ_services.merge(activ_dispositives, how='inner', on='Gaia ID')"
   ]
  },
  {
   "cell_type": "code",
   "execution_count": 216,
   "id": "12aba7a0",
   "metadata": {},
   "outputs": [
    {
     "data": {
      "text/html": [
       "<div>\n",
       "<style scoped>\n",
       "    .dataframe tbody tr th:only-of-type {\n",
       "        vertical-align: middle;\n",
       "    }\n",
       "\n",
       "    .dataframe tbody tr th {\n",
       "        vertical-align: top;\n",
       "    }\n",
       "\n",
       "    .dataframe thead th {\n",
       "        text-align: right;\n",
       "    }\n",
       "</style>\n",
       "<table border=\"1\" class=\"dataframe\">\n",
       "  <thead>\n",
       "    <tr style=\"text-align: right;\">\n",
       "      <th></th>\n",
       "      <th>From</th>\n",
       "      <th>Title</th>\n",
       "      <th>InstallationTime</th>\n",
       "      <th>Model</th>\n",
       "      <th>CarrierName</th>\n",
       "      <th>Manufacturer</th>\n",
       "      <th>UpdateTime</th>\n",
       "    </tr>\n",
       "  </thead>\n",
       "  <tbody>\n",
       "    <tr>\n",
       "      <th>0</th>\n",
       "      <td>Android Apps</td>\n",
       "      <td>Meep - Rutas personalizadas</td>\n",
       "      <td>2021-05-21T15:37:51.377431Z</td>\n",
       "      <td>H3311</td>\n",
       "      <td>Orange</td>\n",
       "      <td>Sony</td>\n",
       "      <td>2021-11-29T10:23:41.762880Z</td>\n",
       "    </tr>\n",
       "    <tr>\n",
       "      <th>1</th>\n",
       "      <td>Android Apps</td>\n",
       "      <td>Google Chrome: rápido y seguro</td>\n",
       "      <td>2021-03-20T15:49:34.794045Z</td>\n",
       "      <td>H3311</td>\n",
       "      <td>Orange</td>\n",
       "      <td>Sony</td>\n",
       "      <td>2021-11-20T04:35:45.058178Z</td>\n",
       "    </tr>\n",
       "    <tr>\n",
       "      <th>2</th>\n",
       "      <td>Android Apps</td>\n",
       "      <td>Google Chrome: rápido y seguro</td>\n",
       "      <td>2017-11-15T17:32:15.465Z</td>\n",
       "      <td>TA-1032</td>\n",
       "      <td>Orange</td>\n",
       "      <td>HMD Global</td>\n",
       "      <td>2021-03-16T11:59:23.052276Z</td>\n",
       "    </tr>\n",
       "    <tr>\n",
       "      <th>3</th>\n",
       "      <td>Android Apps</td>\n",
       "      <td>Google Chrome: rápido y seguro</td>\n",
       "      <td>2020-02-03T16:57:00.724Z</td>\n",
       "      <td></td>\n",
       "      <td></td>\n",
       "      <td></td>\n",
       "      <td>2020-03-19T23:20:52.820825Z</td>\n",
       "    </tr>\n",
       "    <tr>\n",
       "      <th>4</th>\n",
       "      <td>Android Apps</td>\n",
       "      <td>Grabadora de Voz Fácil</td>\n",
       "      <td>2021-11-05T09:06:44.355204Z</td>\n",
       "      <td>H3311</td>\n",
       "      <td>Orange</td>\n",
       "      <td>Sony</td>\n",
       "      <td>2021-11-05T09:06:44.355204Z</td>\n",
       "    </tr>\n",
       "  </tbody>\n",
       "</table>\n",
       "</div>"
      ],
      "text/plain": [
       "           From                           Title             InstallationTime  \\\n",
       "0  Android Apps     Meep - Rutas personalizadas  2021-05-21T15:37:51.377431Z   \n",
       "1  Android Apps  Google Chrome: rápido y seguro  2021-03-20T15:49:34.794045Z   \n",
       "2  Android Apps  Google Chrome: rápido y seguro     2017-11-15T17:32:15.465Z   \n",
       "3  Android Apps  Google Chrome: rápido y seguro     2020-02-03T16:57:00.724Z   \n",
       "4  Android Apps          Grabadora de Voz Fácil  2021-11-05T09:06:44.355204Z   \n",
       "\n",
       "     Model CarrierName Manufacturer                   UpdateTime  \n",
       "0    H3311      Orange         Sony  2021-11-29T10:23:41.762880Z  \n",
       "1    H3311      Orange         Sony  2021-11-20T04:35:45.058178Z  \n",
       "2  TA-1032      Orange   HMD Global  2021-03-16T11:59:23.052276Z  \n",
       "3                                    2020-03-19T23:20:52.820825Z  \n",
       "4    H3311      Orange         Sony  2021-11-05T09:06:44.355204Z  "
      ]
     },
     "execution_count": 216,
     "metadata": {},
     "output_type": "execute_result"
    }
   ],
   "source": [
    "google_pl_sto_installs.head()"
   ]
  },
  {
   "cell_type": "code",
   "execution_count": 217,
   "id": "822d5c2d",
   "metadata": {},
   "outputs": [],
   "source": [
    "dispositives.rename(columns={'Device Model':'Model'}, inplace=True)"
   ]
  },
  {
   "cell_type": "code",
   "execution_count": 218,
   "id": "bea880b6",
   "metadata": {},
   "outputs": [
    {
     "data": {
      "text/html": [
       "<div>\n",
       "<style scoped>\n",
       "    .dataframe tbody tr th:only-of-type {\n",
       "        vertical-align: middle;\n",
       "    }\n",
       "\n",
       "    .dataframe tbody tr th {\n",
       "        vertical-align: top;\n",
       "    }\n",
       "\n",
       "    .dataframe thead th {\n",
       "        text-align: right;\n",
       "    }\n",
       "</style>\n",
       "<table border=\"1\" class=\"dataframe\">\n",
       "  <thead>\n",
       "    <tr style=\"text-align: right;\">\n",
       "      <th></th>\n",
       "      <th>Gaia ID</th>\n",
       "      <th>Activity Timestamp</th>\n",
       "      <th>IP Address</th>\n",
       "      <th>Activity Country</th>\n",
       "      <th>Activity Region</th>\n",
       "      <th>Activity City</th>\n",
       "      <th>User Agent String</th>\n",
       "      <th>Product Name</th>\n",
       "      <th>Sub-Product Name</th>\n",
       "      <th>Device Type</th>\n",
       "      <th>Brand Name</th>\n",
       "      <th>Marketing Name</th>\n",
       "      <th>OS</th>\n",
       "      <th>OS Version</th>\n",
       "      <th>Model</th>\n",
       "      <th>Device Last Location</th>\n",
       "    </tr>\n",
       "  </thead>\n",
       "  <tbody>\n",
       "    <tr>\n",
       "      <th>0</th>\n",
       "      <td>907204290308</td>\n",
       "      <td>2021-12-05 07:57:48 UTC</td>\n",
       "      <td>89.130.89.27</td>\n",
       "      <td>es</td>\n",
       "      <td>community of madrid</td>\n",
       "      <td>alcobendas</td>\n",
       "      <td>Android-Gmail/62948716 (sw360dp; 320dpi) (H331...</td>\n",
       "      <td>Gmail</td>\n",
       "      <td>Other</td>\n",
       "      <td>MOBILE</td>\n",
       "      <td>Sony</td>\n",
       "      <td>Xperia L2</td>\n",
       "      <td>Android</td>\n",
       "      <td>7.1.1</td>\n",
       "      <td>H3311</td>\n",
       "      <td>Country ISO: ES\\nLast Activity Time: 2021-12-0...</td>\n",
       "    </tr>\n",
       "    <tr>\n",
       "      <th>1</th>\n",
       "      <td>907204290308</td>\n",
       "      <td>2021-12-05 07:57:48 UTC</td>\n",
       "      <td>89.130.89.27</td>\n",
       "      <td>es</td>\n",
       "      <td>community of madrid</td>\n",
       "      <td>alcobendas</td>\n",
       "      <td>Android-Gmail/62948716 (sw360dp; 320dpi) (H331...</td>\n",
       "      <td>Gmail</td>\n",
       "      <td>Other</td>\n",
       "      <td>PC</td>\n",
       "      <td>NaN</td>\n",
       "      <td>NaN</td>\n",
       "      <td>Windows</td>\n",
       "      <td>10.0</td>\n",
       "      <td>NaN</td>\n",
       "      <td>Country ISO: ES\\nLast Activity Time: 2021-12-0...</td>\n",
       "    </tr>\n",
       "    <tr>\n",
       "      <th>2</th>\n",
       "      <td>907204290308</td>\n",
       "      <td>2021-12-05 07:57:47 UTC</td>\n",
       "      <td>89.130.89.27</td>\n",
       "      <td>es</td>\n",
       "      <td>community of madrid</td>\n",
       "      <td>alcobendas</td>\n",
       "      <td>Android-Gmail/62948716 (sw360dp; 320dpi) (H331...</td>\n",
       "      <td>Gmail</td>\n",
       "      <td>Other</td>\n",
       "      <td>MOBILE</td>\n",
       "      <td>Sony</td>\n",
       "      <td>Xperia L2</td>\n",
       "      <td>Android</td>\n",
       "      <td>7.1.1</td>\n",
       "      <td>H3311</td>\n",
       "      <td>Country ISO: ES\\nLast Activity Time: 2021-12-0...</td>\n",
       "    </tr>\n",
       "  </tbody>\n",
       "</table>\n",
       "</div>"
      ],
      "text/plain": [
       "        Gaia ID       Activity Timestamp    IP Address Activity Country  \\\n",
       "0  907204290308  2021-12-05 07:57:48 UTC  89.130.89.27               es   \n",
       "1  907204290308  2021-12-05 07:57:48 UTC  89.130.89.27               es   \n",
       "2  907204290308  2021-12-05 07:57:47 UTC  89.130.89.27               es   \n",
       "\n",
       "       Activity Region Activity City  \\\n",
       "0  community of madrid    alcobendas   \n",
       "1  community of madrid    alcobendas   \n",
       "2  community of madrid    alcobendas   \n",
       "\n",
       "                                   User Agent String Product Name  \\\n",
       "0  Android-Gmail/62948716 (sw360dp; 320dpi) (H331...        Gmail   \n",
       "1  Android-Gmail/62948716 (sw360dp; 320dpi) (H331...        Gmail   \n",
       "2  Android-Gmail/62948716 (sw360dp; 320dpi) (H331...        Gmail   \n",
       "\n",
       "  Sub-Product Name Device Type Brand Name Marketing Name       OS OS Version  \\\n",
       "0            Other      MOBILE       Sony      Xperia L2  Android      7.1.1   \n",
       "1            Other          PC        NaN            NaN  Windows       10.0   \n",
       "2            Other      MOBILE       Sony      Xperia L2  Android      7.1.1   \n",
       "\n",
       "   Model                               Device Last Location  \n",
       "0  H3311  Country ISO: ES\\nLast Activity Time: 2021-12-0...  \n",
       "1    NaN  Country ISO: ES\\nLast Activity Time: 2021-12-0...  \n",
       "2  H3311  Country ISO: ES\\nLast Activity Time: 2021-12-0...  "
      ]
     },
     "execution_count": 218,
     "metadata": {},
     "output_type": "execute_result"
    }
   ],
   "source": [
    "dispositives.head(3)"
   ]
  },
  {
   "cell_type": "code",
   "execution_count": 219,
   "id": "fc8f6f04",
   "metadata": {},
   "outputs": [],
   "source": [
    "dispositives1 = dispositives.merge(google_pl_sto_installs, how='inner', on='Model')"
   ]
  },
  {
   "cell_type": "code",
   "execution_count": 1,
   "id": "76dee8f9",
   "metadata": {},
   "outputs": [
    {
     "ename": "NameError",
     "evalue": "name 'dispositives1' is not defined",
     "output_type": "error",
     "traceback": [
      "\u001b[0;31m---------------------------------------------------------------------------\u001b[0m",
      "\u001b[0;31mNameError\u001b[0m                                 Traceback (most recent call last)",
      "\u001b[0;32m<ipython-input-1-9313fdef3b67>\u001b[0m in \u001b[0;36m<module>\u001b[0;34m\u001b[0m\n\u001b[0;32m----> 1\u001b[0;31m \u001b[0mdispositives1\u001b[0m\u001b[0;34m.\u001b[0m\u001b[0mkeys\u001b[0m\u001b[0;34m\u001b[0m\u001b[0;34m\u001b[0m\u001b[0m\n\u001b[0m",
      "\u001b[0;31mNameError\u001b[0m: name 'dispositives1' is not defined"
     ]
    }
   ],
   "source": [
    "dispositives1.keys"
   ]
  },
  {
   "cell_type": "code",
   "execution_count": 221,
   "id": "5ae6c345",
   "metadata": {},
   "outputs": [],
   "source": [
    "dispositives1.to_csv('/mnt/c/Ironhack/Material/Repositorio/Final/data/output/dispositives.csv', index=False)"
   ]
  },
  {
   "cell_type": "code",
   "execution_count": 5,
   "id": "8f46b849",
   "metadata": {},
   "outputs": [],
   "source": [
    "dispositives1 = pd.read_csv('/mnt/c/Ironhack/Material/Repositorio/Final/data/output/dispositives.csv')"
   ]
  },
  {
   "cell_type": "code",
   "execution_count": 8,
   "id": "7f3f12b4",
   "metadata": {},
   "outputs": [
    {
     "data": {
      "text/html": [
       "<div>\n",
       "<style scoped>\n",
       "    .dataframe tbody tr th:only-of-type {\n",
       "        vertical-align: middle;\n",
       "    }\n",
       "\n",
       "    .dataframe tbody tr th {\n",
       "        vertical-align: top;\n",
       "    }\n",
       "\n",
       "    .dataframe thead th {\n",
       "        text-align: right;\n",
       "    }\n",
       "</style>\n",
       "<table border=\"1\" class=\"dataframe\">\n",
       "  <thead>\n",
       "    <tr style=\"text-align: right;\">\n",
       "      <th></th>\n",
       "      <th>Gaia ID</th>\n",
       "      <th>Activity Timestamp</th>\n",
       "      <th>IP Address</th>\n",
       "      <th>Activity Country</th>\n",
       "      <th>Activity Region</th>\n",
       "      <th>Activity City</th>\n",
       "      <th>User Agent String</th>\n",
       "      <th>Product Name</th>\n",
       "      <th>Sub-Product Name</th>\n",
       "      <th>Device Type</th>\n",
       "      <th>...</th>\n",
       "      <th>OS</th>\n",
       "      <th>OS Version</th>\n",
       "      <th>Model</th>\n",
       "      <th>Device Last Location</th>\n",
       "      <th>From</th>\n",
       "      <th>Title</th>\n",
       "      <th>InstallationTime</th>\n",
       "      <th>CarrierName</th>\n",
       "      <th>Manufacturer</th>\n",
       "      <th>UpdateTime</th>\n",
       "    </tr>\n",
       "  </thead>\n",
       "  <tbody>\n",
       "    <tr>\n",
       "      <th>0</th>\n",
       "      <td>907204290308</td>\n",
       "      <td>2021-12-05 07:57:48 UTC</td>\n",
       "      <td>89.130.89.27</td>\n",
       "      <td>es</td>\n",
       "      <td>community of madrid</td>\n",
       "      <td>alcobendas</td>\n",
       "      <td>Android-Gmail/62948716 (sw360dp; 320dpi) (H331...</td>\n",
       "      <td>Gmail</td>\n",
       "      <td>Other</td>\n",
       "      <td>MOBILE</td>\n",
       "      <td>...</td>\n",
       "      <td>Android</td>\n",
       "      <td>7.1.1</td>\n",
       "      <td>H3311</td>\n",
       "      <td>Country ISO: ES\\nLast Activity Time: 2021-12-0...</td>\n",
       "      <td>Android Apps</td>\n",
       "      <td>Meep - Rutas personalizadas</td>\n",
       "      <td>2021-05-21T15:37:51.377431Z</td>\n",
       "      <td>Orange</td>\n",
       "      <td>Sony</td>\n",
       "      <td>2021-11-29T10:23:41.762880Z</td>\n",
       "    </tr>\n",
       "  </tbody>\n",
       "</table>\n",
       "<p>1 rows × 22 columns</p>\n",
       "</div>"
      ],
      "text/plain": [
       "        Gaia ID       Activity Timestamp    IP Address Activity Country  \\\n",
       "0  907204290308  2021-12-05 07:57:48 UTC  89.130.89.27               es   \n",
       "\n",
       "       Activity Region Activity City  \\\n",
       "0  community of madrid    alcobendas   \n",
       "\n",
       "                                   User Agent String Product Name  \\\n",
       "0  Android-Gmail/62948716 (sw360dp; 320dpi) (H331...        Gmail   \n",
       "\n",
       "  Sub-Product Name Device Type  ...       OS OS Version  Model  \\\n",
       "0            Other      MOBILE  ...  Android      7.1.1  H3311   \n",
       "\n",
       "                                Device Last Location          From  \\\n",
       "0  Country ISO: ES\\nLast Activity Time: 2021-12-0...  Android Apps   \n",
       "\n",
       "                         Title             InstallationTime CarrierName  \\\n",
       "0  Meep - Rutas personalizadas  2021-05-21T15:37:51.377431Z      Orange   \n",
       "\n",
       "  Manufacturer                   UpdateTime  \n",
       "0         Sony  2021-11-29T10:23:41.762880Z  \n",
       "\n",
       "[1 rows x 22 columns]"
      ]
     },
     "execution_count": 8,
     "metadata": {},
     "output_type": "execute_result"
    }
   ],
   "source": [
    "dispositives1.head(1)"
   ]
  },
  {
   "cell_type": "code",
   "execution_count": 222,
   "id": "c928d786",
   "metadata": {},
   "outputs": [
    {
     "data": {
      "text/plain": [
       "(1989933, 22)"
      ]
     },
     "execution_count": 222,
     "metadata": {},
     "output_type": "execute_result"
    }
   ],
   "source": [
    "dispositives1.shape"
   ]
  },
  {
   "cell_type": "markdown",
   "id": "18407a6e",
   "metadata": {},
   "source": [
    "### 4 - music"
   ]
  },
  {
   "cell_type": "code",
   "execution_count": 161,
   "id": "6c46d5a5",
   "metadata": {},
   "outputs": [
    {
     "data": {
      "text/html": [
       "<div>\n",
       "<style scoped>\n",
       "    .dataframe tbody tr th:only-of-type {\n",
       "        vertical-align: middle;\n",
       "    }\n",
       "\n",
       "    .dataframe tbody tr th {\n",
       "        vertical-align: top;\n",
       "    }\n",
       "\n",
       "    .dataframe thead th {\n",
       "        text-align: right;\n",
       "    }\n",
       "</style>\n",
       "<table border=\"1\" class=\"dataframe\">\n",
       "  <thead>\n",
       "    <tr style=\"text-align: right;\">\n",
       "      <th></th>\n",
       "      <th>URL de la canción</th>\n",
       "      <th>Título de la canción</th>\n",
       "      <th>Título del álbum</th>\n",
       "      <th>Nombre de los artistas</th>\n",
       "    </tr>\n",
       "  </thead>\n",
       "  <tbody>\n",
       "    <tr>\n",
       "      <th>0</th>\n",
       "      <td>music.youtube.com/watch?v=6xzN8Nt0Pok</td>\n",
       "      <td>I Wanna Dance with Somebody (Who Loves Me)</td>\n",
       "      <td>Whitney</td>\n",
       "      <td>Whitney Houston</td>\n",
       "    </tr>\n",
       "    <tr>\n",
       "      <th>1</th>\n",
       "      <td>music.youtube.com/watch?v=ojx78Bawl1M</td>\n",
       "      <td>Tuxedo Junction</td>\n",
       "      <td>The Age Of Swing</td>\n",
       "      <td>The BBC Big Band Orchestra</td>\n",
       "    </tr>\n",
       "    <tr>\n",
       "      <th>2</th>\n",
       "      <td>music.youtube.com/watch?v=cnRB2CgUpSw</td>\n",
       "      <td>Whatever It Takes</td>\n",
       "      <td>Evolve</td>\n",
       "      <td>Imagine Dragons</td>\n",
       "    </tr>\n",
       "  </tbody>\n",
       "</table>\n",
       "</div>"
      ],
      "text/plain": [
       "                       URL de la canción  \\\n",
       "0  music.youtube.com/watch?v=6xzN8Nt0Pok   \n",
       "1  music.youtube.com/watch?v=ojx78Bawl1M   \n",
       "2  music.youtube.com/watch?v=cnRB2CgUpSw   \n",
       "\n",
       "                         Título de la canción  Título del álbum  \\\n",
       "0  I Wanna Dance with Somebody (Who Loves Me)           Whitney   \n",
       "1                             Tuxedo Junction  The Age Of Swing   \n",
       "2                           Whatever It Takes            Evolve   \n",
       "\n",
       "       Nombre de los artistas  \n",
       "0             Whitney Houston  \n",
       "1  The BBC Big Band Orchestra  \n",
       "2             Imagine Dragons  "
      ]
     },
     "execution_count": 161,
     "metadata": {},
     "output_type": "execute_result"
    }
   ],
   "source": [
    "youtube_music.head()"
   ]
  },
  {
   "cell_type": "code",
   "execution_count": 116,
   "id": "7dfe3b1f",
   "metadata": {},
   "outputs": [],
   "source": [
    "youtube_music.to_csv('/mnt/c/Ironhack/Material/Repositorio/Final/data/output/music.csv', index=False)"
   ]
  },
  {
   "cell_type": "markdown",
   "id": "500c0ccb",
   "metadata": {},
   "source": [
    "### 5 - history"
   ]
  },
  {
   "cell_type": "code",
   "execution_count": 238,
   "id": "11387c40",
   "metadata": {},
   "outputs": [
    {
     "data": {
      "text/html": [
       "<div>\n",
       "<style scoped>\n",
       "    .dataframe tbody tr th:only-of-type {\n",
       "        vertical-align: middle;\n",
       "    }\n",
       "\n",
       "    .dataframe tbody tr th {\n",
       "        vertical-align: top;\n",
       "    }\n",
       "\n",
       "    .dataframe thead th {\n",
       "        text-align: right;\n",
       "    }\n",
       "</style>\n",
       "<table border=\"1\" class=\"dataframe\">\n",
       "  <thead>\n",
       "    <tr style=\"text-align: right;\">\n",
       "      <th></th>\n",
       "      <th>page_transition</th>\n",
       "      <th>title</th>\n",
       "      <th>url</th>\n",
       "      <th>client_id</th>\n",
       "      <th>time_usec</th>\n",
       "    </tr>\n",
       "  </thead>\n",
       "  <tbody>\n",
       "    <tr>\n",
       "      <th>0</th>\n",
       "      <td>LINK</td>\n",
       "      <td>Horarios de autobús 151: Madrid (Plaza Castill...</td>\n",
       "      <td>https://www.redtransporte.com/madrid/autobuses...</td>\n",
       "      <td>x6cQo08w9vTcM7buu4Mugg==</td>\n",
       "      <td>1638781091719312</td>\n",
       "    </tr>\n",
       "    <tr>\n",
       "      <th>1</th>\n",
       "      <td>LINK</td>\n",
       "      <td>Noticias sobre transporte público de Madrid</td>\n",
       "      <td>https://www.redtransporte.com/madrid/noticias....</td>\n",
       "      <td>x6cQo08w9vTcM7buu4Mugg==</td>\n",
       "      <td>1638781063045635</td>\n",
       "    </tr>\n",
       "    <tr>\n",
       "      <th>2</th>\n",
       "      <td>LINK</td>\n",
       "      <td>Horarios de autobús 151: Madrid (Plaza Castill...</td>\n",
       "      <td>https://www.redtransporte.com/madrid/autobuses...</td>\n",
       "      <td>x6cQo08w9vTcM7buu4Mugg==</td>\n",
       "      <td>1638781050258255</td>\n",
       "    </tr>\n",
       "  </tbody>\n",
       "</table>\n",
       "</div>"
      ],
      "text/plain": [
       "  page_transition                                              title  \\\n",
       "0            LINK  Horarios de autobús 151: Madrid (Plaza Castill...   \n",
       "1            LINK        Noticias sobre transporte público de Madrid   \n",
       "2            LINK  Horarios de autobús 151: Madrid (Plaza Castill...   \n",
       "\n",
       "                                                 url  \\\n",
       "0  https://www.redtransporte.com/madrid/autobuses...   \n",
       "1  https://www.redtransporte.com/madrid/noticias....   \n",
       "2  https://www.redtransporte.com/madrid/autobuses...   \n",
       "\n",
       "                  client_id         time_usec  \n",
       "0  x6cQo08w9vTcM7buu4Mugg==  1638781091719312  \n",
       "1  x6cQo08w9vTcM7buu4Mugg==  1638781063045635  \n",
       "2  x6cQo08w9vTcM7buu4Mugg==  1638781050258255  "
      ]
     },
     "execution_count": 238,
     "metadata": {},
     "output_type": "execute_result"
    }
   ],
   "source": [
    "chrome_browser_history.head(3)"
   ]
  },
  {
   "cell_type": "code",
   "execution_count": 239,
   "id": "b5c06654",
   "metadata": {},
   "outputs": [],
   "source": [
    "chrome_browser_history.to_csv('/mnt/c/Ironhack/Material/Repositorio/Final/data/output/history.csv', index=False)"
   ]
  },
  {
   "cell_type": "markdown",
   "id": "3f1ffed0",
   "metadata": {},
   "source": [
    "### 6 - favorites"
   ]
  },
  {
   "cell_type": "code",
   "execution_count": 236,
   "id": "f8225d47",
   "metadata": {},
   "outputs": [
    {
     "data": {
      "text/html": [
       "<div>\n",
       "<style scoped>\n",
       "    .dataframe tbody tr th:only-of-type {\n",
       "        vertical-align: middle;\n",
       "    }\n",
       "\n",
       "    .dataframe tbody tr th {\n",
       "        vertical-align: top;\n",
       "    }\n",
       "\n",
       "    .dataframe thead th {\n",
       "        text-align: right;\n",
       "    }\n",
       "</style>\n",
       "<table border=\"1\" class=\"dataframe\">\n",
       "  <thead>\n",
       "    <tr style=\"text-align: right;\">\n",
       "      <th></th>\n",
       "      <th>url</th>\n",
       "      <th>date</th>\n",
       "    </tr>\n",
       "  </thead>\n",
       "  <tbody>\n",
       "    <tr>\n",
       "      <th>0</th>\n",
       "      <td>https://www.institutoeuropeo.net/home/</td>\n",
       "      <td>13212144642644231</td>\n",
       "    </tr>\n",
       "    <tr>\n",
       "      <th>1</th>\n",
       "      <td>https://learndigital.withgoogle.com/activate/p...</td>\n",
       "      <td>13213188272419415</td>\n",
       "    </tr>\n",
       "    <tr>\n",
       "      <th>2</th>\n",
       "      <td>https://www.open.edu/openlearncreate/course/vi...</td>\n",
       "      <td>13215605874184222</td>\n",
       "    </tr>\n",
       "  </tbody>\n",
       "</table>\n",
       "</div>"
      ],
      "text/plain": [
       "                                                 url               date\n",
       "0             https://www.institutoeuropeo.net/home/  13212144642644231\n",
       "1  https://learndigital.withgoogle.com/activate/p...  13213188272419415\n",
       "2  https://www.open.edu/openlearncreate/course/vi...  13215605874184222"
      ]
     },
     "execution_count": 236,
     "metadata": {},
     "output_type": "execute_result"
    }
   ],
   "source": [
    "df_chrome_bookmarks.head(3)"
   ]
  },
  {
   "cell_type": "code",
   "execution_count": 237,
   "id": "833059f7",
   "metadata": {},
   "outputs": [],
   "source": [
    "df_chrome_bookmarks.to_csv('/mnt/c/Ironhack/Material/Repositorio/Final/data/output/favorites.csv', index=False)"
   ]
  },
  {
   "cell_type": "markdown",
   "id": "29f9be30",
   "metadata": {},
   "source": [
    "### 7 - locations"
   ]
  },
  {
   "cell_type": "code",
   "execution_count": 57,
   "id": "a601d54f",
   "metadata": {},
   "outputs": [
    {
     "data": {
      "text/html": [
       "<div>\n",
       "<style scoped>\n",
       "    .dataframe tbody tr th:only-of-type {\n",
       "        vertical-align: middle;\n",
       "    }\n",
       "\n",
       "    .dataframe tbody tr th {\n",
       "        vertical-align: top;\n",
       "    }\n",
       "\n",
       "    .dataframe thead th {\n",
       "        text-align: right;\n",
       "    }\n",
       "</style>\n",
       "<table border=\"1\" class=\"dataframe\">\n",
       "  <thead>\n",
       "    <tr style=\"text-align: right;\">\n",
       "      <th></th>\n",
       "      <th>coordinates</th>\n",
       "      <th>name</th>\n",
       "      <th>address</th>\n",
       "    </tr>\n",
       "  </thead>\n",
       "  <tbody>\n",
       "    <tr>\n",
       "      <th>0</th>\n",
       "      <td>[-3.6396805999999997, 40.5392152]</td>\n",
       "      <td>Casa</td>\n",
       "      <td>Calle del Pintor Murillo, 4, 28100 Alcobendas,...</td>\n",
       "    </tr>\n",
       "    <tr>\n",
       "      <th>1</th>\n",
       "      <td>[-3.7046802, 40.4792542]</td>\n",
       "      <td>Trabajo</td>\n",
       "      <td>Av. de Monforte de Lemos, Madrid, España</td>\n",
       "    </tr>\n",
       "  </tbody>\n",
       "</table>\n",
       "</div>"
      ],
      "text/plain": [
       "                         coordinates     name  \\\n",
       "0  [-3.6396805999999997, 40.5392152]     Casa   \n",
       "1           [-3.7046802, 40.4792542]  Trabajo   \n",
       "\n",
       "                                             address  \n",
       "0  Calle del Pintor Murillo, 4, 28100 Alcobendas,...  \n",
       "1           Av. de Monforte de Lemos, Madrid, España  "
      ]
     },
     "execution_count": 57,
     "metadata": {},
     "output_type": "execute_result"
    }
   ],
   "source": [
    "df_maps_favorites.head()"
   ]
  },
  {
   "cell_type": "code",
   "execution_count": 58,
   "id": "589baf5c",
   "metadata": {},
   "outputs": [
    {
     "data": {
      "text/html": [
       "<div>\n",
       "<style scoped>\n",
       "    .dataframe tbody tr th:only-of-type {\n",
       "        vertical-align: middle;\n",
       "    }\n",
       "\n",
       "    .dataframe tbody tr th {\n",
       "        vertical-align: top;\n",
       "    }\n",
       "\n",
       "    .dataframe thead th {\n",
       "        text-align: right;\n",
       "    }\n",
       "</style>\n",
       "<table border=\"1\" class=\"dataframe\">\n",
       "  <thead>\n",
       "    <tr style=\"text-align: right;\">\n",
       "      <th></th>\n",
       "      <th>coordinates</th>\n",
       "      <th>address</th>\n",
       "      <th>name</th>\n",
       "      <th>date</th>\n",
       "    </tr>\n",
       "  </thead>\n",
       "  <tbody>\n",
       "    <tr>\n",
       "      <th>0</th>\n",
       "      <td>[10.7349734, 59.9179351]</td>\n",
       "      <td>St. Olavs Gate 31, 0166 Oslo, Noruega</td>\n",
       "      <td>Thon Hotel Europa</td>\n",
       "      <td>2019-09-26T10:57:03Z</td>\n",
       "    </tr>\n",
       "    <tr>\n",
       "      <th>1</th>\n",
       "      <td>[10.7339016, 59.9185713]</td>\n",
       "      <td>Holbergs gate 30, 0166 Oslo, Noruega</td>\n",
       "      <td>Radisson Blu Scandinavia Hotel, Oslo</td>\n",
       "      <td>2019-09-26T10:56:31Z</td>\n",
       "    </tr>\n",
       "    <tr>\n",
       "      <th>2</th>\n",
       "      <td>[10.7367862, 59.9177177]</td>\n",
       "      <td>St. Olavs Gate 26, 0166 Oslo, Noruega</td>\n",
       "      <td>Smarthotel Oslo</td>\n",
       "      <td>2019-09-26T10:56:04Z</td>\n",
       "    </tr>\n",
       "    <tr>\n",
       "      <th>3</th>\n",
       "      <td>[10.748712, 59.9106631]</td>\n",
       "      <td>Fred Olsens gate 11, 0152 Oslo, Noruega</td>\n",
       "      <td>Comfort Hotel Xpress Central Station</td>\n",
       "      <td>2019-09-26T10:55:37Z</td>\n",
       "    </tr>\n",
       "    <tr>\n",
       "      <th>4</th>\n",
       "      <td>[10.7165944, 59.9421593]</td>\n",
       "      <td>Forskningsparken Aksjeselskap, Gaustadalléen 2...</td>\n",
       "      <td>Forskningsparken - Oslo Science Park</td>\n",
       "      <td>2019-09-26T10:54:41Z</td>\n",
       "    </tr>\n",
       "  </tbody>\n",
       "</table>\n",
       "</div>"
      ],
      "text/plain": [
       "                coordinates  \\\n",
       "0  [10.7349734, 59.9179351]   \n",
       "1  [10.7339016, 59.9185713]   \n",
       "2  [10.7367862, 59.9177177]   \n",
       "3   [10.748712, 59.9106631]   \n",
       "4  [10.7165944, 59.9421593]   \n",
       "\n",
       "                                             address  \\\n",
       "0              St. Olavs Gate 31, 0166 Oslo, Noruega   \n",
       "1               Holbergs gate 30, 0166 Oslo, Noruega   \n",
       "2              St. Olavs Gate 26, 0166 Oslo, Noruega   \n",
       "3            Fred Olsens gate 11, 0152 Oslo, Noruega   \n",
       "4  Forskningsparken Aksjeselskap, Gaustadalléen 2...   \n",
       "\n",
       "                                   name                  date  \n",
       "0                     Thon Hotel Europa  2019-09-26T10:57:03Z  \n",
       "1  Radisson Blu Scandinavia Hotel, Oslo  2019-09-26T10:56:31Z  \n",
       "2                       Smarthotel Oslo  2019-09-26T10:56:04Z  \n",
       "3  Comfort Hotel Xpress Central Station  2019-09-26T10:55:37Z  \n",
       "4  Forskningsparken - Oslo Science Park  2019-09-26T10:54:41Z  "
      ]
     },
     "execution_count": 58,
     "metadata": {},
     "output_type": "execute_result"
    }
   ],
   "source": [
    "df_maps_own_sites.head()"
   ]
  },
  {
   "cell_type": "code",
   "execution_count": 59,
   "id": "70dce53e",
   "metadata": {},
   "outputs": [],
   "source": [
    "temp = pd.concat([df_maps_favorites, df_maps_own_sites])"
   ]
  },
  {
   "cell_type": "code",
   "execution_count": 61,
   "id": "b790c2f1",
   "metadata": {},
   "outputs": [
    {
     "data": {
      "text/html": [
       "<div>\n",
       "<style scoped>\n",
       "    .dataframe tbody tr th:only-of-type {\n",
       "        vertical-align: middle;\n",
       "    }\n",
       "\n",
       "    .dataframe tbody tr th {\n",
       "        vertical-align: top;\n",
       "    }\n",
       "\n",
       "    .dataframe thead th {\n",
       "        text-align: right;\n",
       "    }\n",
       "</style>\n",
       "<table border=\"1\" class=\"dataframe\">\n",
       "  <thead>\n",
       "    <tr style=\"text-align: right;\">\n",
       "      <th></th>\n",
       "      <th>coordinates</th>\n",
       "      <th>name</th>\n",
       "      <th>address</th>\n",
       "      <th>date</th>\n",
       "    </tr>\n",
       "  </thead>\n",
       "  <tbody>\n",
       "    <tr>\n",
       "      <th>0</th>\n",
       "      <td>[-3.6396805999999997, 40.5392152]</td>\n",
       "      <td>Casa</td>\n",
       "      <td>Calle del Pintor Murillo, 4, 28100 Alcobendas,...</td>\n",
       "      <td>NaN</td>\n",
       "    </tr>\n",
       "    <tr>\n",
       "      <th>1</th>\n",
       "      <td>[-3.7046802, 40.4792542]</td>\n",
       "      <td>Trabajo</td>\n",
       "      <td>Av. de Monforte de Lemos, Madrid, España</td>\n",
       "      <td>NaN</td>\n",
       "    </tr>\n",
       "    <tr>\n",
       "      <th>0</th>\n",
       "      <td>[10.7349734, 59.9179351]</td>\n",
       "      <td>Thon Hotel Europa</td>\n",
       "      <td>St. Olavs Gate 31, 0166 Oslo, Noruega</td>\n",
       "      <td>2019-09-26T10:57:03Z</td>\n",
       "    </tr>\n",
       "    <tr>\n",
       "      <th>1</th>\n",
       "      <td>[10.7339016, 59.9185713]</td>\n",
       "      <td>Radisson Blu Scandinavia Hotel, Oslo</td>\n",
       "      <td>Holbergs gate 30, 0166 Oslo, Noruega</td>\n",
       "      <td>2019-09-26T10:56:31Z</td>\n",
       "    </tr>\n",
       "    <tr>\n",
       "      <th>2</th>\n",
       "      <td>[10.7367862, 59.9177177]</td>\n",
       "      <td>Smarthotel Oslo</td>\n",
       "      <td>St. Olavs Gate 26, 0166 Oslo, Noruega</td>\n",
       "      <td>2019-09-26T10:56:04Z</td>\n",
       "    </tr>\n",
       "    <tr>\n",
       "      <th>3</th>\n",
       "      <td>[10.748712, 59.9106631]</td>\n",
       "      <td>Comfort Hotel Xpress Central Station</td>\n",
       "      <td>Fred Olsens gate 11, 0152 Oslo, Noruega</td>\n",
       "      <td>2019-09-26T10:55:37Z</td>\n",
       "    </tr>\n",
       "    <tr>\n",
       "      <th>4</th>\n",
       "      <td>[10.7165944, 59.9421593]</td>\n",
       "      <td>Forskningsparken - Oslo Science Park</td>\n",
       "      <td>Forskningsparken Aksjeselskap, Gaustadalléen 2...</td>\n",
       "      <td>2019-09-26T10:54:41Z</td>\n",
       "    </tr>\n",
       "  </tbody>\n",
       "</table>\n",
       "</div>"
      ],
      "text/plain": [
       "                         coordinates                                  name  \\\n",
       "0  [-3.6396805999999997, 40.5392152]                                  Casa   \n",
       "1           [-3.7046802, 40.4792542]                               Trabajo   \n",
       "0           [10.7349734, 59.9179351]                     Thon Hotel Europa   \n",
       "1           [10.7339016, 59.9185713]  Radisson Blu Scandinavia Hotel, Oslo   \n",
       "2           [10.7367862, 59.9177177]                       Smarthotel Oslo   \n",
       "3            [10.748712, 59.9106631]  Comfort Hotel Xpress Central Station   \n",
       "4           [10.7165944, 59.9421593]  Forskningsparken - Oslo Science Park   \n",
       "\n",
       "                                             address                  date  \n",
       "0  Calle del Pintor Murillo, 4, 28100 Alcobendas,...                   NaN  \n",
       "1           Av. de Monforte de Lemos, Madrid, España                   NaN  \n",
       "0              St. Olavs Gate 31, 0166 Oslo, Noruega  2019-09-26T10:57:03Z  \n",
       "1               Holbergs gate 30, 0166 Oslo, Noruega  2019-09-26T10:56:31Z  \n",
       "2              St. Olavs Gate 26, 0166 Oslo, Noruega  2019-09-26T10:56:04Z  \n",
       "3            Fred Olsens gate 11, 0152 Oslo, Noruega  2019-09-26T10:55:37Z  \n",
       "4  Forskningsparken Aksjeselskap, Gaustadalléen 2...  2019-09-26T10:54:41Z  "
      ]
     },
     "execution_count": 61,
     "metadata": {},
     "output_type": "execute_result"
    }
   ],
   "source": [
    "temp.head(10)"
   ]
  },
  {
   "cell_type": "code",
   "execution_count": 60,
   "id": "d69e240e",
   "metadata": {},
   "outputs": [],
   "source": [
    "temp.to_csv('/mnt/c/Ironhack/Material/Repositorio/Final/data/output/locations.csv', index=False)"
   ]
  },
  {
   "cell_type": "markdown",
   "id": "f14fd856",
   "metadata": {},
   "source": [
    "### 8 - photos"
   ]
  },
  {
   "cell_type": "code",
   "execution_count": 125,
   "id": "c859959c",
   "metadata": {},
   "outputs": [
    {
     "data": {
      "text/html": [
       "<div>\n",
       "<style scoped>\n",
       "    .dataframe tbody tr th:only-of-type {\n",
       "        vertical-align: middle;\n",
       "    }\n",
       "\n",
       "    .dataframe tbody tr th {\n",
       "        vertical-align: top;\n",
       "    }\n",
       "\n",
       "    .dataframe thead th {\n",
       "        text-align: right;\n",
       "    }\n",
       "</style>\n",
       "<table border=\"1\" class=\"dataframe\">\n",
       "  <thead>\n",
       "    <tr style=\"text-align: right;\">\n",
       "      <th></th>\n",
       "      <th>title</th>\n",
       "      <th>description</th>\n",
       "      <th>imageViews</th>\n",
       "      <th>timestamp</th>\n",
       "    </tr>\n",
       "  </thead>\n",
       "  <tbody>\n",
       "    <tr>\n",
       "      <th>0</th>\n",
       "      <td>IMG_20200709_121740.jpg</td>\n",
       "      <td></td>\n",
       "      <td>7</td>\n",
       "      <td>1594289860</td>\n",
       "    </tr>\n",
       "  </tbody>\n",
       "</table>\n",
       "</div>"
      ],
      "text/plain": [
       "                     title description imageViews   timestamp\n",
       "0  IMG_20200709_121740.jpg                      7  1594289860"
      ]
     },
     "execution_count": 125,
     "metadata": {},
     "output_type": "execute_result"
    }
   ],
   "source": [
    "pics_info_extractor.head()"
   ]
  },
  {
   "cell_type": "code",
   "execution_count": 126,
   "id": "06025a28",
   "metadata": {},
   "outputs": [],
   "source": [
    "pics_info_extractor.to_csv('/mnt/c/Ironhack/Material/Repositorio/Final/data/output/photos.csv', index=False)"
   ]
  },
  {
   "cell_type": "markdown",
   "id": "f2d54be6",
   "metadata": {},
   "source": [
    "### 9 - drive"
   ]
  },
  {
   "cell_type": "code",
   "execution_count": 153,
   "id": "b61ca9fb",
   "metadata": {},
   "outputs": [
    {
     "data": {
      "text/html": [
       "<div>\n",
       "<style scoped>\n",
       "    .dataframe tbody tr th:only-of-type {\n",
       "        vertical-align: middle;\n",
       "    }\n",
       "\n",
       "    .dataframe tbody tr th {\n",
       "        vertical-align: top;\n",
       "    }\n",
       "\n",
       "    .dataframe thead th {\n",
       "        text-align: right;\n",
       "    }\n",
       "</style>\n",
       "<table border=\"1\" class=\"dataframe\">\n",
       "  <thead>\n",
       "    <tr style=\"text-align: right;\">\n",
       "      <th></th>\n",
       "      <th>.pdf</th>\n",
       "      <th>.docx</th>\n",
       "      <th></th>\n",
       "      <th>.mp3</th>\n",
       "      <th>.txt</th>\n",
       "      <th>.doc</th>\n",
       "      <th>.zip</th>\n",
       "      <th>.xls</th>\n",
       "      <th>.xlsx</th>\n",
       "      <th>.JPG</th>\n",
       "      <th>.pptx</th>\n",
       "      <th>.mp4</th>\n",
       "      <th>.html</th>\n",
       "      <th>.kmz</th>\n",
       "      <th>.flv</th>\n",
       "    </tr>\n",
       "  </thead>\n",
       "  <tbody>\n",
       "    <tr>\n",
       "      <th>0</th>\n",
       "      <td>6</td>\n",
       "      <td>2</td>\n",
       "      <td>18</td>\n",
       "      <td>9</td>\n",
       "      <td>1</td>\n",
       "      <td>1</td>\n",
       "      <td>1</td>\n",
       "      <td>1</td>\n",
       "      <td>5</td>\n",
       "      <td>1</td>\n",
       "      <td>3</td>\n",
       "      <td>5</td>\n",
       "      <td>1</td>\n",
       "      <td>1</td>\n",
       "      <td>1</td>\n",
       "    </tr>\n",
       "  </tbody>\n",
       "</table>\n",
       "</div>"
      ],
      "text/plain": [
       "   .pdf  .docx      .mp3  .txt  .doc  .zip  .xls  .xlsx  .JPG  .pptx  .mp4  \\\n",
       "0     6      2  18     9     1     1     1     1      5     1      3     5   \n",
       "\n",
       "   .html  .kmz  .flv  \n",
       "0      1     1     1  "
      ]
     },
     "execution_count": 153,
     "metadata": {},
     "output_type": "execute_result"
    }
   ],
   "source": [
    "drive_counter.head()"
   ]
  },
  {
   "cell_type": "code",
   "execution_count": 155,
   "id": "069adaa0",
   "metadata": {},
   "outputs": [],
   "source": [
    "drive_counter.to_csv('/mnt/c/Ironhack/Material/Repositorio/Final/data/output/drive.csv', index=False)"
   ]
  },
  {
   "cell_type": "markdown",
   "id": "7a4f2ef0",
   "metadata": {},
   "source": [
    "### 10 - mail"
   ]
  },
  {
   "cell_type": "code",
   "execution_count": 177,
   "id": "4cde042f",
   "metadata": {},
   "outputs": [
    {
     "data": {
      "text/html": [
       "<div>\n",
       "<style scoped>\n",
       "    .dataframe tbody tr th:only-of-type {\n",
       "        vertical-align: middle;\n",
       "    }\n",
       "\n",
       "    .dataframe tbody tr th {\n",
       "        vertical-align: top;\n",
       "    }\n",
       "\n",
       "    .dataframe thead th {\n",
       "        text-align: right;\n",
       "    }\n",
       "</style>\n",
       "<table border=\"1\" class=\"dataframe\">\n",
       "  <thead>\n",
       "    <tr style=\"text-align: right;\">\n",
       "      <th></th>\n",
       "      <th>from</th>\n",
       "      <th>to</th>\n",
       "      <th>Subject</th>\n",
       "      <th>labels</th>\n",
       "      <th>thread</th>\n",
       "      <th>Time</th>\n",
       "      <th>date</th>\n",
       "      <th>body</th>\n",
       "      <th>quarter</th>\n",
       "    </tr>\n",
       "  </thead>\n",
       "  <tbody>\n",
       "    <tr>\n",
       "      <th>0</th>\n",
       "      <td>provomad@cruzroja.es</td>\n",
       "      <td>jrdiazordaz03@gmail.com</td>\n",
       "      <td>III Jornadas Creando igualdad: di���logos con ...</td>\n",
       "      <td>Recibidos,Abierto</td>\n",
       "      <td>1718080706845359492</td>\n",
       "      <td>00:57:23</td>\n",
       "      <td>2021-12-03</td>\n",
       "      <td>estimado jose ramon:    los próximos días 14...</td>\n",
       "      <td>FA</td>\n",
       "    </tr>\n",
       "  </tbody>\n",
       "</table>\n",
       "</div>"
      ],
      "text/plain": [
       "                   from                       to  \\\n",
       "0  provomad@cruzroja.es  jrdiazordaz03@gmail.com   \n",
       "\n",
       "                                             Subject             labels  \\\n",
       "0  III Jornadas Creando igualdad: di���logos con ...  Recibidos,Abierto   \n",
       "\n",
       "                thread       Time       date  \\\n",
       "0  1718080706845359492  00:57:23  2021-12-03   \n",
       "\n",
       "                                                body quarter  \n",
       "0  estimado jose ramon:    los próximos días 14...      FA  "
      ]
     },
     "execution_count": 177,
     "metadata": {},
     "output_type": "execute_result"
    }
   ],
   "source": [
    "mail.head(1)"
   ]
  },
  {
   "cell_type": "code",
   "execution_count": 178,
   "id": "10e756ca",
   "metadata": {},
   "outputs": [],
   "source": [
    "mail.to_csv('/mnt/c/Ironhack/Material/Repositorio/Final/data/output/mail.csv', index=False)"
   ]
  }
 ],
 "metadata": {
  "kernelspec": {
   "display_name": "ironhack",
   "language": "python",
   "name": "ironhack"
  },
  "language_info": {
   "codemirror_mode": {
    "name": "ipython",
    "version": 3
   },
   "file_extension": ".py",
   "mimetype": "text/x-python",
   "name": "python",
   "nbconvert_exporter": "python",
   "pygments_lexer": "ipython3",
   "version": "3.8.8"
  }
 },
 "nbformat": 4,
 "nbformat_minor": 5
}
